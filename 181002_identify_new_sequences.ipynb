{
 "cells": [
  {
   "cell_type": "code",
   "execution_count": 6,
   "metadata": {},
   "outputs": [],
   "source": [
    "from hydraseq import Hydraseq\n",
    "from phrase_entity_encoder import encoder\n",
    "import field_validate_transform_address as fvta\n",
    "\n",
    "seq = fvta.Sequencer()\n",
    "\n",
    "lst = seq.tokenize_to_list(\"THis ia a list\")\n",
    "seq.encode_from_word_list(lst)\n",
    "\n",
    "! ls data/known_good/\n",
    "source_file = 'eighty_k_good_street_and_po_samples.csv'\n",
    "target_file = '{}_with_sequence.csv'.format(source_file)\n",
    "adfile = 'data/known_good/{}'.format(source_file)\n",
    "\n",
    "with open(adfile, 'r') as source, open(target_file, 'w') as target:\n",
    "    for idx, line in enumerate(source):\n",
    "        lst = seq.tokenize_to_list(line.lower())\n",
    "        sequence = seq.encode_from_word_list(lst)\n",
    "        #print(sequence)\n",
    "        target.write('\"{}\",\"{}\"\\n'.format(line, str(sequence)))\n",
    "#         if idx == 100:\n",
    "#             break\n",
    "        \n",
    "print(\"ALL DONE!\")\n",
    "\n",
    "! open {target_file}"
   ]
  }
 ],
 "metadata": {
  "kernelspec": {
   "display_name": "Python 3",
   "language": "python",
   "name": "python3"
  },
  "language_info": {
   "codemirror_mode": {
    "name": "ipython",
    "version": 3
   },
   "file_extension": ".py",
   "mimetype": "text/x-python",
   "name": "python",
   "nbconvert_exporter": "python",
   "pygments_lexer": "ipython3",
   "version": "3.4.3"
  }
 },
 "nbformat": 4,
 "nbformat_minor": 2
}
