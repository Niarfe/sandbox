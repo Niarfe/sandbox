{
 "cells": [
  {
   "cell_type": "code",
   "execution_count": 55,
   "metadata": {},
   "outputs": [],
   "source": [
    "import phrase_entity_extraction as ph\n",
    "import pandas as pd"
   ]
  },
  {
   "cell_type": "code",
   "execution_count": 56,
   "metadata": {},
   "outputs": [],
   "source": [
    "df = pd.read_csv('eightyk_non_good_mostly_extraction_needed.csv')"
   ]
  },
  {
   "cell_type": "code",
   "execution_count": 57,
   "metadata": {},
   "outputs": [],
   "source": [
    "def separate_returns(row):\n",
    "    best_fits = ph.return_best_fit(ph.seq, row['ADDRESSES'])\n",
    "    best_fits = eval(str(best_fits))\n",
    "    for category in ['ADDRESS', 'POBOX', 'SUITE', 'ATTN']:\n",
    "        found_entity = next(\n",
    "            (fit[4] for fit in best_fits if fit and fit[3][0] == category),\n",
    "            '') if best_fits else 'xx'\n",
    "        row[category] = found_entity.upper()\n",
    "    row['BEST FIT'] = str(best_fits)\n",
    "    return row"
   ]
  },
  {
   "cell_type": "code",
   "execution_count": 58,
   "metadata": {},
   "outputs": [],
   "source": [
    "df = df.apply(separate_returns, axis=1)"
   ]
  },
  {
   "cell_type": "code",
   "execution_count": 59,
   "metadata": {},
   "outputs": [],
   "source": [
    "df.to_csv(\"eightyk_non_good_best_fits.csv\")\n",
    "! open eightyk_non_good_best_fits.csv"
   ]
  }
 ],
 "metadata": {
  "kernelspec": {
   "display_name": "Python 3",
   "language": "python",
   "name": "python3"
  },
  "language_info": {
   "codemirror_mode": {
    "name": "ipython",
    "version": 3
   },
   "file_extension": ".py",
   "mimetype": "text/x-python",
   "name": "python",
   "nbconvert_exporter": "python",
   "pygments_lexer": "ipython3",
   "version": "3.4.3"
  }
 },
 "nbformat": 4,
 "nbformat_minor": 2
}
