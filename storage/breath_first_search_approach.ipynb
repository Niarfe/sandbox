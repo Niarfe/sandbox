{
 "cells": [
  {
   "cell_type": "code",
   "execution_count": 1,
   "metadata": {},
   "outputs": [],
   "source": [
    "import phrase_entity_extraction as ph"
   ]
  },
  {
   "cell_type": "code",
   "execution_count": 2,
   "metadata": {},
   "outputs": [
    {
     "name": "stdout",
     "output_type": "stream",
     "text": [
      "\n",
      "## ************** NOT THE SAME!!!! *********************##\n",
      "\n",
      "Max Address:  2724 carl t \n",
      "\n",
      "WORD ARRAY:  ['2724', 'carl', 't', 'jones', 'dr', 'se'] \n",
      "\n",
      "ENCODING:  [['DIGIT', 'ADR_HEAD'], ['ALPHA'], ['LETTER'], ['ALPHA'], ['WAY'], ['DIR']]\n",
      "\n",
      "\n",
      "2724 CARL T JONES DR SE,\"[['DIGIT', 'ADR_HEAD'], ['ALPHA'], ['LETTER'], ['ALPHA'], ['WAY'], ['DIR']]\"\n"
     ]
    }
   ],
   "source": [
    "sent = \"\"\"2724 CARL T JONES DR SE\"\"\".lower() \n",
    "\n",
    "max_address = ph.return_max_address4(ph.seq, sent)\n",
    "if sent.upper().strip() == max_address.upper().strip():\n",
    "    print(\"ALL GOOD!\")\n",
    "else:\n",
    "    print()\n",
    "    print(\"## ************** NOT THE SAME!!!! *********************##\\n\")\n",
    "encoding = ph.encode_from_word_list(ph.w(sent))\n",
    "print(\"Max Address: \", max_address, \"\\n\\nWORD ARRAY: \", ph.w(sent), \"\\n\\nENCODING: \", encoding)\n",
    "print('\\n\\n{},\"{}\"'.format(sent.upper(), encoding))"
   ]
  },
  {
   "cell_type": "code",
   "execution_count": 3,
   "metadata": {},
   "outputs": [
    {
     "data": {
      "text/plain": [
       "[]"
      ]
     },
     "execution_count": 3,
     "metadata": {},
     "output_type": "execute_result"
    }
   ],
   "source": [
    "ph.seq.look_ahead(ph.encode_from_word_list(ph.w(sent.lower()))).get_active_sequences()"
   ]
  },
  {
   "cell_type": "code",
   "execution_count": 4,
   "metadata": {},
   "outputs": [
    {
     "data": {
      "text/plain": [
       "[]"
      ]
     },
     "execution_count": 4,
     "metadata": {},
     "output_type": "execute_result"
    }
   ],
   "source": [
    "ph.seq.look_ahead(ph.encode_from_word_list(ph.w(sent.lower()))).get_next_values()"
   ]
  },
  {
   "cell_type": "code",
   "execution_count": 5,
   "metadata": {},
   "outputs": [
    {
     "data": {
      "text/plain": [
       "[[0, 1, 1, ['_SUITE_'], '2724'],\n",
       " [0, 2, 2, ['_ADDRESS_'], '2724 carl'],\n",
       " [0, 5, 5, ['_ADDRESS_'], '2724 carl t jones dr'],\n",
       " [2, 3, 1, ['_SUITE_'], 't'],\n",
       " [5, 6, 1, ['_DIR_'], 'se']]"
      ]
     },
     "execution_count": 5,
     "metadata": {},
     "output_type": "execute_result"
    }
   ],
   "source": [
    "markers = ph.get_markers(ph.seq, sent, ['_ADDRESS_', '_POBOX_', '_SUITE_', '_DIR_'])\n",
    "markers"
   ]
  },
  {
   "cell_type": "code",
   "execution_count": 6,
   "metadata": {},
   "outputs": [
    {
     "name": "stdout",
     "output_type": "stream",
     "text": [
      "BRANCH:\n",
      "[[0, 2, 2, ['_SUITE_'], 'apt 10']]\n",
      "\n",
      "ALL BRANCHES:\n",
      "[[0, 1, 1, ['_SUITE_'], '2724']]\n",
      "[[0, 2, 2, ['_ADDRESS_'], '2724 carl'], [2, 3, 1, ['_SUITE_'], 't']]\n",
      "[[0, 5, 5, ['_ADDRESS_'], '2724 carl t jones dr'], [5, 6, 1, ['_DIR_'], 'se']]\n",
      "[[2, 3, 1, ['_SUITE_'], 't']]\n",
      "[[5, 6, 1, ['_DIR_'], 'se']]\n"
     ]
    }
   ],
   "source": [
    "class BreathFirstSearch:\n",
    "    def __init__(self, markers):\n",
    "        self.markers = markers\n",
    "    def end(self, node):\n",
    "        return node[1]\n",
    "    def start(self, node):\n",
    "        return node[0]\n",
    "    def type(self, node):\n",
    "        return node[3][0]\n",
    "    def length(self, node):\n",
    "        return node[2]\n",
    "    def rep(self, node):\n",
    "        return node[4]\n",
    "    def get_successors(self, current_node):\n",
    "        next_matches = [n \n",
    "            for n in self.markers \n",
    "            if self.start(n) == self.end(current_node) and self.type(n) != self.type(current_node) and self.type(n) != '_POBOX_']\n",
    "        return next_matches[:]\n",
    "    def get_branches(self, node):\n",
    "        fringe = [[node[:]]]\n",
    "        branches = []\n",
    "        while fringe:\n",
    "            activeNode = fringe.pop()\n",
    "            successors = self.get_successors(activeNode[-1])               \n",
    "            if successors:\n",
    "                for successor in successors:\n",
    "                    nextNode = activeNode[:]\n",
    "                    nextNode.append(successor)\n",
    "                    fringe.append(nextNode[:])\n",
    "            else:\n",
    "                branches.append(activeNode)\n",
    "        return branches\n",
    "    def get_all_branches(self):\n",
    "        all_branches = []\n",
    "        for node in self.markers:\n",
    "            for branch in self.get_branches(node):\n",
    "                all_branches.append(branch)\n",
    "        return all_branches\n",
    "        \n",
    "bfs = BreathFirstSearch(markers)\n",
    "\n",
    "#print(\"SUCCESSORS: \", bfs.get_successors([0, 2, 2, ['_SUITE_'], 'apt 10']))\n",
    "print(\"BRANCH:\")\n",
    "for branch in bfs.get_branches([0, 2, 2, ['_SUITE_'], 'apt 10']):\n",
    "    print(branch)\n",
    "print(\"\\nALL BRANCHES:\")\n",
    "for branch in bfs.get_all_branches():\n",
    "    print(branch)\n",
    "        "
   ]
  },
  {
   "cell_type": "code",
   "execution_count": 10,
   "metadata": {},
   "outputs": [
    {
     "name": "stdout",
     "output_type": "stream",
     "text": [
      "[[[0, 2, 2, ['_ADDRESS_'], '2724 carl'], [2, 3, 1, ['_SUITE_'], 't']], [[0, 5, 5, ['_ADDRESS_'], '2724 carl t jones dr'], [5, 6, 1, ['_DIR_'], 'se']]]\n",
      "[[0, 5, 5, ['_ADDRESS_'], '2724 carl t jones dr'], [5, 6, 1, ['_DIR_'], 'se']]\n",
      "branch: [[0, 1, 1, ['_SUITE_'], '2724']]\n",
      "array:  [['_SUITE_']]\n",
      "ISITAKEEPER?=====\t ['_ADDRESS_']\n",
      "branch: [[0, 2, 2, ['_ADDRESS_'], '2724 carl'], [2, 3, 1, ['_SUITE_'], 't']]\n",
      "array:  [['_ADDRESS_'], ['_SUITE_']]\n",
      "ISITAKEEPER?=====\t ['KEEP']\n",
      "branch: [[0, 5, 5, ['_ADDRESS_'], '2724 carl t jones dr'], [5, 6, 1, ['_DIR_'], 'se']]\n",
      "array:  [['_ADDRESS_'], ['_DIR_']]\n",
      "ISITAKEEPER?=====\t ['KEEP', '_SUITE_']\n",
      "branch: [[2, 3, 1, ['_SUITE_'], 't']]\n",
      "array:  [['_SUITE_']]\n",
      "ISITAKEEPER?=====\t ['_ADDRESS_']\n",
      "branch: [[5, 6, 1, ['_DIR_'], 'se']]\n",
      "array:  [['_DIR_']]\n",
      "ISITAKEEPER?=====\t []\n",
      "THIS SHULD BE KEPPER:  ['KEEP', '_SUITE_']\n"
     ]
    }
   ],
   "source": [
    "seq2 = ph.Hydraseq('second')\n",
    "seq2.insert(\"_SUITE_ _ADDRESS_ *KEEP*\")\n",
    "seq2.insert(\"_ADDRESS_ *KEEP*\")\n",
    "seq2.insert(\"_ADDRESS_ _SUITE_ *KEEP*\")\n",
    "seq2.insert(\"_ADDRESS_ _DIR_ *KEEP*\")\n",
    "seq2.insert(\"_ADDRESS_ _DIR_ _SUITE_ *KEEP*\")\n",
    "seq2.insert(\"_POBOX_ *KEEP*\")\n",
    "keepers = [branch for branch in bfs.get_all_branches() if 'KEEP' in seq2.look_ahead( [node[3] for node in branch] ).get_next_values()]\n",
    "print(keepers)\n",
    "max_len = 0\n",
    "max_branch = None\n",
    "for branch in keepers:\n",
    "    len_branch = branch[-1][1] - branch[0][0]\n",
    "    if len_branch > max_len:\n",
    "        max_len = len_branch\n",
    "        max_branch = branch\n",
    "    \n",
    "print(max_branch)\n",
    "\n",
    "for branch in bfs.get_all_branches():\n",
    "    print(\"branch:\" ,branch)\n",
    "    arr = [node[3] for node in branch]\n",
    "    print(\"array: \", arr)\n",
    "    thesequence = seq2.look_ahead(arr).get_next_values()\n",
    "    print(\"ISITAKEEPER?=====\\t\", thesequence)\n",
    "    \n",
    "    \n",
    "print(\"THIS SHULD BE KEPPER: \", seq2.look_ahead([['_ADDRESS_'],['_SUITE_','_DIR_']]).get_next_values())"
   ]
  },
  {
   "cell_type": "code",
   "execution_count": 11,
   "metadata": {},
   "outputs": [
    {
     "data": {
      "text/plain": [
       "[['_ADDRESS_'], ['_SUITE_', '_DIR_']]"
      ]
     },
     "execution_count": 11,
     "metadata": {},
     "output_type": "execute_result"
    }
   ],
   "source": [
    "nodes =  [[0, 5, 5, ['_ADDRESS_'], '11500 s sam houston parkway'], [5, 6, 1, ['_SUITE_', '_DIR_'], 'w']]\n",
    "[node[3] for node in nodes]"
   ]
  },
  {
   "cell_type": "code",
   "execution_count": 12,
   "metadata": {},
   "outputs": [
    {
     "data": {
      "text/plain": [
       "'2724 carl t jones dr se'"
      ]
     },
     "execution_count": 12,
     "metadata": {},
     "output_type": "execute_result"
    }
   ],
   "source": [
    "### DOUBLE DECKER APPROACH\n",
    "def return_max_address4(seq, sent):\n",
    "    markers = ph.get_markers(seq, sent, ['_ADDRESS_', '_POBOX_', '_SUITE_', '_DIR_'])\n",
    "    class BreathFirstSearch:\n",
    "        def __init__(self, markers):\n",
    "            self.markers = markers\n",
    "        def end(self, node):\n",
    "            return node[1]\n",
    "        def start(self, node):\n",
    "            return node[0]\n",
    "        def type(self, node):\n",
    "            return node[3][0]\n",
    "        def length(self, node):\n",
    "            return node[2]\n",
    "        def rep(self, node):\n",
    "            return node[4]\n",
    "        def get_successors(self, current_node):\n",
    "            next_matches = [n for n in self.markers if self.start(n) == self.end(current_node) and self.type(n) != self.type(current_node) and self.type(n) != '_POBOX_']\n",
    "            return next_matches[:]\n",
    "        def get_branches(self, node):\n",
    "            fringe = [[node[:]]]\n",
    "            branches = []\n",
    "            while fringe:\n",
    "                activeNode = fringe.pop()\n",
    "                successors = self.get_successors(activeNode[-1])\n",
    "                if successors:\n",
    "                    for successor in successors:\n",
    "                        nextNode = activeNode[:]\n",
    "                        nextNode.append(successor)\n",
    "                        fringe.append(nextNode[:])\n",
    "                else:\n",
    "                    branches.append(activeNode)\n",
    "            return branches\n",
    "        def get_all_branches(self):\n",
    "            all_branches = []\n",
    "            for node in self.markers:\n",
    "                for branch in self.get_branches(node):\n",
    "                    all_branches.append(branch)\n",
    "            return all_branches\n",
    "\n",
    "    bfs = BreathFirstSearch(markers)\n",
    "    seq2 = ph.Hydraseq('second')\n",
    "    seq2.insert(\"_SUITE_ _ADDRESS_ *KEEP*\")\n",
    "    seq2.insert(\"_ADDRESS_ *KEEP*\")\n",
    "    seq2.insert(\"_ADDRESS_ _SUITE_ *KEEP*\")\n",
    "    seq2.insert(\"_ADDRESS_ _DIR_ _SUITE_ *KEEP*\")\n",
    "    seq2.insert(\"_POBOX_ *KEEP*\")\n",
    "    keepers = [branch for branch in bfs.get_all_branches() if 'KEEP' in seq2.look_ahead([node[3] for node in nodes] ).get_next_values()]\n",
    "\n",
    "    max_len = 0\n",
    "    max_branch = None\n",
    "    for branch in keepers:\n",
    "        len_branch = branch[-1][1] - branch[0][0]\n",
    "        if len_branch > max_len:\n",
    "            max_len = len_branch\n",
    "            max_branch = branch\n",
    "\n",
    "    #print(\"HERE: \",max_branch)\n",
    "    return \" \".join([item[4] for item in max_branch])\n",
    "\n",
    "return_max_address4(ph.seq, sent)"
   ]
  },
  {
   "cell_type": "code",
   "execution_count": null,
   "metadata": {},
   "outputs": [],
   "source": [
    "filtered_markers = [marker for marker in markers if not (marker[0] == 0 and marker[2] == 1)]\n",
    "print(filtered_markers)\n"
   ]
  },
  {
   "cell_type": "code",
   "execution_count": null,
   "metadata": {},
   "outputs": [],
   "source": [
    "def entitys_overlap(ent1, ent2):\n",
    "    if ent1[1] <= ent2[0] or ent2[1] <= ent1[0]:\n",
    "        return False\n",
    "    else:\n",
    "        return True\n",
    "\n",
    "def get_sorted_entity(_markers, entity):\n",
    "    entities = [arr for arr in _markers if arr[3][0] == entity]\n",
    "    entities.sort(key=lambda x: int(x[2]))\n",
    "    return entities\n",
    "def get_all_sorted_entity(_markers, axis):\n",
    "    \"\"\"axis 0:left, 1:right, 2:length, 3:lst<type>, 4:str\"\"\"\n",
    "    markers.sort(key=lambda x: int(x[axis]))\n",
    "    return markers"
   ]
  },
  {
   "cell_type": "code",
   "execution_count": null,
   "metadata": {},
   "outputs": [],
   "source": [
    "def get_markers(seq, sent, lst_targets):\n",
    "    \"\"\"Input is like '123 main str' and returns a list of lists\n",
    "        RETURNS: a list of list, each list being a candidate and having these values.\n",
    "            idx_beg, idx_end, length, matches (ADDRESS etc), sequence\n",
    "        ATTN!!  this lowercases stuff, TODO: Generalize this so it doesn't need lowercasing\n",
    "    \"\"\"\n",
    "    sent = str(sent).lower().strip()\n",
    "    arr_w = ph.w(sent)\n",
    "    idx_tail = len(arr_w)\n",
    "    markers = []\n",
    "\n",
    "    for idx_beg in range(idx_tail):\n",
    "        for idx_end in range(idx_beg + 1, idx_tail +1):\n",
    "            next_values = seq.look_ahead(ph.encode_from_word_list(arr_w[idx_beg:idx_end])).get_next_values()\n",
    "            matches = list(set(next_values) & set(lst_targets) )\n",
    "            if matches:\n",
    "                markers.append([idx_beg, idx_end, idx_end - idx_beg, matches, ' '.join(arr_w[idx_beg:idx_end])])\n",
    "\n",
    "    return markers\n",
    "\n",
    "\n",
    "st = sent\n",
    "markers = get_markers(ph.seq, st, ['_ADDRESS_', '_POBOX_', '_SUITE_', '_DIR_'])\n",
    "markers"
   ]
  },
  {
   "cell_type": "code",
   "execution_count": null,
   "metadata": {},
   "outputs": [],
   "source": [
    "def sift_markers(markers):\n",
    "    boxes = [marker for marker in markers if marker[3][0] == '_POBOX_']\n",
    "    addresses = [marker for marker in markers if marker[3][0] == '_ADDRESS_']\n",
    "    suites = [marker for marker in markers if marker[3][0] == '_SUITE_']\n",
    "    dirs = [marker for marker in markers if marker[3][0] == '_DIR_']\n",
    "    new_markers = boxes[:]\n",
    "#     for address in addresses:\n",
    "#         if not any([entitys_overlap(address, item) for item in new_markers]):\n",
    "#             new_markers.append(address)\n",
    "    new_markers.extend(addresses)\n",
    "    for suite in suites:\n",
    "        if not any([entitys_overlap(suite, item) for item in new_markers]):\n",
    "            new_markers.append(suite)\n",
    "    for diritem in dirs:\n",
    "        if not any([entitys_overlap(diritem, item) for item in new_markers]):\n",
    "            new_markers.append(diritem)\n",
    "    return new_markers\n",
    "\n",
    "sift_markers(markers)"
   ]
  },
  {
   "cell_type": "code",
   "execution_count": null,
   "metadata": {},
   "outputs": [],
   "source": [
    "\n",
    "\n",
    "def get_best_fit_4(seq, st, lst_entities):\n",
    "    assert isinstance(lst_entities,list), \"expects lst_entities is [ str, str ]\"\n",
    "    assert isinstance(lst_entities[0], str), \"expects lst_entities is [ str, str ]\"\n",
    "    assert isinstance(st, str), \"expects st to be a str\"\n",
    "    def sift_markers(markers):\n",
    "        boxes = [marker for marker in markers if marker[3][0] == '_POBOX_']\n",
    "        addresses = [marker for marker in markers if marker[3][0] == '_ADDRESS_']\n",
    "        suites = [marker for marker in markers if marker[3][0] == '_SUITE_']\n",
    "        dirs = [marker for marker in markers if marker[3][0] == '_DIR_']\n",
    "        new_markers = boxes[:]\n",
    "#         for address in addresses:\n",
    "#             if not any([entitys_overlap(address, item) for item in new_markers]):\n",
    "#                 new_markers.append(address)\n",
    "        new_markers.extend(addresses)\n",
    "        for suite in suites:\n",
    "            if not any([entitys_overlap(suite, item) for item in new_markers]):\n",
    "                new_markers.append(suite)\n",
    "        for diritem in dirs:\n",
    "            if not any([entitys_overlap(diritem, item) for item in new_markers]):\n",
    "                new_markers.append(diritem)\n",
    "        return new_markers\n",
    "    def get_sorted_indexes(markers, which, up=True):\n",
    "        sorted_list = sorted(list(set([marker[which] for marker in markers])))\n",
    "        return sorted_list if up else sorted_list[::-1]\n",
    "    \n",
    "    \n",
    "    def book_best_fit(arr_domain, markers):\n",
    "        def is_in_dictionary(markers, start, endplus):\n",
    "            match_starts = [item for item in markers if item[0] == start]\n",
    "            match_both = [item for item in match_starts if item[1] == endplus]\n",
    "            return match_both\n",
    "        \n",
    "        last_length = [-1]*len(arr_domain)\n",
    "        for i in range(len(arr_domain)):\n",
    "            if is_in_dictionary(markers, 0, i+1):\n",
    "                last_length[i] = i + 1\n",
    "            if last_length[i] == -1:\n",
    "                for j in range(i):\n",
    "                    if last_length[j] != -1 and is_in_dictionary(markers, j+1, i+1):\n",
    "                        last_length[i] = i - j\n",
    "                        break\n",
    "        print(\"last_length: \", last_length)                \n",
    "        decompositions = []\n",
    "        if last_length[-1] != -1:\n",
    "            idx = len(arr_domain) - 1\n",
    "            while idx >= 0:\n",
    "                decompositions.append(is_in_dictionary(markers,idx + 1 - last_length[idx], idx + 1)[0])\n",
    "                idx -= last_length[idx]\n",
    "            decompositions = decompositions[::-1]\n",
    "        return decompositions\n",
    "    \n",
    "    \n",
    "    markers = get_markers(ph.seq, st, lst_entities)\n",
    "    markers = sift_markers(markers)\n",
    "#     print(\"MARKERS TO WORK WITH: \", markers)\n",
    "    lefts = get_sorted_indexes(markers, 0, up=True)\n",
    "    rights = get_sorted_indexes(markers, 1, up=False)\n",
    "    print(lefts)\n",
    "    print(rights)\n",
    "    final_decomps = []\n",
    "    for left in lefts:\n",
    "        for right in rights:\n",
    "            subject = ph.w(st)[left:right]\n",
    "            if not subject or (right - left) <=1:\n",
    "                continue\n",
    "            markers = get_markers(ph.seq, \" \".join(subject), lst_entities)\n",
    "            markers = sift_markers(markers)\n",
    "            decomp = book_best_fit(subject, markers)\n",
    "            if decomp:\n",
    "                print(\"decomp: \", left, right, subject,'\\n',decomp, '\\n')\n",
    "                final_decomps.append(decomp)\n",
    "    #return final_decomps\n",
    "\n",
    "    best_decomp = None\n",
    "    max_len = 0\n",
    "    for decomp in final_decomps:  \n",
    "        if decomp[-1][1] > max_len:\n",
    "            max_len = decomp[-1][1]\n",
    "            best_decomp = decomp\n",
    "    \n",
    "    return best_decomp if best_decomp else []\n",
    "    \n",
    "\n",
    "def return_max_address4(seq, st):\n",
    "    lst_final_ents = [['_ADDRESS_', '_SUITE_', '_DIR_'], ['_POBOX_']]\n",
    "    for lst_entities in lst_final_ents:\n",
    "        best_fit = get_best_fit_4(seq, st, lst_entities)\n",
    "        #print(\"Best_fit: \", best_fit, lst_entities[0])\n",
    "        if any([fit[3][0] == lst_entities[0] for fit in best_fit]):\n",
    "            str_rep = \" \".join([fit[4] for fit in best_fit])\n",
    "            return str_rep\n",
    "    else:\n",
    "        return []\n",
    "    \n",
    "final_decomps = get_best_fit_4(ph.seq, st, ['_ADDRESS_',  '_SUITE_', '_DIR_'])\n",
    "[print(\"DECOMP: \", decomp) for decomp in final_decomps]\n",
    "\n",
    "final = return_max_address4(ph.seq, st)\n",
    "\n",
    "print(\"\\nAND THE BEST IS\\n\", final)"
   ]
  },
  {
   "cell_type": "markdown",
   "metadata": {},
   "source": [
    "apt 10 2700 webers lane\n",
    "\n",
    "drops the apt, because we put in the large address in first wich blocks teh apt 10.\n",
    "\n",
    "maybe we need to iterate over best fits and checking if address made it, if not then get rid of the first 0-x try and try again with next?"
   ]
  }
 ],
 "metadata": {
  "kernelspec": {
   "display_name": "Python 3",
   "language": "python",
   "name": "python3"
  },
  "language_info": {
   "codemirror_mode": {
    "name": "ipython",
    "version": 3
   },
   "file_extension": ".py",
   "mimetype": "text/x-python",
   "name": "python",
   "nbconvert_exporter": "python",
   "pygments_lexer": "ipython3",
   "version": "3.6.4"
  }
 },
 "nbformat": 4,
 "nbformat_minor": 2
}
