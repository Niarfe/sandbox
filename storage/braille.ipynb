{
 "cells": [
  {
   "cell_type": "code",
   "execution_count": 3,
   "metadata": {},
   "outputs": [
    {
     "data": {
      "text/plain": [
       "'⠿'"
      ]
     },
     "execution_count": 3,
     "metadata": {},
     "output_type": "execute_result"
    }
   ],
   "source": [
    "# take a number and covert it to a braille char\n",
    "# This works because the unicode for the char is '\\u283f' which is in hex.\n",
    "# The int('283f', 16) converts the hex, from base 16 into a base 10\n",
    "# then char() converts the base 10 to a char\n",
    "# long way around but has all the parts we need.  hex->int->char\n",
    "chr(int('283f',16))"
   ]
  },
  {
   "cell_type": "code",
   "execution_count": 9,
   "metadata": {},
   "outputs": [
    {
     "name": "stdout",
     "output_type": "stream",
     "text": [
      "⠀\n",
      "⠁\n",
      "⠂\n",
      "⠃\n",
      "⠄\n"
     ]
    }
   ],
   "source": [
    "# note also that we use ints to get the characters, thus\n",
    "intrep = int('283f', 16)\n",
    "# 10303\n",
    "# so what is the head of the braille?  it goes from u2800 to u283f\n",
    "# so...\n",
    "head = int('2800',16)\n",
    "# 10240\n",
    "for idx in range(head, head + 5):\n",
    "    print(chr(idx))"
   ]
  },
  {
   "cell_type": "code",
   "execution_count": 10,
   "metadata": {},
   "outputs": [
    {
     "name": "stdout",
     "output_type": "stream",
     "text": [
      "    ⠀\n",
      "A   ⠁\n",
      "1   ⠂\n",
      "B   ⠃\n",
      "'   ⠄\n",
      "K   ⠅\n",
      "2   ⠆\n",
      "L   ⠇\n",
      "@   ⠈\n",
      "C   ⠉\n",
      "I   ⠊\n",
      "F   ⠋\n",
      "/   ⠌\n",
      "M   ⠍\n",
      "S   ⠎\n",
      "P   ⠏\n",
      "\"   ⠐\n",
      "E   ⠑\n",
      "3   ⠒\n",
      "H   ⠓\n",
      "9   ⠔\n",
      "O   ⠕\n",
      "6   ⠖\n",
      "R   ⠗\n",
      "^   ⠘\n",
      "D   ⠙\n",
      "J   ⠚\n",
      "G   ⠛\n",
      ">   ⠜\n",
      "N   ⠝\n",
      "T   ⠞\n",
      "Q   ⠟\n",
      ",   ⠠\n",
      "*   ⠡\n",
      "5   ⠢\n",
      "<   ⠣\n",
      "-   ⠤\n",
      "U   ⠥\n",
      "8   ⠦\n",
      "V   ⠧\n",
      ".   ⠨\n",
      "%   ⠩\n",
      "[   ⠪\n",
      "$   ⠫\n",
      "+   ⠬\n",
      "X   ⠭\n",
      "!   ⠮\n",
      "&   ⠯\n",
      ";   ⠰\n",
      ":   ⠱\n",
      "4   ⠲\n",
      "\\   ⠳\n",
      "0   ⠴\n",
      "Z   ⠵\n",
      "7   ⠶\n",
      "(   ⠷\n",
      "_   ⠸\n",
      "?   ⠹\n",
      "W   ⠺\n",
      "]   ⠻\n",
      "#   ⠼\n",
      "Y   ⠽\n",
      ")   ⠾\n",
      "=   ⠿\n"
     ]
    }
   ],
   "source": [
    "# and wikipedia gives us the order in ascii...\n",
    "aschars = \" A1B'K2L@CIF/MSP\\\"E3H9O6R^DJG>NTQ,*5<-U8V.%[$+X!&;:4\\\\0Z7(_?W]#Y)=\"\n",
    "lenascii = len(aschars)\n",
    "\n",
    "for idx in range(lenascii):\n",
    "    print(aschars[idx], \" \", chr(head + idx))\n",
    "    "
   ]
  }
 ],
 "metadata": {
  "kernelspec": {
   "display_name": "Python 3",
   "language": "python",
   "name": "python3"
  },
  "language_info": {
   "codemirror_mode": {
    "name": "ipython",
    "version": 3
   },
   "file_extension": ".py",
   "mimetype": "text/x-python",
   "name": "python",
   "nbconvert_exporter": "python",
   "pygments_lexer": "ipython3",
   "version": "3.4.3"
  }
 },
 "nbformat": 4,
 "nbformat_minor": 2
}
