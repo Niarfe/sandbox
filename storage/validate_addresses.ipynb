{
 "cells": [
  {
   "cell_type": "code",
   "execution_count": 1,
   "metadata": {},
   "outputs": [],
   "source": [
    "import phrase_entity_extraction as ph\n",
    "import pandas as pd"
   ]
  },
  {
   "cell_type": "code",
   "execution_count": 2,
   "metadata": {},
   "outputs": [],
   "source": [
    "def is_valid_address(_st):\n",
    "    st = _st\n",
    "    max_address = ph.return_max_address(ph.seq, st)\n",
    "    if st == max_address:\n",
    "        return True\n",
    "    else:\n",
    "        return False"
   ]
  },
  {
   "cell_type": "code",
   "execution_count": 87,
   "metadata": {},
   "outputs": [],
   "source": [
    "source_path = 'eightyk_cleaned_addresses_deduped.csv'\n",
    "df = pd.read_csv(source_path)"
   ]
  },
  {
   "cell_type": "code",
   "execution_count": 88,
   "metadata": {},
   "outputs": [
    {
     "data": {
      "text/html": [
       "<div>\n",
       "<style scoped>\n",
       "    .dataframe tbody tr th:only-of-type {\n",
       "        vertical-align: middle;\n",
       "    }\n",
       "\n",
       "    .dataframe tbody tr th {\n",
       "        vertical-align: top;\n",
       "    }\n",
       "\n",
       "    .dataframe thead th {\n",
       "        text-align: right;\n",
       "    }\n",
       "</style>\n",
       "<table border=\"1\" class=\"dataframe\">\n",
       "  <thead>\n",
       "    <tr style=\"text-align: right;\">\n",
       "      <th></th>\n",
       "      <th>ADDRESSES</th>\n",
       "    </tr>\n",
       "  </thead>\n",
       "  <tbody>\n",
       "    <tr>\n",
       "      <th>0</th>\n",
       "      <td># 115</td>\n",
       "    </tr>\n",
       "    <tr>\n",
       "      <th>1</th>\n",
       "      <td>#1 AVENUE D</td>\n",
       "    </tr>\n",
       "    <tr>\n",
       "      <th>2</th>\n",
       "      <td>#1 COOL BLOW STREET SUITE 201</td>\n",
       "    </tr>\n",
       "    <tr>\n",
       "      <th>3</th>\n",
       "      <td>#1 FINE ARTS DRIVE</td>\n",
       "    </tr>\n",
       "    <tr>\n",
       "      <th>4</th>\n",
       "      <td>#1 PLEASANT VALLEY DRIVE</td>\n",
       "    </tr>\n",
       "  </tbody>\n",
       "</table>\n",
       "</div>"
      ],
      "text/plain": [
       "                       ADDRESSES\n",
       "0                          # 115\n",
       "1                    #1 AVENUE D\n",
       "2  #1 COOL BLOW STREET SUITE 201\n",
       "3             #1 FINE ARTS DRIVE\n",
       "4       #1 PLEASANT VALLEY DRIVE"
      ]
     },
     "execution_count": 88,
     "metadata": {},
     "output_type": "execute_result"
    }
   ],
   "source": [
    "df.head()"
   ]
  },
  {
   "cell_type": "code",
   "execution_count": 89,
   "metadata": {},
   "outputs": [
    {
     "data": {
      "text/html": [
       "<div>\n",
       "<style scoped>\n",
       "    .dataframe tbody tr th:only-of-type {\n",
       "        vertical-align: middle;\n",
       "    }\n",
       "\n",
       "    .dataframe tbody tr th {\n",
       "        vertical-align: top;\n",
       "    }\n",
       "\n",
       "    .dataframe thead th {\n",
       "        text-align: right;\n",
       "    }\n",
       "</style>\n",
       "<table border=\"1\" class=\"dataframe\">\n",
       "  <thead>\n",
       "    <tr style=\"text-align: right;\">\n",
       "      <th></th>\n",
       "      <th>ADDRESSES</th>\n",
       "    </tr>\n",
       "  </thead>\n",
       "  <tbody>\n",
       "    <tr>\n",
       "      <th>0</th>\n",
       "      <td># 115</td>\n",
       "    </tr>\n",
       "    <tr>\n",
       "      <th>1</th>\n",
       "      <td>#1 AVENUE D</td>\n",
       "    </tr>\n",
       "    <tr>\n",
       "      <th>2</th>\n",
       "      <td>#1 COOL BLOW STREET SUITE 201</td>\n",
       "    </tr>\n",
       "    <tr>\n",
       "      <th>3</th>\n",
       "      <td>#1 FINE ARTS DRIVE</td>\n",
       "    </tr>\n",
       "    <tr>\n",
       "      <th>4</th>\n",
       "      <td>#1 PLEASANT VALLEY DRIVE</td>\n",
       "    </tr>\n",
       "  </tbody>\n",
       "</table>\n",
       "</div>"
      ],
      "text/plain": [
       "                       ADDRESSES\n",
       "0                          # 115\n",
       "1                    #1 AVENUE D\n",
       "2  #1 COOL BLOW STREET SUITE 201\n",
       "3             #1 FINE ARTS DRIVE\n",
       "4       #1 PLEASANT VALLEY DRIVE"
      ]
     },
     "execution_count": 89,
     "metadata": {},
     "output_type": "execute_result"
    }
   ],
   "source": [
    "keep='bad' # use ~ with bad\n",
    "df = df[~df['ADDRESSES'].apply(lambda x: is_valid_address(x))]\n",
    "df.to_csv(\"{}.{}.csv\".format(source_path, keep), index=False)\n",
    "df.head()"
   ]
  },
  {
   "cell_type": "code",
   "execution_count": 3,
   "metadata": {},
   "outputs": [],
   "source": [
    "df = pd.read_csv('eightyk_cleaned_addresses_deduped.csv.bad.csv')"
   ]
  },
  {
   "cell_type": "code",
   "execution_count": 4,
   "metadata": {},
   "outputs": [
    {
     "data": {
      "text/html": [
       "<div>\n",
       "<style>\n",
       "    .dataframe thead tr:only-child th {\n",
       "        text-align: right;\n",
       "    }\n",
       "\n",
       "    .dataframe thead th {\n",
       "        text-align: left;\n",
       "    }\n",
       "\n",
       "    .dataframe tbody tr th {\n",
       "        vertical-align: top;\n",
       "    }\n",
       "</style>\n",
       "<table border=\"1\" class=\"dataframe\">\n",
       "  <thead>\n",
       "    <tr style=\"text-align: right;\">\n",
       "      <th></th>\n",
       "      <th>ADDRESSES</th>\n",
       "      <th>TRANSFORM</th>\n",
       "    </tr>\n",
       "  </thead>\n",
       "  <tbody>\n",
       "    <tr>\n",
       "      <th>0</th>\n",
       "      <td># 115</td>\n",
       "      <td>[['POUND'], ['DIGIT']]</td>\n",
       "    </tr>\n",
       "    <tr>\n",
       "      <th>1</th>\n",
       "      <td>#1 AVENUE D</td>\n",
       "      <td>[['POUNDDIG'], ['WORDWAY'], ['LETTER']]</td>\n",
       "    </tr>\n",
       "    <tr>\n",
       "      <th>2</th>\n",
       "      <td>#1 COOL BLOW STREET SUITE 201</td>\n",
       "      <td>[['POUNDDIG'], ['ALPHA'], ['ALPHA'], ['WORDWAY...</td>\n",
       "    </tr>\n",
       "    <tr>\n",
       "      <th>3</th>\n",
       "      <td>#1 FINE ARTS DRIVE</td>\n",
       "      <td>[['POUNDDIG'], ['ALPHA'], ['ALPHA'], ['WORDWAY']]</td>\n",
       "    </tr>\n",
       "    <tr>\n",
       "      <th>4</th>\n",
       "      <td>#1 PLEASANT VALLEY DRIVE</td>\n",
       "      <td>[['POUNDDIG'], ['ALPHA', 'COMMONST'], ['WORDWA...</td>\n",
       "    </tr>\n",
       "  </tbody>\n",
       "</table>\n",
       "</div>"
      ],
      "text/plain": [
       "                       ADDRESSES  \\\n",
       "0                          # 115   \n",
       "1                    #1 AVENUE D   \n",
       "2  #1 COOL BLOW STREET SUITE 201   \n",
       "3             #1 FINE ARTS DRIVE   \n",
       "4       #1 PLEASANT VALLEY DRIVE   \n",
       "\n",
       "                                           TRANSFORM  \n",
       "0                             [['POUND'], ['DIGIT']]  \n",
       "1            [['POUNDDIG'], ['WORDWAY'], ['LETTER']]  \n",
       "2  [['POUNDDIG'], ['ALPHA'], ['ALPHA'], ['WORDWAY...  \n",
       "3  [['POUNDDIG'], ['ALPHA'], ['ALPHA'], ['WORDWAY']]  \n",
       "4  [['POUNDDIG'], ['ALPHA', 'COMMONST'], ['WORDWA...  "
      ]
     },
     "execution_count": 4,
     "metadata": {},
     "output_type": "execute_result"
    }
   ],
   "source": [
    "df['TRANSFORM'] = df['ADDRESSES'].apply(lambda x: ph.return_max_address(ph.seq, x) )\n",
    "df.head()"
   ]
  },
  {
   "cell_type": "code",
   "execution_count": 5,
   "metadata": {},
   "outputs": [],
   "source": [
    "df.to_csv('eightyk_non_good_mostly_extraction_needed.csv', index=False)"
   ]
  },
  {
   "cell_type": "code",
   "execution_count": 6,
   "metadata": {},
   "outputs": [],
   "source": [
    "! open eightyk_non_good_mostly_extraction_needed.csv"
   ]
  }
 ],
 "metadata": {
  "kernelspec": {
   "display_name": "Python 3",
   "language": "python",
   "name": "python3"
  },
  "language_info": {
   "codemirror_mode": {
    "name": "ipython",
    "version": 3
   },
   "file_extension": ".py",
   "mimetype": "text/x-python",
   "name": "python",
   "nbconvert_exporter": "python",
   "pygments_lexer": "ipython3",
   "version": "3.4.3"
  }
 },
 "nbformat": 4,
 "nbformat_minor": 2
}
