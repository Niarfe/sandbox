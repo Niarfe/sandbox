{
 "cells": [
  {
   "cell_type": "code",
   "execution_count": 1,
   "metadata": {},
   "outputs": [],
   "source": [
    "import phrase_entity_extraction as ph"
   ]
  },
  {
   "cell_type": "code",
   "execution_count": 2,
   "metadata": {},
   "outputs": [
    {
     "name": "stdout",
     "output_type": "stream",
     "text": [
      "ALL GOOD!\n",
      "Max Address:  101 SOUTH CENTER COURT\n",
      "\n",
      "Encoding:  [['DIGIT', 'ADR_HEAD'], ['COMMONST', 'DIR'], ['WORDWAY', 'COMMONST'], ['WORDWAY']]\n",
      "\n",
      "\n",
      "101 SOUTH CENTER COURT,\"[['DIGIT', 'ADR_HEAD'], ['COMMONST', 'DIR'], ['WORDWAY', 'COMMONST'], ['WORDWAY']]\"\n"
     ]
    }
   ],
   "source": [
    "st = \"101 SOUTH CENTER COURT\".lower()\n",
    "max_address = ph.return_max_address(ph.seq, st)\n",
    "if st.upper().strip() == max_address.upper().strip():\n",
    "    print(\"ALL GOOD!\")\n",
    "else:\n",
    "    print()\n",
    "    print(\"## ************** NOT THE SAME!!!! *********************##\\n\")\n",
    "encoding = ph.encode_from_word_list(ph.w(st))\n",
    "print(\"Max Address: \", max_address)\n",
    "print()\n",
    "print(\"Encoding: \", encoding)\n",
    "print('\\n\\n{},\"{}\"'.format(st.upper(), encoding))"
   ]
  },
  {
   "cell_type": "code",
   "execution_count": 3,
   "metadata": {},
   "outputs": [
    {
     "data": {
      "text/plain": [
       "[[0, 3, 3, ['ADDRESS'], '101 south center'],\n",
       " [0, 4, 4, ['ADDRESS'], '101 south center court']]"
      ]
     },
     "execution_count": 3,
     "metadata": {},
     "output_type": "execute_result"
    }
   ],
   "source": [
    "arr_cands = ph.get_markers(ph.seq, st, ['ADDRESS', 'POBOX', 'SUITE'])\n",
    "arr_cands"
   ]
  },
  {
   "cell_type": "code",
   "execution_count": 4,
   "metadata": {},
   "outputs": [
    {
     "data": {
      "text/plain": [
       "['101', 'south', 'center', 'court']"
      ]
     },
     "execution_count": 4,
     "metadata": {},
     "output_type": "execute_result"
    }
   ],
   "source": [
    "ph.w(st)"
   ]
  }
 ],
 "metadata": {
  "kernelspec": {
   "display_name": "Python 3",
   "language": "python",
   "name": "python3"
  },
  "language_info": {
   "codemirror_mode": {
    "name": "ipython",
    "version": 3
   },
   "file_extension": ".py",
   "mimetype": "text/x-python",
   "name": "python",
   "nbconvert_exporter": "python",
   "pygments_lexer": "ipython3",
   "version": "3.4.3"
  }
 },
 "nbformat": 4,
 "nbformat_minor": 2
}
