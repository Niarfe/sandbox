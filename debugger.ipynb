{
 "cells": [
  {
   "cell_type": "code",
   "execution_count": 2,
   "metadata": {},
   "outputs": [],
   "source": [
    "import phrase_entity_extraction as ph"
   ]
  },
  {
   "cell_type": "code",
   "execution_count": 3,
   "metadata": {},
   "outputs": [
    {
     "name": "stdout",
     "output_type": "stream",
     "text": [
      "\n",
      "## ************** NOT THE SAME!!!! *********************##\n",
      "\n",
      "Max Address:  10000 COORS BYPASS\n",
      "\n",
      "Encoding:  [['DIGIT', 'ADR_HEAD'], ['ALPHA'], ['ALPHA'], ['DIR']]\n",
      "\n",
      "\n",
      "10000 COORS BYPASS NW,\"[['DIGIT', 'ADR_HEAD'], ['ALPHA'], ['ALPHA'], ['DIR']]\"\n"
     ]
    }
   ],
   "source": [
    "st = \"10000 COORS BYPASS NW\".lower()\n",
    "max_address = ph.return_max_address(ph.seq, st)\n",
    "if st.upper().strip() == max_address.upper().strip():\n",
    "    print(\"ALL GOOD!\")\n",
    "else:\n",
    "    print()\n",
    "    print(\"## ************** NOT THE SAME!!!! *********************##\\n\")\n",
    "encoding = ph.encode_from_word_list(ph.w(st))\n",
    "print(\"Max Address: \", max_address)\n",
    "print()\n",
    "print(\"Encoding: \", encoding)\n",
    "print('\\n\\n{},\"{}\"'.format(st.upper(), encoding))"
   ]
  },
  {
   "cell_type": "code",
   "execution_count": 4,
   "metadata": {},
   "outputs": [
    {
     "data": {
      "text/plain": [
       "[[0, 1, 1, ['SUITE'], '10000'],\n",
       " [0, 2, 2, ['ADDRESS'], '10000 coors'],\n",
       " [0, 3, 3, ['ADDRESS'], '10000 coors bypass']]"
      ]
     },
     "execution_count": 4,
     "metadata": {},
     "output_type": "execute_result"
    }
   ],
   "source": [
    "arr_cands = ph.get_markers(ph.seq, st, ['ADDRESS', 'POBOX', 'SUITE'])\n",
    "arr_cands"
   ]
  },
  {
   "cell_type": "code",
   "execution_count": 4,
   "metadata": {},
   "outputs": [
    {
     "data": {
      "text/plain": [
       "['101', 'south', 'center', 'court']"
      ]
     },
     "execution_count": 4,
     "metadata": {},
     "output_type": "execute_result"
    }
   ],
   "source": [
    "ph.w(st)"
   ]
  }
 ],
 "metadata": {
  "kernelspec": {
   "display_name": "Python 3",
   "language": "python",
   "name": "python3"
  },
  "language_info": {
   "codemirror_mode": {
    "name": "ipython",
    "version": 3
   },
   "file_extension": ".py",
   "mimetype": "text/x-python",
   "name": "python",
   "nbconvert_exporter": "python",
   "pygments_lexer": "ipython3",
   "version": "3.4.3"
  }
 },
 "nbformat": 4,
 "nbformat_minor": 2
}
