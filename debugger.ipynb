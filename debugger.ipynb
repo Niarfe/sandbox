{
 "cells": [
  {
   "cell_type": "code",
   "execution_count": 1,
   "metadata": {},
   "outputs": [],
   "source": [
    "import phrase_entity_extraction as ph"
   ]
  },
  {
   "cell_type": "code",
   "execution_count": 2,
   "metadata": {},
   "outputs": [
    {
     "name": "stdout",
     "output_type": "stream",
     "text": [
      "\n",
      "## ************** NOT THE SAME!!!! *********************##\n",
      "\n",
      "Max Address:  1010 59 JUNK WEST \n",
      "\n",
      "WORD ARRAY:  ['1010', 'hwy', '59', 'junk', 'west'] \n",
      "\n",
      "ENCODING:  [['DIGIT', 'ADR_HEAD'], ['WAY'], ['DIGIT', 'ADR_HEAD'], ['ALPHA'], ['COMMONST', 'DIR']]\n",
      "\n",
      "\n",
      "1010 HWY 59 JUNK WEST,\"[['DIGIT', 'ADR_HEAD'], ['WAY'], ['DIGIT', 'ADR_HEAD'], ['ALPHA'], ['COMMONST', 'DIR']]\"\n"
     ]
    }
   ],
   "source": [
    "sent = \"\"\"1010 HWY 59 JUNK WEST\"\"\".lower() \n",
    "\n",
    "max_address = ph.return_max_address3(ph.seq, sent)\n",
    "if sent.upper().strip() == max_address.upper().strip():\n",
    "    print(\"ALL GOOD!\")\n",
    "else:\n",
    "    print()\n",
    "    print(\"## ************** NOT THE SAME!!!! *********************##\\n\")\n",
    "encoding = ph.encode_from_word_list(ph.w(sent))\n",
    "print(\"Max Address: \", max_address, \"\\n\\nWORD ARRAY: \", ph.w(sent), \"\\n\\nENCODING: \", encoding)\n",
    "print('\\n\\n{},\"{}\"'.format(sent.upper(), encoding))"
   ]
  },
  {
   "cell_type": "code",
   "execution_count": 3,
   "metadata": {},
   "outputs": [
    {
     "data": {
      "text/plain": [
       "[[0, 1, 1, ['DIR', 'SUITE'], '1010'], [2, 5, 3, ['ADDRESS'], '59 junk west']]"
      ]
     },
     "execution_count": 3,
     "metadata": {},
     "output_type": "execute_result"
    }
   ],
   "source": [
    "ph.return_best_fit(ph.seq, sent)"
   ]
  },
  {
   "cell_type": "code",
   "execution_count": 4,
   "metadata": {},
   "outputs": [
    {
     "data": {
      "text/plain": [
       "[]"
      ]
     },
     "execution_count": 4,
     "metadata": {},
     "output_type": "execute_result"
    }
   ],
   "source": [
    "ph.seq.look_ahead(ph.encode_from_word_list(ph.w(\"27th AVE n e\".lower()))).get_active_sequences()"
   ]
  },
  {
   "cell_type": "code",
   "execution_count": 5,
   "metadata": {},
   "outputs": [
    {
     "data": {
      "text/plain": [
       "[[0, 1, 1, ['DIR', 'SUITE'], '1010'],\n",
       " [0, 3, 3, ['DIR', 'ADDRESS'], '1010 hwy 59'],\n",
       " [2, 3, 1, ['DIR', 'SUITE'], '59'],\n",
       " [2, 4, 2, ['DIR', 'ADDRESS'], '59 junk'],\n",
       " [2, 5, 3, ['ADDRESS'], '59 junk west']]"
      ]
     },
     "execution_count": 5,
     "metadata": {},
     "output_type": "execute_result"
    }
   ],
   "source": [
    "arr_cands = ph.get_markers(ph.seq, sent, ['ADDRESS', 'POBOX', 'SUITE', 'DIR'])\n",
    "arr_cands"
   ]
  },
  {
   "cell_type": "code",
   "execution_count": 6,
   "metadata": {},
   "outputs": [
    {
     "name": "stdout",
     "output_type": "stream",
     "text": [
      "[1, -1, 3, 2, 3]\n"
     ]
    },
    {
     "data": {
      "text/plain": [
       "([1, -1, 3, 2, 3],\n",
       " [['SUITE'], '', ['ADDRESS'], ['ADDRESS'], ['ADDRESS']],\n",
       " [['ADDRESS']],\n",
       " [(['ADDRESS'], '1010 hwy 59')])"
      ]
     },
     "execution_count": 6,
     "metadata": {},
     "output_type": "execute_result"
    }
   ],
   "source": [
    "ph.decompose_into_dictionary_words(ph.w(sent), ph.seq, ['ADDRESS', 'SUITE', 'POBOX'])"
   ]
  },
  {
   "cell_type": "code",
   "execution_count": 7,
   "metadata": {},
   "outputs": [
    {
     "name": "stdout",
     "output_type": "stream",
     "text": [
      "[[0, 3, 3, ['DIR', 'ADDRESS'], '1010 hwy 59'], [2, 3, 1, ['DIR', 'SUITE'], '59'], [2, 4, 2, ['DIR', 'ADDRESS'], '59 junk'], [2, 5, 3, ['ADDRESS'], '59 junk west']]\n"
     ]
    },
    {
     "data": {
      "text/plain": [
       "[[0, 1, 1, ['DIR', 'SUITE'], '1010'],\n",
       " [0, 3, 3, ['DIR', 'ADDRESS'], '1010 hwy 59'],\n",
       " [2, 3, 1, ['DIR', 'SUITE'], '59'],\n",
       " [2, 4, 2, ['DIR', 'ADDRESS'], '59 junk'],\n",
       " [2, 5, 3, ['ADDRESS'], '59 junk west']]"
      ]
     },
     "execution_count": 7,
     "metadata": {},
     "output_type": "execute_result"
    }
   ],
   "source": [
    "filtered_markers = [marker for marker in arr_cands if not (marker[0] == 0 and marker[2] == 1)]\n",
    "print(filtered_markers)\n",
    "arr_cands"
   ]
  },
  {
   "cell_type": "code",
   "execution_count": 14,
   "metadata": {},
   "outputs": [],
   "source": [
    "def entitys_overlap(ent1, ent2):\n",
    "    if ent1[1] <= ent2[0] or ent2[1] <= ent1[0]:\n",
    "        return False\n",
    "    else:\n",
    "        return True\n",
    "\n",
    "def get_sorted_entity(_markers, entity):\n",
    "    entities = [arr for arr in _markers if arr[3][0] == entity]\n",
    "    entities.sort(key=lambda x: int(x[2]))\n",
    "    return entities\n",
    "def get_all_sorted_entity(_markers, axis):\n",
    "    \"\"\"axis 0:left, 1:right, 2:length, 3:lst<type>, 4:str\"\"\"\n",
    "    markers.sort(key=lambda x: int(x[axis]))\n",
    "    return markers"
   ]
  },
  {
   "cell_type": "code",
   "execution_count": 118,
   "metadata": {},
   "outputs": [
    {
     "data": {
      "text/plain": [
       "[[0, 3, 3, ['_POBOX_'], 'po box 10'],\n",
       " [1, 3, 2, ['_POBOX_'], 'box 10'],\n",
       " [2, 3, 1, ['_SUITE_'], '10'],\n",
       " [3, 4, 1, ['_SUITE_'], '1010'],\n",
       " [3, 6, 3, ['_ADDRESS_'], '1010 hwy 59'],\n",
       " [5, 6, 1, ['_SUITE_'], '59'],\n",
       " [6, 8, 2, ['_SUITE_'], 'suite 100'],\n",
       " [7, 8, 1, ['_SUITE_'], '100'],\n",
       " [7, 9, 2, ['_ADDRESS_'], '100 sam'],\n",
       " [7, 10, 3, ['_ADDRESS_'], '100 sam wortington']]"
      ]
     },
     "execution_count": 118,
     "metadata": {},
     "output_type": "execute_result"
    }
   ],
   "source": [
    "def get_markers(seq, sent, lst_targets):\n",
    "    \"\"\"Input is like '123 main str' and returns a list of lists\n",
    "        RETURNS: a list of list, each list being a candidate and having these values.\n",
    "            idx_beg, idx_end, length, matches (ADDRESS etc), sequence\n",
    "        ATTN!!  this lowercases stuff, TODO: Generalize this so it doesn't need lowercasing\n",
    "    \"\"\"\n",
    "    sent = str(sent).lower().strip()\n",
    "    arr_w = ph.w(sent)\n",
    "    idx_tail = len(arr_w)\n",
    "    markers = []\n",
    "\n",
    "    for idx_beg in range(idx_tail):\n",
    "        for idx_end in range(idx_beg + 1, idx_tail +1):\n",
    "            next_values = seq.look_ahead(ph.encode_from_word_list(arr_w[idx_beg:idx_end])).get_next_values()\n",
    "            matches = list(set(next_values) & set(lst_targets) )\n",
    "            if matches:\n",
    "                markers.append([idx_beg, idx_end, idx_end - idx_beg, matches, ' '.join(arr_w[idx_beg:idx_end])])\n",
    "\n",
    "    return markers\n",
    "st = \"po box 10 1010 hwy 59 suite 100 sam wortington \"\n",
    "markers = get_markers(ph.seq, st, ['_ADDRESS_', '_POBOX_', '_SUITE_', '_DIR_'])\n",
    "markers"
   ]
  },
  {
   "cell_type": "code",
   "execution_count": 119,
   "metadata": {},
   "outputs": [
    {
     "data": {
      "text/plain": [
       "[[0, 3, 3, ['_POBOX_'], 'po box 10'],\n",
       " [1, 3, 2, ['_POBOX_'], 'box 10'],\n",
       " [2, 3, 1, ['_SUITE_'], '10'],\n",
       " [3, 4, 1, ['_SUITE_'], '1010'],\n",
       " [3, 6, 3, ['_ADDRESS_'], '1010 hwy 59'],\n",
       " [5, 6, 1, ['_SUITE_'], '59'],\n",
       " [6, 8, 2, ['_SUITE_'], 'suite 100'],\n",
       " [7, 8, 1, ['_SUITE_'], '100'],\n",
       " [7, 9, 2, ['_ADDRESS_'], '100 sam'],\n",
       " [7, 10, 3, ['_ADDRESS_'], '100 sam wortington']]"
      ]
     },
     "execution_count": 119,
     "metadata": {},
     "output_type": "execute_result"
    }
   ],
   "source": [
    "### addresses = get_sorted_entity(markers, '_ADDRESS_')\n",
    "suites = get_sorted_entity(markers, '_SUITE_')\n",
    "pobox = get_sorted_entity(markers, '_POBOX_')\n",
    "bearing = get_sorted_entity(markers, '_bearing_')\n",
    "\n",
    "get_all_sorted_entity(markers, 0)\n"
   ]
  },
  {
   "cell_type": "code",
   "execution_count": 120,
   "metadata": {},
   "outputs": [
    {
     "data": {
      "text/plain": [
       "[]"
      ]
     },
     "execution_count": 120,
     "metadata": {},
     "output_type": "execute_result"
    }
   ],
   "source": [
    "    def book_best_fit(arr_domain, markers):\n",
    "        \n",
    "        def is_in_dictionary(markers, start, endplus):\n",
    "            match_starts = [item for item in markers if item[0] == start]\n",
    "            match_both = [item for item in match_starts if item[1] == endplus]\n",
    "            return match_both\n",
    "        \n",
    "        last_length = [-1]*len(arr_domain)\n",
    "        for i in range(len(arr_domain)):\n",
    "            if is_in_dictionary(markers, 0, i+1):\n",
    "                last_length[i] = i + 1\n",
    "            if last_length[i] == -1:\n",
    "                for j in range(i):\n",
    "                    if last_length[j] != -1 and is_in_dictionary(markers, j+1, i+1):\n",
    "                        last_length[i] = i - j\n",
    "                        break\n",
    "        decompositions = []\n",
    "        if last_length[-1] != -1:\n",
    "            idx = len(arr_domain) - 1\n",
    "            while idx >= 0:\n",
    "                decompositions.append(is_in_dictionary(markers,idx + 1 - last_length[idx], idx + 1)[0])\n",
    "                idx -= last_length[idx]\n",
    "            decompositions = decompositions[::-1]\n",
    "        return decompositions\n",
    "\n",
    " \n",
    "markers = get_markers(ph.seq, st, ['_ADDRESS_', '_POBOX_', '_SUITE_', '_DIR_'])\n",
    "book_best_fit(ph.w(st), markers)"
   ]
  },
  {
   "cell_type": "code",
   "execution_count": 135,
   "metadata": {},
   "outputs": [
    {
     "name": "stdout",
     "output_type": "stream",
     "text": [
      "[0, 1, 2, 3, 5, 6, 7]\n",
      "[10, 9, 8, 6, 4, 3]\n",
      "AND THE BEST IS\n",
      " [[0, 3, 3, ['_POBOX_'], 'po box 10'], [3, 6, 3, ['_ADDRESS_'], '1010 hwy 59'], [6, 8, 2, ['_SUITE_'], 'suite 100']]\n"
     ]
    }
   ],
   "source": [
    "def get_sorted_indexes(markers, which, up=True):\n",
    "    sorted_list = sorted(list(set([marker[which] for marker in markers])))\n",
    "    return sorted_list if up else sorted_list[::-1]\n",
    "\n",
    "markers = get_markers(ph.seq, st, ['_ADDRESS_', '_POBOX_', '_SUITE_', '_DIR_'])\n",
    "lefts = get_sorted_indexes(markers, 0, up=True)\n",
    "rights = get_sorted_indexes(markers, 1, up=False)\n",
    "print(lefts)\n",
    "print(rights)\n",
    "final_decomps = []\n",
    "for left in lefts:\n",
    "    for right in rights:\n",
    "        subject = ph.w(st)[left:right]\n",
    "        if not subject or (right - left) <=1:\n",
    "            continue\n",
    "        markers = get_markers(ph.seq, \" \".join(subject), ['_ADDRESS_', '_POBOX_', '_SUITE_', '_DIR_'])\n",
    "        decomp = book_best_fit(subject, markers)\n",
    "        if decomp:\n",
    "            #print(left, right, subject,'\\n',decomp, '\\n')\n",
    "            final_decomps.append(decomp)\n",
    "\n",
    "best_decomp = None\n",
    "max_len = 0\n",
    "for decomp in final_decomps:  \n",
    "    if any([['_ADDRESS_'] == marker[3] for marker in decomp]):\n",
    "        if decomp[-1][1] > max_len:\n",
    "            max_len = decomp[-1][1]\n",
    "            best_decomp = decomp\n",
    "        #print(\"DECOMP:\\n\", decomp, decomp[0][0], decomp[-1][1])  # select the largest one here and we're done!\n",
    "print(\"AND THE BEST IS\\n\", best_decomp)"
   ]
  },
  {
   "cell_type": "markdown",
   "metadata": {},
   "source": [
    "This is where I left off.  The last cell has the new best_fit, which will return the longest substring of continuous subunits containing an address,(Well have to dup it for po boxes if there isn't any."
   ]
  }
 ],
 "metadata": {
  "kernelspec": {
   "display_name": "Python 3",
   "language": "python",
   "name": "python3"
  },
  "language_info": {
   "codemirror_mode": {
    "name": "ipython",
    "version": 3
   },
   "file_extension": ".py",
   "mimetype": "text/x-python",
   "name": "python",
   "nbconvert_exporter": "python",
   "pygments_lexer": "ipython3",
   "version": "3.6.4"
  }
 },
 "nbformat": 4,
 "nbformat_minor": 2
}
