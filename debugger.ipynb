{
 "cells": [
  {
   "cell_type": "code",
   "execution_count": 5,
   "metadata": {},
   "outputs": [],
   "source": [
    "import phrase_entity_extraction as ph"
   ]
  },
  {
   "cell_type": "code",
   "execution_count": 6,
   "metadata": {},
   "outputs": [
    {
     "name": "stdout",
     "output_type": "stream",
     "text": [
      "\n",
      "## ************** NOT THE SAME!!!! *********************##\n",
      "\n",
      "Max Address:  1 HILLCREST CENTER DRIVE 225\n",
      "\n",
      "Encoding:  [['DIGIT', 'ADR_HEAD'], ['ALPHA'], ['WORDWAY', 'COMMONST'], ['WORDWAY'], ['WAY', 'PRE'], ['DIGIT', 'ADR_HEAD']]\n",
      "\n",
      "\n",
      "1 HILLCREST CENTER DRIVE ST 225,\"[['DIGIT', 'ADR_HEAD'], ['ALPHA'], ['WORDWAY', 'COMMONST'], ['WORDWAY'], ['WAY', 'PRE'], ['DIGIT', 'ADR_HEAD']]\"\n"
     ]
    }
   ],
   "source": [
    "st = \"1 HILLCREST CENTER DRIVE ST 225\".lower()\n",
    "max_address = ph.return_max_address3(ph.seq, st)\n",
    "if st.upper().strip() == max_address.upper().strip():\n",
    "    print(\"ALL GOOD!\")\n",
    "else:\n",
    "    print()\n",
    "    print(\"## ************** NOT THE SAME!!!! *********************##\\n\")\n",
    "encoding = ph.encode_from_word_list(ph.w(st))\n",
    "print(\"Max Address: \", max_address)\n",
    "print()\n",
    "print(\"Encoding: \", encoding)\n",
    "print('\\n\\n{},\"{}\"'.format(st.upper(), encoding))"
   ]
  },
  {
   "cell_type": "code",
   "execution_count": 7,
   "metadata": {},
   "outputs": [
    {
     "data": {
      "text/plain": [
       "[[0, 1, 1, ['SUITE'], '1'],\n",
       " [0, 2, 2, ['ADDRESS'], '1 hillcrest'],\n",
       " [0, 3, 3, ['ADDRESS'], '1 hillcrest center'],\n",
       " [0, 4, 4, ['ADDRESS'], '1 hillcrest center drive'],\n",
       " [5, 6, 1, ['SUITE'], '225']]"
      ]
     },
     "execution_count": 7,
     "metadata": {},
     "output_type": "execute_result"
    }
   ],
   "source": [
    "arr_cands = ph.get_markers(ph.seq, st, ['ADDRESS', 'POBOX', 'SUITE'])\n",
    "arr_cands"
   ]
  },
  {
   "cell_type": "code",
   "execution_count": 8,
   "metadata": {},
   "outputs": [
    {
     "data": {
      "text/plain": [
       "['1', 'hillcrest', 'center', 'drive', 'st', '225']"
      ]
     },
     "execution_count": 8,
     "metadata": {},
     "output_type": "execute_result"
    }
   ],
   "source": [
    "ph.w(st)"
   ]
  }
 ],
 "metadata": {
  "kernelspec": {
   "display_name": "Python 3",
   "language": "python",
   "name": "python3"
  },
  "language_info": {
   "codemirror_mode": {
    "name": "ipython",
    "version": 3
   },
   "file_extension": ".py",
   "mimetype": "text/x-python",
   "name": "python",
   "nbconvert_exporter": "python",
   "pygments_lexer": "ipython3",
   "version": "3.6.4"
  }
 },
 "nbformat": 4,
 "nbformat_minor": 2
}
