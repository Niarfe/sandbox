{
 "cells": [
  {
   "cell_type": "code",
   "execution_count": 11,
   "metadata": {},
   "outputs": [],
   "source": [
    "import phrase_entity_extraction as ph"
   ]
  },
  {
   "cell_type": "code",
   "execution_count": 14,
   "metadata": {},
   "outputs": [
    {
     "name": "stdout",
     "output_type": "stream",
     "text": [
      "\n",
      "## ************** NOT THE SAME!!!! *********************##\n",
      "\n",
      "Max Address:  951 S PK \n",
      "\n",
      "WORD ARRAY:  ['951', 's', 'pk', 'st'] \n",
      "\n",
      "ENCODING:  [['DIGIT', 'ADR_HEAD'], ['LETTER', 'DIR'], ['WAY'], ['WAY', 'PRE']]\n",
      "\n",
      "\n",
      "951 S PK ST,\"[['DIGIT', 'ADR_HEAD'], ['LETTER', 'DIR'], ['WAY'], ['WAY', 'PRE']]\"\n"
     ]
    }
   ],
   "source": [
    "sent = \"\"\"951 S PK ST\"\"\".lower() \n",
    "\n",
    "max_address = ph.return_max_address3(ph.seq, sent)\n",
    "if sent.upper().strip() == max_address.upper().strip():\n",
    "    print(\"ALL GOOD!\")\n",
    "else:\n",
    "    print()\n",
    "    print(\"## ************** NOT THE SAME!!!! *********************##\\n\")\n",
    "encoding = ph.encode_from_word_list(ph.w(sent))\n",
    "print(\"Max Address: \", max_address, \"\\n\\nWORD ARRAY: \", ph.w(sent), \"\\n\\nENCODING: \", encoding)\n",
    "print('\\n\\n{},\"{}\"'.format(sent.upper(), encoding))"
   ]
  },
  {
   "cell_type": "code",
   "execution_count": 15,
   "metadata": {},
   "outputs": [
    {
     "data": {
      "text/plain": [
       "[[0, 3, 3, ['ADDRESS'], '951 s pk']]"
      ]
     },
     "execution_count": 15,
     "metadata": {},
     "output_type": "execute_result"
    }
   ],
   "source": [
    "ph.return_best_fit(ph.seq, sent)"
   ]
  },
  {
   "cell_type": "code",
   "execution_count": 16,
   "metadata": {},
   "outputs": [
    {
     "data": {
      "text/plain": [
       "[[0, 1, 1, ['SUITE'], '951'],\n",
       " [0, 2, 2, ['SUITE'], '951 s'],\n",
       " [0, 3, 3, ['ADDRESS'], '951 s pk'],\n",
       " [1, 2, 1, ['SUITE'], 's']]"
      ]
     },
     "execution_count": 16,
     "metadata": {},
     "output_type": "execute_result"
    }
   ],
   "source": [
    "arr_cands = ph.get_markers(ph.seq, sent, ['ADDRESS', 'POBOX', 'SUITE'])\n",
    "arr_cands"
   ]
  },
  {
   "cell_type": "code",
   "execution_count": 5,
   "metadata": {},
   "outputs": [],
   "source": [
    "def return_best_fit(seq, sent, book_fit=False):\n",
    "    items_of_interest = ['POBOX', 'ADDRESS', 'ATTN', 'SUITE','_DIR_']\n",
    "    markers = ph.get_markers(seq, sent, items_of_interest)\n",
    "    def get_sorted_entity(_markers, entity):\n",
    "        entities = [arr for arr in _markers if arr[3][0] == entity]\n",
    "        entities.sort(key=lambda x: int(x[2]))\n",
    "        return entities\n",
    "    \n",
    "    def entitys_overlap(ent1, ent2):\n",
    "        if ent1[1] <= ent2[0] or ent2[1] <= ent1[0]:\n",
    "            return False\n",
    "        else:\n",
    "            return True\n",
    "    \n",
    "    def add_next(markers, best_fit, entity):\n",
    "        suites = get_sorted_entity(markers, entity)\n",
    "        idx = len(suites) - 1\n",
    "        while idx >= 0:\n",
    "            if not any([entitys_overlap(item, suites[idx]) for item in best_fit]):\n",
    "                best_fit.append(suites[idx])\n",
    "                break\n",
    "            else:\n",
    "                idx -= 1\n",
    "        return best_fit\n",
    "    \n",
    "    def book_best_fit(arr_domain, markers):\n",
    "        def is_in_dictionary(markers, start, endplus):\n",
    "            match_starts = [item for item in markers if item[0] == start]\n",
    "            match_both = [item for item in match_starts if item[1] == endplus]\n",
    "            return match_both\n",
    "        last_length = [-1]*len(arr_domain)\n",
    "        for i in range(len(arr_domain)):\n",
    "            if is_in_dictionary(markers, 0, i+1):\n",
    "                last_length[i] = i + 1\n",
    "            if last_length[i] == -1:\n",
    "                for j in range(i):\n",
    "                    if last_length[j] != -1 and is_in_dictionary(markers, j+1, i+1):\n",
    "                        last_length[i] = i - j\n",
    "                        break\n",
    "        decompositions = []\n",
    "        if last_length[-1] != -1:\n",
    "            idx = len(arr_domain) - 1\n",
    "            while idx >= 0:\n",
    "                decompositions.append(is_in_dictionary(markers,idx + 1 - last_length[idx], idx + 1)[0])\n",
    "                idx -= last_length[idx]\n",
    "            decompositions = decompositions[::-1]\n",
    "        return decompositions\n",
    "    \n",
    "    best_fit = []\n",
    "    if not book_fit:\n",
    "        for nugget in items_of_interest:\n",
    "            best_fit = add_next(markers, best_fit, nugget)\n",
    "            best_fit.sort(key=lambda x: int(x[0]))\n",
    "    else:\n",
    "        best_fit = book_best_fit(ph.w(sent), markers)\n",
    "\n",
    "    return best_fit"
   ]
  },
  {
   "cell_type": "code",
   "execution_count": 6,
   "metadata": {},
   "outputs": [
    {
     "data": {
      "text/plain": [
       "[[0, 5, 5, ['ADDRESS'], '23461 us hwy 5 n'], [5, 7, 2, ['SUITE'], 'no 818']]"
      ]
     },
     "execution_count": 6,
     "metadata": {},
     "output_type": "execute_result"
    }
   ],
   "source": [
    "return_best_fit(ph.seq, sent, book_fit=True)"
   ]
  },
  {
   "cell_type": "code",
   "execution_count": 7,
   "metadata": {},
   "outputs": [],
   "source": [
    "def return_max_address2(seq, sent):\n",
    "    kinds = ['ADDRESS', 'POBOX', 'SUITE']\n",
    "    decomposition = ph.decompose_into_dictionary_words(ph.w(sent.lower()), seq, kinds)\n",
    "    found_tuples = decomposition[3]\n",
    "    max_address = []\n",
    "    for kindof, value in found_tuples:\n",
    "        if kindof and kindof[0] in kinds:\n",
    "            max_address.append(value)\n",
    "    return \" \".join(max_address).upper()"
   ]
  },
  {
   "cell_type": "code",
   "execution_count": 8,
   "metadata": {},
   "outputs": [
    {
     "name": "stdout",
     "output_type": "stream",
     "text": [
      "[1, -1, 3, 4, 5, -1, 2]\n"
     ]
    },
    {
     "data": {
      "text/plain": [
       "([1, -1, 3, 4, 5, -1, 2],\n",
       " [['SUITE'], '', ['ADDRESS'], ['ADDRESS'], ['ADDRESS'], '', ['SUITE']],\n",
       " [['ADDRESS'], ['SUITE']],\n",
       " [(['ADDRESS'], '23461 us hwy 5 n'), (['SUITE'], 'no 818')])"
      ]
     },
     "execution_count": 8,
     "metadata": {},
     "output_type": "execute_result"
    }
   ],
   "source": [
    "ph.decompose_into_dictionary_words(ph.w(sent), ph.seq, ['ADDRESS', 'SUITE', 'POBOX'])"
   ]
  },
  {
   "cell_type": "code",
   "execution_count": 9,
   "metadata": {},
   "outputs": [
    {
     "data": {
      "text/plain": [
       "[[0, 5, 5, ['ADDRESS'], '23461 us hwy 5 n'], [5, 7, 2, ['SUITE'], 'no 818']]"
      ]
     },
     "execution_count": 9,
     "metadata": {},
     "output_type": "execute_result"
    }
   ],
   "source": [
    "def book_best_fit(arr_domain, markers):\n",
    "    def is_in_dictionary(markers, start, endplus):\n",
    "        match_starts = [item for item in markers if item[0] == start]\n",
    "        match_both = [item for item in match_starts if item[1] == endplus]\n",
    "        return match_both\n",
    "    last_length = [-1]*len(arr_domain)\n",
    "    for i in range(len(arr_domain)):\n",
    "        if is_in_dictionary(markers, 0, i+1):\n",
    "            last_length[i] = i + 1\n",
    "        if last_length[i] == -1:\n",
    "            for j in range(i):\n",
    "                if last_length[j] != -1 and is_in_dictionary(markers, j+1, i+1):\n",
    "                    last_length[i] = i - j\n",
    "                    break\n",
    "    decompositions = []\n",
    "    if last_length[-1] != -1:\n",
    "        idx = len(arr_domain) - 1\n",
    "        while idx >= 0:\n",
    "            decompositions.append(is_in_dictionary(markers,idx + 1 - last_length[idx], idx + 1)[0])\n",
    "            idx -= last_length[idx]\n",
    "        decompositions = decompositions[::-1]\n",
    "    return decompositions\n",
    "\n",
    "book_best_fit(ph.w(sent), arr_cands)"
   ]
  },
  {
   "cell_type": "code",
   "execution_count": 10,
   "metadata": {},
   "outputs": [
    {
     "name": "stdout",
     "output_type": "stream",
     "text": [
      "[[0, 3, 3, ['ADDRESS'], '23461 us hwy'], [0, 4, 4, ['ADDRESS'], '23461 us hwy 5'], [0, 5, 5, ['ADDRESS'], '23461 us hwy 5 n'], [3, 4, 1, ['SUITE'], '5'], [3, 5, 2, ['SUITE'], '5 n'], [4, 5, 1, ['SUITE'], 'n'], [5, 7, 2, ['SUITE'], 'no 818'], [6, 7, 1, ['SUITE'], '818']]\n"
     ]
    },
    {
     "data": {
      "text/plain": [
       "[[0, 1, 1, ['SUITE'], '23461'],\n",
       " [0, 3, 3, ['ADDRESS'], '23461 us hwy'],\n",
       " [0, 4, 4, ['ADDRESS'], '23461 us hwy 5'],\n",
       " [0, 5, 5, ['ADDRESS'], '23461 us hwy 5 n'],\n",
       " [3, 4, 1, ['SUITE'], '5'],\n",
       " [3, 5, 2, ['SUITE'], '5 n'],\n",
       " [4, 5, 1, ['SUITE'], 'n'],\n",
       " [5, 7, 2, ['SUITE'], 'no 818'],\n",
       " [6, 7, 1, ['SUITE'], '818']]"
      ]
     },
     "execution_count": 10,
     "metadata": {},
     "output_type": "execute_result"
    }
   ],
   "source": [
    "filtered_markers = [marker for marker in arr_cands if not (marker[0] == 0 and marker[2] == 1)]\n",
    "print(filtered_markers)\n",
    "arr_cands"
   ]
  }
 ],
 "metadata": {
  "kernelspec": {
   "display_name": "Python 3",
   "language": "python",
   "name": "python3"
  },
  "language_info": {
   "codemirror_mode": {
    "name": "ipython",
    "version": 3
   },
   "file_extension": ".py",
   "mimetype": "text/x-python",
   "name": "python",
   "nbconvert_exporter": "python",
   "pygments_lexer": "ipython3",
   "version": "3.6.4"
  }
 },
 "nbformat": 4,
 "nbformat_minor": 2
}
