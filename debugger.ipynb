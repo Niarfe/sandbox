{
 "cells": [
  {
   "cell_type": "code",
   "execution_count": 12,
   "metadata": {},
   "outputs": [],
   "source": [
    "import phrase_entity_extraction as ph"
   ]
  },
  {
   "cell_type": "code",
   "execution_count": 25,
   "metadata": {},
   "outputs": [
    {
     "name": "stdout",
     "output_type": "stream",
     "text": [
      "\n",
      "## ************** NOT THE SAME!!!! *********************##\n",
      "\n",
      "Max Address:  122 FIFTH AVENUE NEW 10011 \n",
      "\n",
      "WORD ARRAY:  ['2018', 'barnes', '&', 'noble', 'all', 'rights', 'reserved', 'this', 'email', 'is', 'an', 'advertisement', 'from', 'barnes', '&', 'noble', ',', 'inc', '122', 'fifth', 'avenue', 'new', 'york', ',', 'ny', '10011', 'attn:', 'marketing', 'preferences', 'privacy', 'policy'] \n",
      "\n",
      "ENCODING:  [['DIGIT', 'ADR_HEAD'], ['ALPHA'], [], ['ALPHA'], ['ALPHA'], ['ALPHA'], ['ALPHA'], ['ALPHA'], ['ALPHA'], ['WAY'], ['ALPHA'], ['ALPHA'], ['ALPHA'], ['ALPHA'], [], ['ALPHA'], ['COMMA'], ['ALPHA'], ['DIGIT', 'ADR_HEAD'], ['ALPHA', 'COMMONST'], ['WORDWAY'], ['ALPHA', 'COMMONST'], ['ALPHA', 'COMMONST'], ['COMMA'], ['ALPHA'], ['DIGIT', 'ADR_HEAD'], ['DELEG'], ['ALPHA'], ['ALPHA'], ['ALPHA'], ['ALPHA']]\n",
      "\n",
      "\n",
      "2018 BARNES & NOBLE. ALL RIGHTS RESERVED.\n",
      "THIS EMAIL IS AN ADVERTISEMENT FROM BARNES & NOBLE, INC.\n",
      "122 FIFTH AVENUE NEW YORK, NY 10011\n",
      "ATTN: MARKETING PREFERENCES\n",
      "PRIVACY POLICY,\"[['DIGIT', 'ADR_HEAD'], ['ALPHA'], [], ['ALPHA'], ['ALPHA'], ['ALPHA'], ['ALPHA'], ['ALPHA'], ['ALPHA'], ['WAY'], ['ALPHA'], ['ALPHA'], ['ALPHA'], ['ALPHA'], [], ['ALPHA'], ['COMMA'], ['ALPHA'], ['DIGIT', 'ADR_HEAD'], ['ALPHA', 'COMMONST'], ['WORDWAY'], ['ALPHA', 'COMMONST'], ['ALPHA', 'COMMONST'], ['COMMA'], ['ALPHA'], ['DIGIT', 'ADR_HEAD'], ['DELEG'], ['ALPHA'], ['ALPHA'], ['ALPHA'], ['ALPHA']]\"\n"
     ]
    }
   ],
   "source": [
    "sent = \"\"\"2018 Barnes & Noble. All Rights Reserved.\n",
    "This email is an advertisement from Barnes & Noble, Inc.\n",
    "122 Fifth Avenue New York, NY 10011\n",
    "Attn: Marketing Preferences\n",
    "Privacy Policy\"\"\".lower() \n",
    "\n",
    "max_address = ph.return_max_address3(ph.seq, sent)\n",
    "if sent.upper().strip() == max_address.upper().strip():\n",
    "    print(\"ALL GOOD!\")\n",
    "else:\n",
    "    print()\n",
    "    print(\"## ************** NOT THE SAME!!!! *********************##\\n\")\n",
    "encoding = ph.encode_from_word_list(ph.w(sent))\n",
    "print(\"Max Address: \", max_address, \"\\n\\nWORD ARRAY: \", ph.w(sent), \"\\n\\nENCODING: \", encoding)\n",
    "print('\\n\\n{},\"{}\"'.format(sent.upper(), encoding))"
   ]
  },
  {
   "cell_type": "code",
   "execution_count": 26,
   "metadata": {},
   "outputs": [
    {
     "data": {
      "text/plain": [
       "[[18, 22, 4, ['ADDRESS'], '122 fifth avenue new'],\n",
       " [25, 26, 1, ['SUITE'], '10011'],\n",
       " [26, 29, 3, ['ATTN'], 'attn: marketing preferences']]"
      ]
     },
     "execution_count": 26,
     "metadata": {},
     "output_type": "execute_result"
    }
   ],
   "source": [
    "ph.return_best_fit(ph.seq, sent)"
   ]
  },
  {
   "cell_type": "code",
   "execution_count": 15,
   "metadata": {},
   "outputs": [
    {
     "data": {
      "text/plain": [
       "[[12, 13, 1, ['SUITE'], '2'],\n",
       " [14, 15, 1, ['SUITE'], '2018'],\n",
       " [22, 23, 1, ['SUITE'], 'u'],\n",
       " [23, 24, 1, ['SUITE'], 's'],\n",
       " [32, 33, 1, ['SUITE'], 'not'],\n",
       " [37, 38, 1, ['SUITE'], '2018'],\n",
       " [37, 39, 2, ['ADDRESS'], '2018 michaels'],\n",
       " [42, 43, 1, ['SUITE'], '8000'],\n",
       " [42, 44, 2, ['ADDRESS'], '8000 bent'],\n",
       " [42, 45, 3, ['ADDRESS'], '8000 bent branch'],\n",
       " [42, 46, 4, ['ADDRESS'], '8000 bent branch drive'],\n",
       " [50, 51, 1, ['SUITE'], '75063']]"
      ]
     },
     "execution_count": 15,
     "metadata": {},
     "output_type": "execute_result"
    }
   ],
   "source": [
    "arr_cands = ph.get_markers(ph.seq, sent, ['ADDRESS', 'POBOX', 'SUITE'])\n",
    "arr_cands"
   ]
  },
  {
   "cell_type": "code",
   "execution_count": 16,
   "metadata": {},
   "outputs": [],
   "source": [
    "def return_best_fit(seq, sent, book_fit=False):\n",
    "    items_of_interest = ['POBOX', 'ADDRESS', 'ATTN', 'SUITE','_DIR_']\n",
    "    markers = ph.get_markers(seq, sent, items_of_interest)\n",
    "    def get_sorted_entity(_markers, entity):\n",
    "        entities = [arr for arr in _markers if arr[3][0] == entity]\n",
    "        entities.sort(key=lambda x: int(x[2]))\n",
    "        return entities\n",
    "    \n",
    "    def entitys_overlap(ent1, ent2):\n",
    "        if ent1[1] <= ent2[0] or ent2[1] <= ent1[0]:\n",
    "            return False\n",
    "        else:\n",
    "            return True\n",
    "    \n",
    "    def add_next(markers, best_fit, entity):\n",
    "        suites = get_sorted_entity(markers, entity)\n",
    "        idx = len(suites) - 1\n",
    "        while idx >= 0:\n",
    "            if not any([entitys_overlap(item, suites[idx]) for item in best_fit]):\n",
    "                best_fit.append(suites[idx])\n",
    "                break\n",
    "            else:\n",
    "                idx -= 1\n",
    "        return best_fit\n",
    "    \n",
    "    def book_best_fit(arr_domain, markers):\n",
    "        def is_in_dictionary(markers, start, endplus):\n",
    "            match_starts = [item for item in markers if item[0] == start]\n",
    "            match_both = [item for item in match_starts if item[1] == endplus]\n",
    "            return match_both\n",
    "        last_length = [-1]*len(arr_domain)\n",
    "        for i in range(len(arr_domain)):\n",
    "            if is_in_dictionary(markers, 0, i+1):\n",
    "                last_length[i] = i + 1\n",
    "            if last_length[i] == -1:\n",
    "                for j in range(i):\n",
    "                    if last_length[j] != -1 and is_in_dictionary(markers, j+1, i+1):\n",
    "                        last_length[i] = i - j\n",
    "                        break\n",
    "        decompositions = []\n",
    "        if last_length[-1] != -1:\n",
    "            idx = len(arr_domain) - 1\n",
    "            while idx >= 0:\n",
    "                decompositions.append(is_in_dictionary(markers,idx + 1 - last_length[idx], idx + 1)[0])\n",
    "                idx -= last_length[idx]\n",
    "            decompositions = decompositions[::-1]\n",
    "        return decompositions\n",
    "    \n",
    "    best_fit = []\n",
    "    if not book_fit:\n",
    "        for nugget in items_of_interest:\n",
    "            best_fit = add_next(markers, best_fit, nugget)\n",
    "            best_fit.sort(key=lambda x: int(x[0]))\n",
    "    else:\n",
    "        best_fit = book_best_fit(ph.w(sent), markers)\n",
    "\n",
    "    return best_fit"
   ]
  },
  {
   "cell_type": "code",
   "execution_count": 17,
   "metadata": {},
   "outputs": [
    {
     "data": {
      "text/plain": [
       "[]"
      ]
     },
     "execution_count": 17,
     "metadata": {},
     "output_type": "execute_result"
    }
   ],
   "source": [
    "return_best_fit(ph.seq, sent, book_fit=True)"
   ]
  },
  {
   "cell_type": "code",
   "execution_count": 18,
   "metadata": {},
   "outputs": [],
   "source": [
    "def return_max_address2(seq, sent):\n",
    "    kinds = ['ADDRESS', 'POBOX', 'SUITE']\n",
    "    decomposition = ph.decompose_into_dictionary_words(ph.w(sent.lower()), seq, kinds)\n",
    "    found_tuples = decomposition[3]\n",
    "    max_address = []\n",
    "    for kindof, value in found_tuples:\n",
    "        if kindof and kindof[0] in kinds:\n",
    "            max_address.append(value)\n",
    "    return \" \".join(max_address).upper()"
   ]
  },
  {
   "cell_type": "code",
   "execution_count": 19,
   "metadata": {},
   "outputs": [
    {
     "name": "stdout",
     "output_type": "stream",
     "text": [
      "[-1, -1, -1, -1, -1, -1, -1, -1, -1, -1, -1, -1, 1, -1, 1, -1, -1, -1, -1, -1, -1, -1, 1, 1, -1, -1, -1, -1, -1, -1, -1, -1, 1, -1, -1, -1, -1, 1, 2, -1, -1, -1, 1, 2, 3, 4, -1, -1, -1, -1, 1]\n"
     ]
    },
    {
     "data": {
      "text/plain": [
       "([-1,\n",
       "  -1,\n",
       "  -1,\n",
       "  -1,\n",
       "  -1,\n",
       "  -1,\n",
       "  -1,\n",
       "  -1,\n",
       "  -1,\n",
       "  -1,\n",
       "  -1,\n",
       "  -1,\n",
       "  1,\n",
       "  -1,\n",
       "  1,\n",
       "  -1,\n",
       "  -1,\n",
       "  -1,\n",
       "  -1,\n",
       "  -1,\n",
       "  -1,\n",
       "  -1,\n",
       "  1,\n",
       "  1,\n",
       "  -1,\n",
       "  -1,\n",
       "  -1,\n",
       "  -1,\n",
       "  -1,\n",
       "  -1,\n",
       "  -1,\n",
       "  -1,\n",
       "  1,\n",
       "  -1,\n",
       "  -1,\n",
       "  -1,\n",
       "  -1,\n",
       "  1,\n",
       "  2,\n",
       "  -1,\n",
       "  -1,\n",
       "  -1,\n",
       "  1,\n",
       "  2,\n",
       "  3,\n",
       "  4,\n",
       "  -1,\n",
       "  -1,\n",
       "  -1,\n",
       "  -1,\n",
       "  1],\n",
       " ['',\n",
       "  '',\n",
       "  '',\n",
       "  '',\n",
       "  '',\n",
       "  '',\n",
       "  '',\n",
       "  '',\n",
       "  '',\n",
       "  '',\n",
       "  '',\n",
       "  '',\n",
       "  ['SUITE'],\n",
       "  '',\n",
       "  ['SUITE'],\n",
       "  '',\n",
       "  '',\n",
       "  '',\n",
       "  '',\n",
       "  '',\n",
       "  '',\n",
       "  '',\n",
       "  ['SUITE'],\n",
       "  ['SUITE'],\n",
       "  '',\n",
       "  '',\n",
       "  '',\n",
       "  '',\n",
       "  '',\n",
       "  '',\n",
       "  '',\n",
       "  '',\n",
       "  ['SUITE'],\n",
       "  '',\n",
       "  '',\n",
       "  '',\n",
       "  '',\n",
       "  ['SUITE'],\n",
       "  ['ADDRESS'],\n",
       "  '',\n",
       "  '',\n",
       "  '',\n",
       "  ['SUITE'],\n",
       "  ['ADDRESS'],\n",
       "  ['ADDRESS'],\n",
       "  ['ADDRESS'],\n",
       "  '',\n",
       "  '',\n",
       "  '',\n",
       "  '',\n",
       "  ['SUITE']],\n",
       " ['',\n",
       "  '',\n",
       "  '',\n",
       "  '',\n",
       "  '',\n",
       "  '',\n",
       "  '',\n",
       "  '',\n",
       "  '',\n",
       "  '',\n",
       "  '',\n",
       "  '',\n",
       "  ['SUITE'],\n",
       "  '',\n",
       "  ['SUITE'],\n",
       "  '',\n",
       "  '',\n",
       "  '',\n",
       "  '',\n",
       "  '',\n",
       "  '',\n",
       "  '',\n",
       "  ['SUITE'],\n",
       "  ['SUITE'],\n",
       "  '',\n",
       "  '',\n",
       "  '',\n",
       "  '',\n",
       "  '',\n",
       "  '',\n",
       "  '',\n",
       "  '',\n",
       "  ['SUITE'],\n",
       "  '',\n",
       "  '',\n",
       "  '',\n",
       "  '',\n",
       "  ['ADDRESS'],\n",
       "  '',\n",
       "  '',\n",
       "  '',\n",
       "  ['ADDRESS'],\n",
       "  '',\n",
       "  '',\n",
       "  '',\n",
       "  '',\n",
       "  ['SUITE']],\n",
       " [('', ''),\n",
       "  ('', ''),\n",
       "  ('', ''),\n",
       "  ('', ''),\n",
       "  ('', ''),\n",
       "  ('', ''),\n",
       "  ('', ''),\n",
       "  ('', ''),\n",
       "  ('', ''),\n",
       "  ('', ''),\n",
       "  ('', ''),\n",
       "  ('', ''),\n",
       "  (['SUITE'], '2'),\n",
       "  ('', ''),\n",
       "  (['SUITE'], '2018'),\n",
       "  ('', ''),\n",
       "  ('', ''),\n",
       "  ('', ''),\n",
       "  ('', ''),\n",
       "  ('', ''),\n",
       "  ('', ''),\n",
       "  ('', ''),\n",
       "  (['SUITE'], 'u'),\n",
       "  (['SUITE'], 's'),\n",
       "  ('', ''),\n",
       "  ('', ''),\n",
       "  ('', ''),\n",
       "  ('', ''),\n",
       "  ('', ''),\n",
       "  ('', ''),\n",
       "  ('', ''),\n",
       "  ('', ''),\n",
       "  (['SUITE'], 'not'),\n",
       "  ('', ''),\n",
       "  ('', ''),\n",
       "  ('', ''),\n",
       "  ('', ''),\n",
       "  (['ADDRESS'], '2018 michaels'),\n",
       "  ('', ''),\n",
       "  ('', ''),\n",
       "  ('', ''),\n",
       "  (['ADDRESS'], '8000 bent branch drive'),\n",
       "  ('', ''),\n",
       "  ('', ''),\n",
       "  ('', ''),\n",
       "  ('', ''),\n",
       "  (['SUITE'], '75063')])"
      ]
     },
     "execution_count": 19,
     "metadata": {},
     "output_type": "execute_result"
    }
   ],
   "source": [
    "ph.decompose_into_dictionary_words(ph.w(sent), ph.seq, ['ADDRESS', 'SUITE', 'POBOX'])"
   ]
  },
  {
   "cell_type": "code",
   "execution_count": 20,
   "metadata": {},
   "outputs": [
    {
     "data": {
      "text/plain": [
       "[]"
      ]
     },
     "execution_count": 20,
     "metadata": {},
     "output_type": "execute_result"
    }
   ],
   "source": [
    "def book_best_fit(arr_domain, markers):\n",
    "    def is_in_dictionary(markers, start, endplus):\n",
    "        match_starts = [item for item in markers if item[0] == start]\n",
    "        match_both = [item for item in match_starts if item[1] == endplus]\n",
    "        return match_both\n",
    "    last_length = [-1]*len(arr_domain)\n",
    "    for i in range(len(arr_domain)):\n",
    "        if is_in_dictionary(markers, 0, i+1):\n",
    "            last_length[i] = i + 1\n",
    "        if last_length[i] == -1:\n",
    "            for j in range(i):\n",
    "                if last_length[j] != -1 and is_in_dictionary(markers, j+1, i+1):\n",
    "                    last_length[i] = i - j\n",
    "                    break\n",
    "    decompositions = []\n",
    "    if last_length[-1] != -1:\n",
    "        idx = len(arr_domain) - 1\n",
    "        while idx >= 0:\n",
    "            decompositions.append(is_in_dictionary(markers,idx + 1 - last_length[idx], idx + 1)[0])\n",
    "            idx -= last_length[idx]\n",
    "        decompositions = decompositions[::-1]\n",
    "    return decompositions\n",
    "\n",
    "book_best_fit(ph.w(sent), arr_cands)"
   ]
  },
  {
   "cell_type": "code",
   "execution_count": 21,
   "metadata": {},
   "outputs": [
    {
     "name": "stdout",
     "output_type": "stream",
     "text": [
      "[[12, 13, 1, ['SUITE'], '2'], [14, 15, 1, ['SUITE'], '2018'], [22, 23, 1, ['SUITE'], 'u'], [23, 24, 1, ['SUITE'], 's'], [32, 33, 1, ['SUITE'], 'not'], [37, 38, 1, ['SUITE'], '2018'], [37, 39, 2, ['ADDRESS'], '2018 michaels'], [42, 43, 1, ['SUITE'], '8000'], [42, 44, 2, ['ADDRESS'], '8000 bent'], [42, 45, 3, ['ADDRESS'], '8000 bent branch'], [42, 46, 4, ['ADDRESS'], '8000 bent branch drive'], [50, 51, 1, ['SUITE'], '75063']]\n"
     ]
    },
    {
     "data": {
      "text/plain": [
       "[[12, 13, 1, ['SUITE'], '2'],\n",
       " [14, 15, 1, ['SUITE'], '2018'],\n",
       " [22, 23, 1, ['SUITE'], 'u'],\n",
       " [23, 24, 1, ['SUITE'], 's'],\n",
       " [32, 33, 1, ['SUITE'], 'not'],\n",
       " [37, 38, 1, ['SUITE'], '2018'],\n",
       " [37, 39, 2, ['ADDRESS'], '2018 michaels'],\n",
       " [42, 43, 1, ['SUITE'], '8000'],\n",
       " [42, 44, 2, ['ADDRESS'], '8000 bent'],\n",
       " [42, 45, 3, ['ADDRESS'], '8000 bent branch'],\n",
       " [42, 46, 4, ['ADDRESS'], '8000 bent branch drive'],\n",
       " [50, 51, 1, ['SUITE'], '75063']]"
      ]
     },
     "execution_count": 21,
     "metadata": {},
     "output_type": "execute_result"
    }
   ],
   "source": [
    "filtered_markers = [marker for marker in arr_cands if not (marker[0] == 0 and marker[2] == 1)]\n",
    "print(filtered_markers)\n",
    "arr_cands"
   ]
  }
 ],
 "metadata": {
  "kernelspec": {
   "display_name": "Python 3",
   "language": "python",
   "name": "python3"
  },
  "language_info": {
   "codemirror_mode": {
    "name": "ipython",
    "version": 3
   },
   "file_extension": ".py",
   "mimetype": "text/x-python",
   "name": "python",
   "nbconvert_exporter": "python",
   "pygments_lexer": "ipython3",
   "version": "3.6.4"
  }
 },
 "nbformat": 4,
 "nbformat_minor": 2
}
