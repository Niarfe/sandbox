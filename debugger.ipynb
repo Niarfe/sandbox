{
 "cells": [
  {
   "cell_type": "code",
   "execution_count": 7,
   "metadata": {},
   "outputs": [],
   "source": [
    "import phrase_entity_extraction as ph"
   ]
  },
  {
   "cell_type": "code",
   "execution_count": 8,
   "metadata": {},
   "outputs": [
    {
     "name": "stdout",
     "output_type": "stream",
     "text": [
      "\n",
      "## ************** NOT THE SAME!!!! *********************##\n",
      "\n",
      "Max Address:  N \n",
      "\n",
      "WORD ARRAY:  ['160', 'the', 'promenade', 'n'] \n",
      "\n",
      "ENCODING:  [['DIGIT', 'ADR_HEAD'], ['ARTI'], ['WORDWAY'], ['LETTER', 'DIR']]\n",
      "\n",
      "\n",
      "160 THE PROMENADE N,\"[['DIGIT', 'ADR_HEAD'], ['ARTI'], ['WORDWAY'], ['LETTER', 'DIR']]\"\n"
     ]
    }
   ],
   "source": [
    "st = \"160 THE PROMENADE N\".lower()\n",
    "max_address = ph.return_max_address3(ph.seq, st)\n",
    "if st.upper().strip() == max_address.upper().strip():\n",
    "    print(\"ALL GOOD!\")\n",
    "else:\n",
    "    print()\n",
    "    print(\"## ************** NOT THE SAME!!!! *********************##\\n\")\n",
    "encoding = ph.encode_from_word_list(ph.w(st))\n",
    "print(\"Max Address: \", max_address, \"\\n\\nWORD ARRAY: \", ph.w(st), \"\\n\\nENCODING: \", encoding)\n",
    "print('\\n\\n{},\"{}\"'.format(st.upper(), encoding))"
   ]
  },
  {
   "cell_type": "code",
   "execution_count": 9,
   "metadata": {},
   "outputs": [
    {
     "data": {
      "text/plain": [
       "[[3, 4, 1, ['SUITE', '_DIR_'], 'n']]"
      ]
     },
     "execution_count": 9,
     "metadata": {},
     "output_type": "execute_result"
    }
   ],
   "source": [
    "ph.return_best_fit(ph.seq, st)"
   ]
  },
  {
   "cell_type": "code",
   "execution_count": 10,
   "metadata": {},
   "outputs": [
    {
     "data": {
      "text/plain": [
       "[[0, 1, 1, ['SUITE'], '160'], [3, 4, 1, ['SUITE'], 'n']]"
      ]
     },
     "execution_count": 10,
     "metadata": {},
     "output_type": "execute_result"
    }
   ],
   "source": [
    "arr_cands = ph.get_markers(ph.seq, st, ['ADDRESS', 'POBOX', 'SUITE'])\n",
    "arr_cands"
   ]
  },
  {
   "cell_type": "code",
   "execution_count": 11,
   "metadata": {},
   "outputs": [
    {
     "data": {
      "text/plain": [
       "[]"
      ]
     },
     "execution_count": 11,
     "metadata": {},
     "output_type": "execute_result"
    }
   ],
   "source": [
    "import re\n",
    "stst = 'st'\n",
    "\n",
    "re.findall(r'^(st|ste)[a-z]+$', stst)"
   ]
  },
  {
   "cell_type": "code",
   "execution_count": 12,
   "metadata": {},
   "outputs": [
    {
     "data": {
      "text/plain": [
       "[]"
      ]
     },
     "execution_count": 12,
     "metadata": {},
     "output_type": "execute_result"
    }
   ],
   "source": [
    "ph.seq.look_ahead(ph.encode_from_word_list(ph.w(\"st 100\"))).get_next_values()"
   ]
  }
 ],
 "metadata": {
  "kernelspec": {
   "display_name": "Python 3",
   "language": "python",
   "name": "python3"
  },
  "language_info": {
   "codemirror_mode": {
    "name": "ipython",
    "version": 3
   },
   "file_extension": ".py",
   "mimetype": "text/x-python",
   "name": "python",
   "nbconvert_exporter": "python",
   "pygments_lexer": "ipython3",
   "version": "3.4.3"
  }
 },
 "nbformat": 4,
 "nbformat_minor": 2
}
