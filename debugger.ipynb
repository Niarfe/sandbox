{
 "cells": [
  {
   "cell_type": "code",
   "execution_count": 1,
   "metadata": {},
   "outputs": [],
   "source": [
    "import phrase_entity_extraction as ph"
   ]
  },
  {
   "cell_type": "code",
   "execution_count": 2,
   "metadata": {},
   "outputs": [
    {
     "name": "stdout",
     "output_type": "stream",
     "text": [
      "\n",
      "## ************** NOT THE SAME!!!! *********************##\n",
      "\n",
      "Max Address:  10 270 webers lane \n",
      "\n",
      "WORD ARRAY:  ['apt', '10', '270', 'webers', 'lane'] \n",
      "\n",
      "ENCODING:  [['APT'], ['DIGIT', 'ADR_HEAD'], ['DIGIT', 'ADR_HEAD'], ['ALPHA'], ['WORDWAY']]\n",
      "\n",
      "\n",
      "APT 10 270 WEBERS LANE,\"[['APT'], ['DIGIT', 'ADR_HEAD'], ['DIGIT', 'ADR_HEAD'], ['ALPHA'], ['WORDWAY']]\"\n"
     ]
    }
   ],
   "source": [
    "sent = \"\"\"APT 10 270 WEBERS LANE\"\"\".lower() \n",
    "\n",
    "max_address = ph.return_max_address4(ph.seq, sent)\n",
    "if sent.upper().strip() == max_address.upper().strip():\n",
    "    print(\"ALL GOOD!\")\n",
    "else:\n",
    "    print()\n",
    "    print(\"## ************** NOT THE SAME!!!! *********************##\\n\")\n",
    "encoding = ph.encode_from_word_list(ph.w(sent))\n",
    "print(\"Max Address: \", max_address, \"\\n\\nWORD ARRAY: \", ph.w(sent), \"\\n\\nENCODING: \", encoding)\n",
    "print('\\n\\n{},\"{}\"'.format(sent.upper(), encoding))"
   ]
  },
  {
   "cell_type": "code",
   "execution_count": 3,
   "metadata": {
    "scrolled": true
   },
   "outputs": [
    {
     "data": {
      "text/plain": [
       "[[0, 2, 2, ['DIR'], 'apt 10'], [2, 5, 3, ['DIR'], '270 webers lane']]"
      ]
     },
     "execution_count": 3,
     "metadata": {},
     "output_type": "execute_result"
    }
   ],
   "source": [
    "ph.return_best_fit(ph.seq, sent)"
   ]
  },
  {
   "cell_type": "code",
   "execution_count": 4,
   "metadata": {},
   "outputs": [
    {
     "data": {
      "text/plain": [
       "[]"
      ]
     },
     "execution_count": 4,
     "metadata": {},
     "output_type": "execute_result"
    }
   ],
   "source": [
    "ph.seq.look_ahead(ph.encode_from_word_list(ph.w(sent.lower()))).get_active_sequences()"
   ]
  },
  {
   "cell_type": "code",
   "execution_count": 5,
   "metadata": {},
   "outputs": [
    {
     "data": {
      "text/plain": [
       "[]"
      ]
     },
     "execution_count": 5,
     "metadata": {},
     "output_type": "execute_result"
    }
   ],
   "source": [
    "ph.seq.look_ahead(ph.encode_from_word_list(ph.w(sent.lower()))).get_next_values()"
   ]
  },
  {
   "cell_type": "code",
   "execution_count": 6,
   "metadata": {},
   "outputs": [
    {
     "data": {
      "text/plain": [
       "[[0, 2, 2, ['_SUITE_'], 'apt 10'],\n",
       " [0, 3, 3, ['_SUITE_'], 'apt 10 270'],\n",
       " [1, 2, 1, ['_SUITE_'], '10'],\n",
       " [1, 5, 4, ['_ADDRESS_'], '10 270 webers lane'],\n",
       " [2, 3, 1, ['_SUITE_'], '270'],\n",
       " [2, 4, 2, ['_ADDRESS_'], '270 webers'],\n",
       " [2, 5, 3, ['_ADDRESS_'], '270 webers lane']]"
      ]
     },
     "execution_count": 6,
     "metadata": {},
     "output_type": "execute_result"
    }
   ],
   "source": [
    "arr_cands = ph.get_markers(ph.seq, sent, ['_ADDRESS_', '_POBOX_', '_SUITE_', '_DIR_'])\n",
    "arr_cands"
   ]
  },
  {
   "cell_type": "code",
   "execution_count": 7,
   "metadata": {},
   "outputs": [
    {
     "data": {
      "text/plain": [
       "([-1, 2, 3, 2, 4],\n",
       " ['', ['_SUITE_'], ['_SUITE_'], ['_ADDRESS_'], ['_ADDRESS_']],\n",
       " [['_SUITE_']],\n",
       " [(['_SUITE_'], 'apt 10 270')])"
      ]
     },
     "execution_count": 7,
     "metadata": {},
     "output_type": "execute_result"
    }
   ],
   "source": [
    "ph.decompose_into_dictionary_words(ph.w(sent), ph.seq, ['_ADDRESS_', '_SUITE_', '_POBOX_'])"
   ]
  },
  {
   "cell_type": "code",
   "execution_count": 8,
   "metadata": {},
   "outputs": [
    {
     "name": "stdout",
     "output_type": "stream",
     "text": [
      "[[0, 2, 2, ['_SUITE_'], 'apt 10'], [0, 3, 3, ['_SUITE_'], 'apt 10 270'], [1, 2, 1, ['_SUITE_'], '10'], [1, 5, 4, ['_ADDRESS_'], '10 270 webers lane'], [2, 3, 1, ['_SUITE_'], '270'], [2, 4, 2, ['_ADDRESS_'], '270 webers'], [2, 5, 3, ['_ADDRESS_'], '270 webers lane']]\n"
     ]
    },
    {
     "data": {
      "text/plain": [
       "[[0, 2, 2, ['_SUITE_'], 'apt 10'],\n",
       " [0, 3, 3, ['_SUITE_'], 'apt 10 270'],\n",
       " [1, 2, 1, ['_SUITE_'], '10'],\n",
       " [1, 5, 4, ['_ADDRESS_'], '10 270 webers lane'],\n",
       " [2, 3, 1, ['_SUITE_'], '270'],\n",
       " [2, 4, 2, ['_ADDRESS_'], '270 webers'],\n",
       " [2, 5, 3, ['_ADDRESS_'], '270 webers lane']]"
      ]
     },
     "execution_count": 8,
     "metadata": {},
     "output_type": "execute_result"
    }
   ],
   "source": [
    "filtered_markers = [marker for marker in arr_cands if not (marker[0] == 0 and marker[2] == 1)]\n",
    "print(filtered_markers)\n",
    "arr_cands"
   ]
  },
  {
   "cell_type": "code",
   "execution_count": 9,
   "metadata": {},
   "outputs": [],
   "source": [
    "def entitys_overlap(ent1, ent2):\n",
    "    if ent1[1] <= ent2[0] or ent2[1] <= ent1[0]:\n",
    "        return False\n",
    "    else:\n",
    "        return True\n",
    "\n",
    "def get_sorted_entity(_markers, entity):\n",
    "    entities = [arr for arr in _markers if arr[3][0] == entity]\n",
    "    entities.sort(key=lambda x: int(x[2]))\n",
    "    return entities\n",
    "def get_all_sorted_entity(_markers, axis):\n",
    "    \"\"\"axis 0:left, 1:right, 2:length, 3:lst<type>, 4:str\"\"\"\n",
    "    markers.sort(key=lambda x: int(x[axis]))\n",
    "    return markers"
   ]
  },
  {
   "cell_type": "code",
   "execution_count": 10,
   "metadata": {},
   "outputs": [
    {
     "data": {
      "text/plain": [
       "[[0, 2, 2, ['_SUITE_'], 'apt 10'],\n",
       " [0, 3, 3, ['_SUITE_'], 'apt 10 270'],\n",
       " [1, 2, 1, ['_SUITE_'], '10'],\n",
       " [1, 5, 4, ['_ADDRESS_'], '10 270 webers lane'],\n",
       " [2, 3, 1, ['_SUITE_'], '270'],\n",
       " [2, 4, 2, ['_ADDRESS_'], '270 webers'],\n",
       " [2, 5, 3, ['_ADDRESS_'], '270 webers lane']]"
      ]
     },
     "execution_count": 10,
     "metadata": {},
     "output_type": "execute_result"
    }
   ],
   "source": [
    "def get_markers(seq, sent, lst_targets):\n",
    "    \"\"\"Input is like '123 main str' and returns a list of lists\n",
    "        RETURNS: a list of list, each list being a candidate and having these values.\n",
    "            idx_beg, idx_end, length, matches (ADDRESS etc), sequence\n",
    "        ATTN!!  this lowercases stuff, TODO: Generalize this so it doesn't need lowercasing\n",
    "    \"\"\"\n",
    "    sent = str(sent).lower().strip()\n",
    "    arr_w = ph.w(sent)\n",
    "    idx_tail = len(arr_w)\n",
    "    markers = []\n",
    "\n",
    "    for idx_beg in range(idx_tail):\n",
    "        for idx_end in range(idx_beg + 1, idx_tail +1):\n",
    "            next_values = seq.look_ahead(ph.encode_from_word_list(arr_w[idx_beg:idx_end])).get_next_values()\n",
    "            matches = list(set(next_values) & set(lst_targets) )\n",
    "            if matches:\n",
    "                markers.append([idx_beg, idx_end, idx_end - idx_beg, matches, ' '.join(arr_w[idx_beg:idx_end])])\n",
    "\n",
    "    return markers\n",
    "\n",
    "\n",
    "st = sent\n",
    "markers = get_markers(ph.seq, st, ['_ADDRESS_', '_POBOX_', '_SUITE_', '_DIR_'])\n",
    "markers"
   ]
  },
  {
   "cell_type": "code",
   "execution_count": 11,
   "metadata": {},
   "outputs": [
    {
     "data": {
      "text/plain": [
       "[[1, 5, 4, ['_ADDRESS_'], '10 270 webers lane'],\n",
       " [2, 4, 2, ['_ADDRESS_'], '270 webers'],\n",
       " [2, 5, 3, ['_ADDRESS_'], '270 webers lane']]"
      ]
     },
     "execution_count": 11,
     "metadata": {},
     "output_type": "execute_result"
    }
   ],
   "source": [
    "def sift_markers(markers):\n",
    "    boxes = [marker for marker in markers if marker[3][0] == '_POBOX_']\n",
    "    addresses = [marker for marker in markers if marker[3][0] == '_ADDRESS_']\n",
    "    suites = [marker for marker in markers if marker[3][0] == '_SUITE_']\n",
    "    dirs = [marker for marker in markers if marker[3][0] == '_DIR_']\n",
    "    new_markers = boxes[:]\n",
    "#     for address in addresses:\n",
    "#         if not any([entitys_overlap(address, item) for item in new_markers]):\n",
    "#             new_markers.append(address)\n",
    "    new_markers.extend(addresses)\n",
    "    for suite in suites:\n",
    "        if not any([entitys_overlap(suite, item) for item in new_markers]):\n",
    "            new_markers.append(suite)\n",
    "    for diritem in dirs:\n",
    "        if not any([entitys_overlap(diritem, item) for item in new_markers]):\n",
    "            new_markers.append(diritem)\n",
    "    return new_markers\n",
    "\n",
    "sift_markers(markers)"
   ]
  },
  {
   "cell_type": "code",
   "execution_count": 12,
   "metadata": {},
   "outputs": [
    {
     "name": "stdout",
     "output_type": "stream",
     "text": [
      "[1, 2]\n",
      "[5, 4]\n",
      "last_length:  [-1, -1, -1, 4]\n",
      "decomp:  1 5 ['10', '270', 'webers', 'lane'] \n",
      " [[0, 4, 4, ['_ADDRESS_'], '10 270 webers lane']] \n",
      "\n",
      "last_length:  [1, -1, 2]\n",
      "decomp:  1 4 ['10', '270', 'webers'] \n",
      " [[0, 1, 1, ['_SUITE_'], '10'], [1, 3, 2, ['_ADDRESS_'], '270 webers']] \n",
      "\n",
      "last_length:  [-1, 2, 3]\n",
      "decomp:  2 5 ['270', 'webers', 'lane'] \n",
      " [[0, 3, 3, ['_ADDRESS_'], '270 webers lane']] \n",
      "\n",
      "last_length:  [-1, 2]\n",
      "decomp:  2 4 ['270', 'webers'] \n",
      " [[0, 2, 2, ['_ADDRESS_'], '270 webers']] \n",
      "\n",
      "DECOMP:  [0, 4, 4, ['_ADDRESS_'], '10 270 webers lane']\n",
      "[1, 2]\n",
      "[5, 4]\n",
      "last_length:  [-1, -1, -1, 4]\n",
      "decomp:  1 5 ['10', '270', 'webers', 'lane'] \n",
      " [[0, 4, 4, ['_ADDRESS_'], '10 270 webers lane']] \n",
      "\n",
      "last_length:  [1, -1, 2]\n",
      "decomp:  1 4 ['10', '270', 'webers'] \n",
      " [[0, 1, 1, ['_SUITE_'], '10'], [1, 3, 2, ['_ADDRESS_'], '270 webers']] \n",
      "\n",
      "last_length:  [-1, 2, 3]\n",
      "decomp:  2 5 ['270', 'webers', 'lane'] \n",
      " [[0, 3, 3, ['_ADDRESS_'], '270 webers lane']] \n",
      "\n",
      "last_length:  [-1, 2]\n",
      "decomp:  2 4 ['270', 'webers'] \n",
      " [[0, 2, 2, ['_ADDRESS_'], '270 webers']] \n",
      "\n",
      "\n",
      "AND THE BEST IS\n",
      " 10 270 webers lane\n"
     ]
    }
   ],
   "source": [
    "\n",
    "\n",
    "def get_best_fit_4(seq, st, lst_entities):\n",
    "    assert isinstance(lst_entities,list), \"expects lst_entities is [ str, str ]\"\n",
    "    assert isinstance(lst_entities[0], str), \"expects lst_entities is [ str, str ]\"\n",
    "    assert isinstance(st, str), \"expects st to be a str\"\n",
    "    def sift_markers(markers):\n",
    "        boxes = [marker for marker in markers if marker[3][0] == '_POBOX_']\n",
    "        addresses = [marker for marker in markers if marker[3][0] == '_ADDRESS_']\n",
    "        suites = [marker for marker in markers if marker[3][0] == '_SUITE_']\n",
    "        dirs = [marker for marker in markers if marker[3][0] == '_DIR_']\n",
    "        new_markers = boxes[:]\n",
    "#         for address in addresses:\n",
    "#             if not any([entitys_overlap(address, item) for item in new_markers]):\n",
    "#                 new_markers.append(address)\n",
    "        new_markers.extend(addresses)\n",
    "        for suite in suites:\n",
    "            if not any([entitys_overlap(suite, item) for item in new_markers]):\n",
    "                new_markers.append(suite)\n",
    "        for diritem in dirs:\n",
    "            if not any([entitys_overlap(diritem, item) for item in new_markers]):\n",
    "                new_markers.append(diritem)\n",
    "        return new_markers\n",
    "    def get_sorted_indexes(markers, which, up=True):\n",
    "        sorted_list = sorted(list(set([marker[which] for marker in markers])))\n",
    "        return sorted_list if up else sorted_list[::-1]\n",
    "    \n",
    "    \n",
    "    def book_best_fit(arr_domain, markers):\n",
    "        def is_in_dictionary(markers, start, endplus):\n",
    "            match_starts = [item for item in markers if item[0] == start]\n",
    "            match_both = [item for item in match_starts if item[1] == endplus]\n",
    "            return match_both\n",
    "        \n",
    "        last_length = [-1]*len(arr_domain)\n",
    "        for i in range(len(arr_domain)):\n",
    "            if is_in_dictionary(markers, 0, i+1):\n",
    "                last_length[i] = i + 1\n",
    "            if last_length[i] == -1:\n",
    "                for j in range(i):\n",
    "                    if last_length[j] != -1 and is_in_dictionary(markers, j+1, i+1):\n",
    "                        last_length[i] = i - j\n",
    "                        break\n",
    "        print(\"last_length: \", last_length)                \n",
    "        decompositions = []\n",
    "        if last_length[-1] != -1:\n",
    "            idx = len(arr_domain) - 1\n",
    "            while idx >= 0:\n",
    "                decompositions.append(is_in_dictionary(markers,idx + 1 - last_length[idx], idx + 1)[0])\n",
    "                idx -= last_length[idx]\n",
    "            decompositions = decompositions[::-1]\n",
    "        return decompositions\n",
    "    \n",
    "    \n",
    "    markers = get_markers(ph.seq, st, lst_entities)\n",
    "    markers = sift_markers(markers)\n",
    "#     print(\"MARKERS TO WORK WITH: \", markers)\n",
    "    lefts = get_sorted_indexes(markers, 0, up=True)\n",
    "    rights = get_sorted_indexes(markers, 1, up=False)\n",
    "    print(lefts)\n",
    "    print(rights)\n",
    "    final_decomps = []\n",
    "    for left in lefts:\n",
    "        for right in rights:\n",
    "            subject = ph.w(st)[left:right]\n",
    "            if not subject or (right - left) <=1:\n",
    "                continue\n",
    "            markers = get_markers(ph.seq, \" \".join(subject), lst_entities)\n",
    "            markers = sift_markers(markers)\n",
    "            decomp = book_best_fit(subject, markers)\n",
    "            if decomp:\n",
    "                print(\"decomp: \", left, right, subject,'\\n',decomp, '\\n')\n",
    "                final_decomps.append(decomp)\n",
    "    #return final_decomps\n",
    "\n",
    "    best_decomp = None\n",
    "    max_len = 0\n",
    "    for decomp in final_decomps:  \n",
    "        if decomp[-1][1] > max_len:\n",
    "            max_len = decomp[-1][1]\n",
    "            best_decomp = decomp\n",
    "    \n",
    "    return best_decomp if best_decomp else []\n",
    "    \n",
    "\n",
    "def return_max_address4(seq, st):\n",
    "    lst_final_ents = [['_ADDRESS_', '_SUITE_', '_DIR_'], ['_POBOX_']]\n",
    "    for lst_entities in lst_final_ents:\n",
    "        best_fit = get_best_fit_4(seq, st, lst_entities)\n",
    "        #print(\"Best_fit: \", best_fit, lst_entities[0])\n",
    "        if any([fit[3][0] == lst_entities[0] for fit in best_fit]):\n",
    "            str_rep = \" \".join([fit[4] for fit in best_fit])\n",
    "            return str_rep\n",
    "    else:\n",
    "        return []\n",
    "    \n",
    "final_decomps = get_best_fit_4(ph.seq, st, ['_ADDRESS_',  '_SUITE_', '_DIR_'])\n",
    "[print(\"DECOMP: \", decomp) for decomp in final_decomps]\n",
    "\n",
    "final = return_max_address4(ph.seq, st)\n",
    "\n",
    "print(\"\\nAND THE BEST IS\\n\", final)"
   ]
  },
  {
   "cell_type": "markdown",
   "metadata": {},
   "source": [
    "This is where I left off.  The last cell has the new best_fit, which will return the longest substring of continuous subunits containing an address,(Well have to dup it for po boxes if there isn't any."
   ]
  }
 ],
 "metadata": {
  "kernelspec": {
   "display_name": "Python 3",
   "language": "python",
   "name": "python3"
  },
  "language_info": {
   "codemirror_mode": {
    "name": "ipython",
    "version": 3
   },
   "file_extension": ".py",
   "mimetype": "text/x-python",
   "name": "python",
   "nbconvert_exporter": "python",
   "pygments_lexer": "ipython3",
   "version": "3.6.4"
  }
 },
 "nbformat": 4,
 "nbformat_minor": 2
}
