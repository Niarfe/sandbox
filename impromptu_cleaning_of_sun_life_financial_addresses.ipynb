{
 "cells": [
  {
   "cell_type": "code",
   "execution_count": 1,
   "metadata": {},
   "outputs": [],
   "source": [
    "import field_validate_transform_address as ph\n",
    "import pandas as pd"
   ]
  },
  {
   "cell_type": "code",
   "execution_count": 2,
   "metadata": {},
   "outputs": [
    {
     "name": "stdout",
     "output_type": "stream",
     "text": [
      "unum_upload.xlsx\r\n"
     ]
    }
   ],
   "source": [
    "! ls | grep unum\n",
    "fname = 'unum_upload.xlsx'\n",
    "address_1 = \"S_LIN_FST_CLN\"\n",
    "address_2 = \"S_LIN_SEC_CLN\""
   ]
  },
  {
   "cell_type": "code",
   "execution_count": 3,
   "metadata": {},
   "outputs": [],
   "source": [
    "df = pd.read_excel(fname)"
   ]
  },
  {
   "cell_type": "code",
   "execution_count": 4,
   "metadata": {},
   "outputs": [],
   "source": [
    "def separate_returns(row):\n",
    "    best_fits = ph.convert_high_address_validate_transform( row['MERGED ADDRESS'])\n",
    "    print(best_fits)\n",
    "    best_fits = eval(str(best_fits))\n",
    "    for category in ['ADDRESS', 'POBOX', 'SUITE', 'ATTN']:\n",
    "        found_entity = next(\n",
    "            (fit[4] for fit in best_fits if fit and fit[3][0] == category),\n",
    "            '') if best_fits else 'xx'\n",
    "        row[category] = found_entity.upper()\n",
    "    row['BEST FIT'] = str(best_fits)\n",
    "    return row"
   ]
  },
  {
   "cell_type": "code",
   "execution_count": 10,
   "metadata": {},
   "outputs": [
    {
     "name": "stdout",
     "output_type": "stream",
     "text": [
      "123 main st suite 101\n",
      "\n",
      "[[[0, 2, 2, ['_ADDRESS_'], '123 main']], [[0, 3, 3, ['_ADDRESS_'], '123 main st'], [3, 5, 2, ['_SUITE_'], 'suite 101']], [[7, 10, 3, ['_POBOX_'], 'po box 666']], [[8, 10, 2, ['_POBOX_'], 'box 666']]]\n",
      "\n",
      "[[0, 1, 1, ['_SUITE_'], '123'], [0, 2, 2, ['_ADDRESS_'], '123 main'], [0, 3, 3, ['_ADDRESS_'], '123 main st'], [3, 5, 2, ['_SUITE_'], 'suite 101'], [4, 5, 1, ['_SUITE_'], '101'], [7, 10, 3, ['_POBOX_'], 'po box 666'], [8, 10, 2, ['_POBOX_'], 'box 666'], [9, 10, 1, ['_SUITE_'], '666']]\n",
      "\n",
      "[[0, 3, 3, ['_ADDRESS_'], '123 main st'], [3, 5, 2, ['_SUITE_'], 'suite 101']]\n",
      "\n"
     ]
    }
   ],
   "source": [
    "res = ph.convert_high_address_validate_transform2(\"123 main st suite 101 C/O Niarferious PO BOX 666 \")\n",
    "for item in res:\n",
    "    print(item)\n",
    "    print()"
   ]
  },
  {
   "cell_type": "code",
   "execution_count": 6,
   "metadata": {},
   "outputs": [],
   "source": [
    "df = df.fillna('')\n",
    "df['MERGED ADDRESS'] = df[address_1].astype(str) + df[address_2].astype(str)\n",
    "df = df[[address_1, address_2, 'MERGED ADDRESS']]"
   ]
  },
  {
   "cell_type": "code",
   "execution_count": 7,
   "metadata": {},
   "outputs": [
    {
     "data": {
      "text/html": [
       "<div>\n",
       "<style scoped>\n",
       "    .dataframe tbody tr th:only-of-type {\n",
       "        vertical-align: middle;\n",
       "    }\n",
       "\n",
       "    .dataframe tbody tr th {\n",
       "        vertical-align: top;\n",
       "    }\n",
       "\n",
       "    .dataframe thead th {\n",
       "        text-align: right;\n",
       "    }\n",
       "</style>\n",
       "<table border=\"1\" class=\"dataframe\">\n",
       "  <thead>\n",
       "    <tr style=\"text-align: right;\">\n",
       "      <th></th>\n",
       "      <th>S_LIN_FST_CLN</th>\n",
       "      <th>S_LIN_SEC_CLN</th>\n",
       "      <th>MERGED ADDRESS</th>\n",
       "    </tr>\n",
       "  </thead>\n",
       "  <tbody>\n",
       "    <tr>\n",
       "      <th>0</th>\n",
       "      <td>130 Kendall St</td>\n",
       "      <td></td>\n",
       "      <td>130 Kendall St</td>\n",
       "    </tr>\n",
       "    <tr>\n",
       "      <th>1</th>\n",
       "      <td>2915 Chandler Ave</td>\n",
       "      <td></td>\n",
       "      <td>2915 Chandler Ave</td>\n",
       "    </tr>\n",
       "    <tr>\n",
       "      <th>2</th>\n",
       "      <td>1405 MOUNTAIN VALLEY RD</td>\n",
       "      <td></td>\n",
       "      <td>1405 MOUNTAIN VALLEY RD</td>\n",
       "    </tr>\n",
       "    <tr>\n",
       "      <th>3</th>\n",
       "      <td>5995 12th Avenue North</td>\n",
       "      <td></td>\n",
       "      <td>5995 12th Avenue North</td>\n",
       "    </tr>\n",
       "    <tr>\n",
       "      <th>4</th>\n",
       "      <td>13783 Latigo Lane</td>\n",
       "      <td></td>\n",
       "      <td>13783 Latigo Lane</td>\n",
       "    </tr>\n",
       "  </tbody>\n",
       "</table>\n",
       "</div>"
      ],
      "text/plain": [
       "             S_LIN_FST_CLN S_LIN_SEC_CLN           MERGED ADDRESS\n",
       "0           130 Kendall St                         130 Kendall St\n",
       "1        2915 Chandler Ave                      2915 Chandler Ave\n",
       "2  1405 MOUNTAIN VALLEY RD                1405 MOUNTAIN VALLEY RD\n",
       "3   5995 12th Avenue North                 5995 12th Avenue North\n",
       "4        13783 Latigo Lane                      13783 Latigo Lane"
      ]
     },
     "execution_count": 7,
     "metadata": {},
     "output_type": "execute_result"
    }
   ],
   "source": [
    "\n",
    "df.head()"
   ]
  },
  {
   "cell_type": "code",
   "execution_count": 8,
   "metadata": {},
   "outputs": [
    {
     "name": "stdout",
     "output_type": "stream",
     "text": [
      "130 kendall st\n",
      "130 kendall st\n"
     ]
    },
    {
     "ename": "SyntaxError",
     "evalue": "invalid syntax (<string>, line 1)",
     "output_type": "error",
     "traceback": [
      "Traceback \u001b[0;36m(most recent call last)\u001b[0m:\n",
      "  File \u001b[1;32m\"/Users/niarfe/env3/lib/python3.6/site-packages/IPython/core/interactiveshell.py\"\u001b[0m, line \u001b[1;32m2910\u001b[0m, in \u001b[1;35mrun_code\u001b[0m\n    exec(code_obj, self.user_global_ns, self.user_ns)\n",
      "  File \u001b[1;32m\"<ipython-input-8-a4312b0587d2>\"\u001b[0m, line \u001b[1;32m1\u001b[0m, in \u001b[1;35m<module>\u001b[0m\n    df = df.apply(separate_returns, axis=1)\n",
      "  File \u001b[1;32m\"/Users/niarfe/env3/lib/python3.6/site-packages/pandas/core/frame.py\"\u001b[0m, line \u001b[1;32m4877\u001b[0m, in \u001b[1;35mapply\u001b[0m\n    ignore_failures=ignore_failures)\n",
      "  File \u001b[1;32m\"/Users/niarfe/env3/lib/python3.6/site-packages/pandas/core/frame.py\"\u001b[0m, line \u001b[1;32m4973\u001b[0m, in \u001b[1;35m_apply_standard\u001b[0m\n    results[i] = func(v)\n",
      "\u001b[0;36m  File \u001b[0;32m\"<ipython-input-4-70402845c1a8>\"\u001b[0;36m, line \u001b[0;32m4\u001b[0;36m, in \u001b[0;35mseparate_returns\u001b[0;36m\u001b[0m\n\u001b[0;31m    best_fits = eval(str(best_fits))\u001b[0m\n",
      "\u001b[0;36m  File \u001b[0;32m\"<string>\"\u001b[0;36m, line \u001b[0;32m1\u001b[0m\n\u001b[0;31m    130 kendall st\u001b[0m\n\u001b[0m              ^\u001b[0m\n\u001b[0;31mSyntaxError\u001b[0m\u001b[0;31m:\u001b[0m invalid syntax\n"
     ]
    }
   ],
   "source": [
    "df = df.apply(separate_returns, axis=1)"
   ]
  },
  {
   "cell_type": "code",
   "execution_count": null,
   "metadata": {},
   "outputs": [],
   "source": [
    "df['get_max_address3'] = df['MERGED ADDRESS'].apply(lambda x: ph.return_max_address3(ph.seq, x))"
   ]
  },
  {
   "cell_type": "code",
   "execution_count": null,
   "metadata": {},
   "outputs": [],
   "source": [
    "df.to_csv('sun_life.csv')\n",
    "! open sun_life.csv"
   ]
  }
 ],
 "metadata": {
  "kernelspec": {
   "display_name": "Python 3",
   "language": "python",
   "name": "python3"
  },
  "language_info": {
   "codemirror_mode": {
    "name": "ipython",
    "version": 3
   },
   "file_extension": ".py",
   "mimetype": "text/x-python",
   "name": "python",
   "nbconvert_exporter": "python",
   "pygments_lexer": "ipython3",
   "version": "3.6.4"
  }
 },
 "nbformat": 4,
 "nbformat_minor": 2
}
