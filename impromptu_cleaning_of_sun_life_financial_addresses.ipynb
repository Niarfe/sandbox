{
 "cells": [
  {
   "cell_type": "code",
   "execution_count": 1,
   "metadata": {},
   "outputs": [],
   "source": [
    "import phrase_entity_extraction as ph\n",
    "import pandas as pd"
   ]
  },
  {
   "cell_type": "code",
   "execution_count": 2,
   "metadata": {},
   "outputs": [],
   "source": [
    "def separate_returns(row):\n",
    "    best_fits = ph.return_best_fit(ph.seq, row['MERGED ADDRESS'])\n",
    "    best_fits = eval(str(best_fits))\n",
    "    for category in ['ADDRESS', 'POBOX', 'SUITE', 'ATTN']:\n",
    "        found_entity = next(\n",
    "            (fit[4] for fit in best_fits if fit and fit[3][0] == category),\n",
    "            '') if best_fits else 'xx'\n",
    "        row[category] = found_entity.upper()\n",
    "    row['BEST FIT'] = str(best_fits)\n",
    "    return row"
   ]
  },
  {
   "cell_type": "code",
   "execution_count": 3,
   "metadata": {},
   "outputs": [],
   "source": [
    "fname = \"company_uploads_sun_life_financial_20180531_182224_Original_20180531_182224_905_CarpeDataClaimsToScore_20180531.csv\"\n",
    "folderpath = \"./\"\n",
    "df = pd.read_csv(folderpath + fname)"
   ]
  },
  {
   "cell_type": "code",
   "execution_count": 4,
   "metadata": {},
   "outputs": [
    {
     "data": {
      "text/html": [
       "<div>\n",
       "<style scoped>\n",
       "    .dataframe tbody tr th:only-of-type {\n",
       "        vertical-align: middle;\n",
       "    }\n",
       "\n",
       "    .dataframe tbody tr th {\n",
       "        vertical-align: top;\n",
       "    }\n",
       "\n",
       "    .dataframe thead th {\n",
       "        text-align: right;\n",
       "    }\n",
       "</style>\n",
       "<table border=\"1\" class=\"dataframe\">\n",
       "  <thead>\n",
       "    <tr style=\"text-align: right;\">\n",
       "      <th></th>\n",
       "      <th>dis_clm_cntl_num</th>\n",
       "      <th>emple_first_nm</th>\n",
       "      <th>emple_mi_txt</th>\n",
       "      <th>emple_last_nm</th>\n",
       "      <th>clm_dis_eff_dt</th>\n",
       "      <th>clm_ntfcn_dt</th>\n",
       "      <th>emple_birth_dt</th>\n",
       "      <th>emple_addrl1_txt</th>\n",
       "      <th>emple_addr_ln2_txt</th>\n",
       "      <th>emple_addr_city_nm</th>\n",
       "      <th>emple_addr_zip_cd</th>\n",
       "      <th>emple_phn_num</th>\n",
       "      <th>spsr_full_nm</th>\n",
       "    </tr>\n",
       "  </thead>\n",
       "  <tbody>\n",
       "    <tr>\n",
       "      <th>0</th>\n",
       "      <td>1102022000100</td>\n",
       "      <td>LINDA</td>\n",
       "      <td>NaN</td>\n",
       "      <td>KUHN</td>\n",
       "      <td>2001-09-07 00:00:00</td>\n",
       "      <td>2002-02-11 00:00:00</td>\n",
       "      <td>1953-06-03 00:00:00</td>\n",
       "      <td>1414 Cairns Road</td>\n",
       "      <td></td>\n",
       "      <td>Mansfield</td>\n",
       "      <td>44903</td>\n",
       "      <td>4197475317</td>\n",
       "      <td>THE CENTER FOR INDIVIDUAL AND F</td>\n",
       "    </tr>\n",
       "    <tr>\n",
       "      <th>1</th>\n",
       "      <td>2209150594600</td>\n",
       "      <td>LISA</td>\n",
       "      <td>NaN</td>\n",
       "      <td>HEALD</td>\n",
       "      <td>2015-08-22 00:00:00</td>\n",
       "      <td>2015-09-22 00:00:00</td>\n",
       "      <td>1961-03-10 00:00:00</td>\n",
       "      <td>2720 AVONDALE DR</td>\n",
       "      <td></td>\n",
       "      <td>COLORADO SPRINGS</td>\n",
       "      <td>80917</td>\n",
       "      <td>7196330505</td>\n",
       "      <td>Colorado Springs School District #11</td>\n",
       "    </tr>\n",
       "    <tr>\n",
       "      <th>2</th>\n",
       "      <td>208040097200</td>\n",
       "      <td>KATHLEEN</td>\n",
       "      <td>NaN</td>\n",
       "      <td>MOSQUINSKI</td>\n",
       "      <td>2004-05-20 00:00:00</td>\n",
       "      <td>2004-08-02 00:00:00</td>\n",
       "      <td>1952-07-02 00:00:00</td>\n",
       "      <td>217 BENBROOK DR</td>\n",
       "      <td></td>\n",
       "      <td>HOUSTON</td>\n",
       "      <td>77076</td>\n",
       "      <td>7136920194</td>\n",
       "      <td>CATHOLIC DIOCESE OF GALVESTON</td>\n",
       "    </tr>\n",
       "    <tr>\n",
       "      <th>3</th>\n",
       "      <td>109110039500</td>\n",
       "      <td>Kathleen</td>\n",
       "      <td></td>\n",
       "      <td>May</td>\n",
       "      <td>2011-05-07 00:00:00</td>\n",
       "      <td>2011-09-01 00:00:00</td>\n",
       "      <td>1952-06-27 00:00:00</td>\n",
       "      <td>472 LUMS ROAD</td>\n",
       "      <td></td>\n",
       "      <td>NORTH EAST</td>\n",
       "      <td>21901</td>\n",
       "      <td>4102879394</td>\n",
       "      <td>CHESAPEAKE CARE RESOURCES, INC.</td>\n",
       "    </tr>\n",
       "    <tr>\n",
       "      <th>4</th>\n",
       "      <td>501120039100</td>\n",
       "      <td>PATRICIA</td>\n",
       "      <td>NaN</td>\n",
       "      <td>ALLISON</td>\n",
       "      <td>2011-06-22 00:00:00</td>\n",
       "      <td>2012-01-05 00:00:00</td>\n",
       "      <td>1952-10-28 00:00:00</td>\n",
       "      <td>147 County Line Rd</td>\n",
       "      <td></td>\n",
       "      <td>Ewing</td>\n",
       "      <td>41039</td>\n",
       "      <td>6067485803</td>\n",
       "      <td>Creation Technologies International</td>\n",
       "    </tr>\n",
       "  </tbody>\n",
       "</table>\n",
       "</div>"
      ],
      "text/plain": [
       "   dis_clm_cntl_num                  emple_first_nm emple_mi_txt  \\\n",
       "0     1102022000100                           LINDA          NaN   \n",
       "1     2209150594600                            LISA          NaN   \n",
       "2      208040097200                        KATHLEEN          NaN   \n",
       "3      109110039500  Kathleen                                      \n",
       "4      501120039100                        PATRICIA          NaN   \n",
       "\n",
       "                    emple_last_nm       clm_dis_eff_dt         clm_ntfcn_dt  \\\n",
       "0                            KUHN  2001-09-07 00:00:00  2002-02-11 00:00:00   \n",
       "1                           HEALD  2015-08-22 00:00:00  2015-09-22 00:00:00   \n",
       "2                      MOSQUINSKI  2004-05-20 00:00:00  2004-08-02 00:00:00   \n",
       "3  May                             2011-05-07 00:00:00  2011-09-01 00:00:00   \n",
       "4                         ALLISON  2011-06-22 00:00:00  2012-01-05 00:00:00   \n",
       "\n",
       "        emple_birth_dt                emple_addrl1_txt  \\\n",
       "0  1953-06-03 00:00:00  1414 Cairns Road                 \n",
       "1  1961-03-10 00:00:00  2720 AVONDALE DR                 \n",
       "2  1952-07-02 00:00:00  217 BENBROOK DR                  \n",
       "3  1952-06-27 00:00:00  472 LUMS ROAD                    \n",
       "4  1952-10-28 00:00:00  147 County Line Rd               \n",
       "\n",
       "               emple_addr_ln2_txt    emple_addr_city_nm emple_addr_zip_cd  \\\n",
       "0                                  Mansfield                    44903       \n",
       "1                                  COLORADO SPRINGS             80917       \n",
       "2                                  HOUSTON                      77076       \n",
       "3                                  NORTH EAST                   21901       \n",
       "4                                  Ewing                        41039       \n",
       "\n",
       "   emple_phn_num                          spsr_full_nm  \n",
       "0     4197475317       THE CENTER FOR INDIVIDUAL AND F  \n",
       "1     7196330505  Colorado Springs School District #11  \n",
       "2     7136920194         CATHOLIC DIOCESE OF GALVESTON  \n",
       "3     4102879394       CHESAPEAKE CARE RESOURCES, INC.  \n",
       "4     6067485803   Creation Technologies International  "
      ]
     },
     "execution_count": 4,
     "metadata": {},
     "output_type": "execute_result"
    }
   ],
   "source": [
    "df.head()"
   ]
  },
  {
   "cell_type": "code",
   "execution_count": 5,
   "metadata": {},
   "outputs": [],
   "source": [
    "df['MERGED ADDRESS'] = df['emple_addrl1_txt'].astype(str) + df['emple_addr_ln2_txt']"
   ]
  },
  {
   "cell_type": "code",
   "execution_count": 6,
   "metadata": {},
   "outputs": [],
   "source": [
    "df = df.apply(separate_returns, axis=1)"
   ]
  },
  {
   "cell_type": "code",
   "execution_count": 7,
   "metadata": {},
   "outputs": [],
   "source": [
    "df['get_max_address3'] = df['MERGED ADDRESS'].apply(lambda x: ph.return_max_address3(ph.seq, x))"
   ]
  },
  {
   "cell_type": "code",
   "execution_count": 8,
   "metadata": {},
   "outputs": [],
   "source": [
    "df.to_csv('sun_life.csv')\n",
    "! open sun_life.csv"
   ]
  }
 ],
 "metadata": {
  "kernelspec": {
   "display_name": "Python 3",
   "language": "python",
   "name": "python3"
  },
  "language_info": {
   "codemirror_mode": {
    "name": "ipython",
    "version": 3
   },
   "file_extension": ".py",
   "mimetype": "text/x-python",
   "name": "python",
   "nbconvert_exporter": "python",
   "pygments_lexer": "ipython3",
   "version": "3.6.4"
  }
 },
 "nbformat": 4,
 "nbformat_minor": 2
}
