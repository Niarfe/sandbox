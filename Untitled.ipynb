{
 "cells": [
  {
   "cell_type": "code",
   "execution_count": 1,
   "metadata": {},
   "outputs": [],
   "source": [
    "import phrase_entity_extraction as ph"
   ]
  },
  {
   "cell_type": "code",
   "execution_count": 6,
   "metadata": {},
   "outputs": [
    {
     "name": "stdout",
     "output_type": "stream",
     "text": [
      "OH OH\n",
      "\n",
      "\n",
      "Max Address:  [['DIGIT'], ['LETTER', 'COMMONST'], ['ALPHA'], ['WORDWAY'], ['LETTER', 'DIR']]\n",
      "\n",
      "Encoding:  [['DIGIT'], ['LETTER', 'COMMONST'], ['ALPHA'], ['WORDWAY'], ['LETTER', 'DIR']]\n",
      "\n",
      "\n",
      "809 A PROFESSIONAL PLACE W,\"[['DIGIT'], ['LETTER', 'COMMONST'], ['ALPHA'], ['WORDWAY'], ['LETTER', 'DIR']]\"\n"
     ]
    }
   ],
   "source": [
    "st = \"809 A PROFESSIONAL PLACE W\".lower()\n",
    "max_address = ph.return_max_address(ph.seq, st)\n",
    "if st.upper().strip() == max_address.upper().strip():\n",
    "    print(\"ALL GOOD!\")\n",
    "else:\n",
    "    print(\"OH OH\\n\")\n",
    "encoding = ph.encode_from_word_list(ph.w(st))\n",
    "print()\n",
    "print(\"Max Address: \", max_address)\n",
    "print()\n",
    "print(\"Encoding: \", encoding)\n",
    "print('\\n\\n{},\"{}\"'.format(st.upper(), encoding))"
   ]
  },
  {
   "cell_type": "code",
   "execution_count": 3,
   "metadata": {},
   "outputs": [
    {
     "data": {
      "text/plain": [
       "[[0, 2, 2, ['ADDRESS'], '700 fargo'], [0, 3, 3, ['ADDRESS'], '700 fargo elk']]"
      ]
     },
     "execution_count": 3,
     "metadata": {},
     "output_type": "execute_result"
    }
   ],
   "source": [
    "arr_cands = ph.get_markers(ph.seq, st, ['ADDRESS', 'POBOX'])\n",
    "arr_cands"
   ]
  },
  {
   "cell_type": "code",
   "execution_count": 4,
   "metadata": {},
   "outputs": [
    {
     "data": {
      "text/plain": [
       "['700', 'fargo', 'elk', 'grove', 'village']"
      ]
     },
     "execution_count": 4,
     "metadata": {},
     "output_type": "execute_result"
    }
   ],
   "source": [
    "import re\n",
    "def w(str_sentence):\n",
    "    return re.findall(r\"[\\w'/\\-:]+|[,!?#&]\", str_sentence)\n",
    "\n",
    "w(st)"
   ]
  }
 ],
 "metadata": {
  "kernelspec": {
   "display_name": "Python 3",
   "language": "python",
   "name": "python3"
  },
  "language_info": {
   "codemirror_mode": {
    "name": "ipython",
    "version": 3
   },
   "file_extension": ".py",
   "mimetype": "text/x-python",
   "name": "python",
   "nbconvert_exporter": "python",
   "pygments_lexer": "ipython3",
   "version": "3.4.3"
  }
 },
 "nbformat": 4,
 "nbformat_minor": 2
}
