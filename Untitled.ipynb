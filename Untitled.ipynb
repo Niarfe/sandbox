{
 "cells": [
  {
   "cell_type": "code",
   "execution_count": 1,
   "metadata": {},
   "outputs": [],
   "source": [
    "import phrase_entity_extraction as ph"
   ]
  },
  {
   "cell_type": "code",
   "execution_count": 7,
   "metadata": {},
   "outputs": [
    {
     "name": "stdout",
     "output_type": "stream",
     "text": [
      "OH OH\n",
      "\n",
      "\n",
      "Max Address:  [['POB0'], ['POB2'], ['LETTER', 'DIR']]\n",
      "\n",
      "Encoding:  [['POB0'], ['POB2'], ['LETTER', 'DIR']]\n",
      "\n",
      "\n",
      "PO BOX E,\"[['POB0'], ['POB2'], ['LETTER', 'DIR']]\"\n"
     ]
    }
   ],
   "source": [
    "st = \"PO BOX E\".lower()\n",
    "max_address = ph.return_max_address(ph.seq, st)\n",
    "if st.upper().strip() == max_address.upper().strip():\n",
    "    print(\"ALL GOOD!\")\n",
    "else:\n",
    "    print(\"OH OH\\n\")\n",
    "encoding = ph.encode_from_word_list(ph.w(st))\n",
    "print()\n",
    "print(\"Max Address: \", max_address)\n",
    "print()\n",
    "print(\"Encoding: \", encoding)\n",
    "print('\\n\\n{},\"{}\"'.format(st.upper(), encoding))"
   ]
  }
 ],
 "metadata": {
  "kernelspec": {
   "display_name": "Python 3",
   "language": "python",
   "name": "python3"
  },
  "language_info": {
   "codemirror_mode": {
    "name": "ipython",
    "version": 3
   },
   "file_extension": ".py",
   "mimetype": "text/x-python",
   "name": "python",
   "nbconvert_exporter": "python",
   "pygments_lexer": "ipython3",
   "version": "3.4.3"
  }
 },
 "nbformat": 4,
 "nbformat_minor": 2
}
