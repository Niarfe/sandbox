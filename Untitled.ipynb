{
 "cells": [
  {
   "cell_type": "code",
   "execution_count": 10,
   "metadata": {},
   "outputs": [],
   "source": [
    "from phrase_entity_encoder import encoder\n",
    "import field_validate_transform_address as fvta\n",
    "\n",
    "sequencer = fvta.Sequencer()\n",
    "\n",
    "lst = sequencer.tokenize_to_list(\"123 main\")\n",
    "sequencer.encode_from_word_list(lst)\n",
    "\n",
    "with open('addresses2.csv', 'r') as source, open('sequences.csv', 'w') as target:\n",
    "    for line in source:\n",
    "        lst = sequencer.tokenize_to_list(line)\n",
    "        seq = sequencer.encode_from_word_list(lst)\n",
    "        target.write('\"{}\",\"{}\"\\n'.format(str(line), str(seq)))\n",
    "        \n",
    "\n",
    "! open sequences.csv"
   ]
  }
 ],
 "metadata": {
  "kernelspec": {
   "display_name": "Python 3",
   "language": "python",
   "name": "python3"
  },
  "language_info": {
   "codemirror_mode": {
    "name": "ipython",
    "version": 3
   },
   "file_extension": ".py",
   "mimetype": "text/x-python",
   "name": "python",
   "nbconvert_exporter": "python",
   "pygments_lexer": "ipython3",
   "version": "3.6.4"
  }
 },
 "nbformat": 4,
 "nbformat_minor": 2
}
