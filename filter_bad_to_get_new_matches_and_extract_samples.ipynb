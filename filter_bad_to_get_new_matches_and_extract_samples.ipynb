{
 "cells": [
  {
   "cell_type": "code",
   "execution_count": 1,
   "metadata": {},
   "outputs": [],
   "source": [
    "import phrase_entity_extraction as ph\n",
    "import pandas as pd"
   ]
  },
  {
   "cell_type": "code",
   "execution_count": 2,
   "metadata": {},
   "outputs": [],
   "source": [
    "def is_valid_address(_st):\n",
    "    st = _st\n",
    "    max_address = ph.return_max_address(ph.seq, st)\n",
    "    if st == max_address:\n",
    "        return True\n",
    "    else:\n",
    "        return False"
   ]
  },
  {
   "cell_type": "code",
   "execution_count": 3,
   "metadata": {},
   "outputs": [],
   "source": [
    "df = pd.read_csv('eightyk_cleaned_addresses_deduped.csv.bad.csv')\n",
    "result_name = \"eightyk_180531_\""
   ]
  },
  {
   "cell_type": "code",
   "execution_count": 4,
   "metadata": {},
   "outputs": [],
   "source": [
    "### USE THIS CELL TO SEPARATE MATCHING FROM NOT\n",
    "keep='bad' # use ~ with bad\n",
    "df = df[~df['ADDRESSES'].apply(lambda x: is_valid_address(x))]\n",
    "df.to_csv(\"{}.{}.csv\".format(result_name, keep), index=False)\n",
    "#df.head()\n",
    "! open eightyk_180531_.bad.csv"
   ]
  },
  {
   "cell_type": "code",
   "execution_count": 5,
   "metadata": {},
   "outputs": [],
   "source": [
    "! open eightyk_180531_.bad.csv"
   ]
  },
  {
   "cell_type": "code",
   "execution_count": 6,
   "metadata": {},
   "outputs": [],
   "source": [
    "# df['TRANSFORM'] = df['ADDRESSES'].apply(lambda x: ph.return_max_address(ph.seq, x) )\n",
    "# df.head()"
   ]
  },
  {
   "cell_type": "code",
   "execution_count": 7,
   "metadata": {},
   "outputs": [],
   "source": [
    "# df.to_csv('eightyk_non_good_mostly_extraction_needed.csv', index=False)"
   ]
  },
  {
   "cell_type": "code",
   "execution_count": 8,
   "metadata": {},
   "outputs": [],
   "source": [
    "# ! open eightyk_non_good_mostly_extraction_needed.csv"
   ]
  },
  {
   "cell_type": "code",
   "execution_count": 9,
   "metadata": {},
   "outputs": [],
   "source": [
    "# st = \"POBOX 1050\"\n",
    "# res = max_address = ph.return_max_address(ph.seq, st)\n",
    "# if res == st:\n",
    "#     print(\"YAY\")\n",
    "# else:\n",
    "#     print(\"NO WAY!\")\n",
    "# print(st)\n",
    "# print(res)"
   ]
  }
 ],
 "metadata": {
  "kernelspec": {
   "display_name": "Python 3",
   "language": "python",
   "name": "python3"
  },
  "language_info": {
   "codemirror_mode": {
    "name": "ipython",
    "version": 3
   },
   "file_extension": ".py",
   "mimetype": "text/x-python",
   "name": "python",
   "nbconvert_exporter": "python",
   "pygments_lexer": "ipython3",
   "version": "3.4.3"
  }
 },
 "nbformat": 4,
 "nbformat_minor": 2
}
