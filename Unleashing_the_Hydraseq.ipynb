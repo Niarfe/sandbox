{
 "cells": [
  {
   "cell_type": "code",
   "execution_count": 1,
   "metadata": {},
   "outputs": [],
   "source": [
    "import phrase_entity_extraction as ph"
   ]
  },
  {
   "cell_type": "code",
   "execution_count": 2,
   "metadata": {},
   "outputs": [
    {
     "data": {
      "text/plain": [
       "uuid: input\n",
       "n_init: <node: (*),(*)>:\n",
       "active values: []\n",
       "next values: []"
      ]
     },
     "execution_count": 2,
     "metadata": {},
     "output_type": "execute_result"
    }
   ],
   "source": [
    "ph.seq.look_ahead([['ADR_HEAD']])"
   ]
  },
  {
   "cell_type": "code",
   "execution_count": 3,
   "metadata": {},
   "outputs": [
    {
     "data": {
      "text/plain": [
       "'123 MAIN ST'"
      ]
     },
     "execution_count": 3,
     "metadata": {},
     "output_type": "execute_result"
    }
   ],
   "source": [
    "ph.return_max_address(ph.seq, \"123 main st\")"
   ]
  },
  {
   "cell_type": "code",
   "execution_count": 4,
   "metadata": {},
   "outputs": [
    {
     "data": {
      "text/plain": [
       "[[0, 1, 1, ['SUITE'], '123'],\n",
       " [0, 2, 2, ['ADDRESS'], '123 main'],\n",
       " [0, 3, 3, ['ADDRESS'], '123 main st'],\n",
       " [3, 6, 3, ['POBOX'], 'po box 456'],\n",
       " [4, 6, 2, ['POBOX'], 'box 456'],\n",
       " [5, 6, 1, ['SUITE'], '456'],\n",
       " [6, 8, 2, ['SUITE'], 'suite 100'],\n",
       " [7, 8, 1, ['SUITE'], '100']]"
      ]
     },
     "execution_count": 4,
     "metadata": {},
     "output_type": "execute_result"
    }
   ],
   "source": [
    "ph.get_markers(ph.seq, \"123 main st po box 456 suite 100\", ['ADDRESS', 'POBOX', 'SUITE'])\n"
   ]
  },
  {
   "cell_type": "code",
   "execution_count": 5,
   "metadata": {},
   "outputs": [
    {
     "data": {
      "text/plain": [
       "['SUITE']"
      ]
     },
     "execution_count": 5,
     "metadata": {},
     "output_type": "execute_result"
    }
   ],
   "source": [
    "def get_interpretation(seq, arr_words, arr_search_keys):\n",
    "    \"\"\"INPUT: ['123', 'main']\"\"\"\n",
    "    t1_encoded = ph.encode_from_word_list(arr_words)\n",
    "    #print(\"encoded: \" ,t1_encoded)\n",
    "    seq.look_ahead(t1_encoded)\n",
    "    next_values = seq.get_next_values()\n",
    "    #print(\"returning \", next_values)\n",
    "    return [search_key for search_key in arr_search_keys if search_key in next_values]\n",
    "\n",
    "#get_interpretation(seq, w(\"123 martin luther king jr\"))\n",
    "get_interpretation(ph.seq, ph.w(\"suite 100\"), ['ADDRESS', 'POBOX', 'SUITE'])"
   ]
  },
  {
   "cell_type": "code",
   "execution_count": 9,
   "metadata": {},
   "outputs": [
    {
     "name": "stdout",
     "output_type": "stream",
     "text": [
      "Length Domain:  7\n",
      "INPUT TO GET_INTERPRETATION:  ['suite']\n",
      "INPUT TO GET_INTERPRETATION:  ['suite', '100']\n",
      "HIT A\n",
      "INPUT TO GET_INTERPRETATION:  ['suite', '100', '11845']\n",
      "HIT A\n",
      "INPUT TO GET_INTERPRETATION:  ['suite', '100', '11845', 'w']\n",
      "SUB INPUT for INTERPRET:  ['100', '11845', 'w'] [] -1\n",
      "SUB INPUT for INTERPRET:  ['11845', 'w'] ['SUITE'] 2\n",
      "HIT B\n",
      "INPUT TO GET_INTERPRETATION:  ['suite', '100', '11845', 'w', 'olympic']\n",
      "SUB INPUT for INTERPRET:  ['100', '11845', 'w', 'olympic'] [] -1\n",
      "SUB INPUT for INTERPRET:  ['11845', 'w', 'olympic'] ['ADDRESS'] 2\n",
      "HIT B\n",
      "INPUT TO GET_INTERPRETATION:  ['suite', '100', '11845', 'w', 'olympic', 'boulevard']\n",
      "SUB INPUT for INTERPRET:  ['100', '11845', 'w', 'olympic', 'boulevard'] [] -1\n",
      "SUB INPUT for INTERPRET:  ['11845', 'w', 'olympic', 'boulevard'] ['ADDRESS'] 2\n",
      "HIT B\n",
      "INPUT TO GET_INTERPRETATION:  ['suite', '100', '11845', 'w', 'olympic', 'boulevard', 'junk']\n",
      "SUB INPUT for INTERPRET:  ['100', '11845', 'w', 'olympic', 'boulevard', 'junk'] [] -1\n",
      "SUB INPUT for INTERPRET:  ['11845', 'w', 'olympic', 'boulevard', 'junk'] [] 2\n",
      "SUB INPUT for INTERPRET:  ['w', 'olympic', 'boulevard', 'junk'] [] 3\n",
      "SUB INPUT for INTERPRET:  ['olympic', 'boulevard', 'junk'] [] 2\n",
      "SUB INPUT for INTERPRET:  ['boulevard', 'junk'] [] 3\n",
      "SUB INPUT for INTERPRET:  ['junk'] [] 4\n",
      "last_length:  [-1, 2, 3, 2, 3, 4, -1]\n",
      "last_interp:  ['', ['SUITE'], ['SUITE'], ['SUITE'], ['ADDRESS'], ['ADDRESS'], '']\n",
      "BEGIN DECOMPOSITON PHASE\n",
      "[]\n"
     ]
    },
    {
     "data": {
      "text/plain": [
       "([-1, 2, 3, 2, 3, 4, -1],\n",
       " ['', ['SUITE'], ['SUITE'], ['SUITE'], ['ADDRESS'], ['ADDRESS'], ''],\n",
       " [])"
      ]
     },
     "execution_count": 9,
     "metadata": {},
     "output_type": "execute_result"
    }
   ],
   "source": [
    "def decompose_into_dictionary_words(domain, _seq, types):\n",
    "    last_length = [-1] * len(domain)\n",
    "    last_interp = ['']*len(domain)\n",
    "    print(\"Length Domain: \", len(domain))\n",
    "    for i in range(len(domain)):\n",
    "        print(\"INPUT TO GET_INTERPRETATION: \", domain[:i + 1])\n",
    "        inter1 = get_interpretation(_seq, domain[:i + 1], types)\n",
    "        if any([ret_type in types for ret_type in inter1]):\n",
    "            print(\"HIT A\")\n",
    "            last_interp[i] = [hit for hit in inter1 if hit in types]\n",
    "            last_length[i] = i + 1\n",
    "            \n",
    "        if last_length[i] == -1:\n",
    "            for j in range(i):\n",
    "                inter2 = get_interpretation(_seq, domain[j + 1:i + 1], types)\n",
    "                print(\"SUB INPUT for INTERPRET: \", domain[j+1:i+1], inter2, last_length[j])\n",
    "                #if last_length[j] != -1 and any([ret_type in types for ret_type in inter2]):\n",
    "                if any([ret_type in types for ret_type in inter2]):\n",
    "                    print('HIT B')\n",
    "                    last_interp[i] = [hit for hit in inter2 if hit in types]\n",
    "                    last_length[i] = i - j\n",
    "                    break\n",
    "        #print(\"last_length: \", last_length)\n",
    "        #print(\"last_interp: \", last_interp)\n",
    "    #return last_length, last_interp\n",
    "    print(\"last_length: \", last_length)\n",
    "    print(\"last_interp: \", last_interp)\n",
    "    print(\"BEGIN DECOMPOSITON PHASE\")\n",
    "    decompositions = []\n",
    "    if last_length[-1] != -1:\n",
    "        idx = len(domain) - 1\n",
    "        while idx >= 0:\n",
    "            print(\"idx: \", idx)\n",
    "            decompositions.append(last_interp[idx]) #domain[idx + 1 - last_length[idx]:idx + 1])\n",
    "            if last_length[idx] == -1:\n",
    "                idx -= 1\n",
    "                continue\n",
    "            idx -= last_length[idx]\n",
    "        decompositions = decompositions[::-1]\n",
    "    print(decompositions)\n",
    "    return last_length, last_interp, decompositions\n",
    "\n",
    "decompose_into_dictionary_words(ph.w(\"SUITE 100 11845 W OLYMPIC BOULEVARD junk\".lower()), ph.seq, ['ADDRESS', 'POBOX', 'SUITE', 'ATTN'])"
   ]
  },
  {
   "cell_type": "code",
   "execution_count": 8,
   "metadata": {},
   "outputs": [
    {
     "name": "stdout",
     "output_type": "stream",
     "text": [
      "Length Domain:  7\n",
      "INPUT TO GET_INTERPRETATION:  ['drums']\n",
      "INPUT TO GET_INTERPRETATION:  ['drums', 'suite']\n",
      "SUB INPUT for INTERPRET:  ['suite'] [] -1\n",
      "INPUT TO GET_INTERPRETATION:  ['drums', 'suite', '100']\n",
      "SUB INPUT for INTERPRET:  ['suite', '100'] ['SUITE'] -1\n",
      "HIT B\n",
      "INPUT TO GET_INTERPRETATION:  ['drums', 'suite', '100', '11845']\n",
      "SUB INPUT for INTERPRET:  ['suite', '100', '11845'] ['SUITE'] -1\n",
      "HIT B\n",
      "INPUT TO GET_INTERPRETATION:  ['drums', 'suite', '100', '11845', 'w']\n",
      "SUB INPUT for INTERPRET:  ['suite', '100', '11845', 'w'] [] -1\n",
      "SUB INPUT for INTERPRET:  ['100', '11845', 'w'] [] -1\n",
      "SUB INPUT for INTERPRET:  ['11845', 'w'] ['SUITE'] 2\n",
      "HIT B\n",
      "INPUT TO GET_INTERPRETATION:  ['drums', 'suite', '100', '11845', 'w', 'olympic']\n",
      "SUB INPUT for INTERPRET:  ['suite', '100', '11845', 'w', 'olympic'] [] -1\n",
      "SUB INPUT for INTERPRET:  ['100', '11845', 'w', 'olympic'] [] -1\n",
      "SUB INPUT for INTERPRET:  ['11845', 'w', 'olympic'] ['ADDRESS'] 2\n",
      "HIT B\n",
      "INPUT TO GET_INTERPRETATION:  ['drums', 'suite', '100', '11845', 'w', 'olympic', 'boulevard']\n",
      "SUB INPUT for INTERPRET:  ['suite', '100', '11845', 'w', 'olympic', 'boulevard'] [] -1\n",
      "SUB INPUT for INTERPRET:  ['100', '11845', 'w', 'olympic', 'boulevard'] [] -1\n",
      "SUB INPUT for INTERPRET:  ['11845', 'w', 'olympic', 'boulevard'] ['ADDRESS'] 2\n",
      "HIT B\n",
      "last_length:  [-1, -1, 2, 3, 2, 3, 4]\n",
      "last_interp:  ['', '', ['SUITE'], ['SUITE'], ['SUITE'], ['ADDRESS'], ['ADDRESS']]\n",
      "BEGIN DECOMPOSITON PHASE\n",
      "idx:  6\n",
      "idx:  2\n",
      "idx:  0\n",
      "['', ['SUITE'], ['ADDRESS']]\n"
     ]
    },
    {
     "data": {
      "text/plain": [
       "([-1, -1, 2, 3, 2, 3, 4],\n",
       " ['', '', ['SUITE'], ['SUITE'], ['SUITE'], ['ADDRESS'], ['ADDRESS']],\n",
       " ['', ['SUITE'], ['ADDRESS']])"
      ]
     },
     "execution_count": 8,
     "metadata": {},
     "output_type": "execute_result"
    }
   ],
   "source": [
    "test_string = \"DRUMS SUITE 100 11845 W OLYMPIC BOULEVARD\"\n",
    "decompose_into_dictionary_words(ph.w(test_string.lower().strip()), ph.seq, ['ADDRESS', 'POBOX', 'SUITE', 'ATTN'])"
   ]
  }
 ],
 "metadata": {
  "kernelspec": {
   "display_name": "Python 3",
   "language": "python",
   "name": "python3"
  },
  "language_info": {
   "codemirror_mode": {
    "name": "ipython",
    "version": 3
   },
   "file_extension": ".py",
   "mimetype": "text/x-python",
   "name": "python",
   "nbconvert_exporter": "python",
   "pygments_lexer": "ipython3",
   "version": "3.4.3"
  }
 },
 "nbformat": 4,
 "nbformat_minor": 2
}
