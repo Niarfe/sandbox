{
 "cells": [
  {
   "cell_type": "code",
   "execution_count": 2,
   "metadata": {},
   "outputs": [],
   "source": [
    "import hydraseq as hseq\n",
    "import re"
   ]
  },
  {
   "cell_type": "code",
   "execution_count": 3,
   "metadata": {},
   "outputs": [
    {
     "data": {
      "text/plain": [
       "['martin']"
      ]
     },
     "execution_count": 3,
     "metadata": {},
     "output_type": "execute_result"
    }
   ],
   "source": [
    "re.findall(r'martin$', 'martin')"
   ]
  },
  {
   "cell_type": "code",
   "execution_count": 37,
   "metadata": {},
   "outputs": [
    {
     "name": "stdout",
     "output_type": "stream",
     "text": [
      "Example:  ['123', 'martin']\n",
      "Encoded:  [['STR_NUM', 'UNT_NUM'], ['STR_NAME', 'martin']]\n",
      "Encode Sentence:  [[[], []], [[], ['STR_NAME', 'martin']]]\n"
     ]
    }
   ],
   "source": [
    "def w(str_sentence):\n",
    "    \"\"\"input: \"123 main st\" and outout: ['123','main','st]]\"\"\"\n",
    "    return re.findall(r\"[\\w'/-:]+|[,!?;#&]\", str_sentence)\n",
    "assert w(\"123 main st\") == ['123','main','st'],\"123 main st\"\n",
    "\n",
    "def isItAnAlpha(strt):\n",
    "    return 'STR_NAME' if strt.isalpha() else None\n",
    "\n",
    "def isItADigit(strt):\n",
    "    return 'STR_NUM' if strt.isdigit() else None\n",
    "\n",
    "def isSpecialWord(start):\n",
    "    special_words = ['martin', 'luther', 'king', 'jr']\n",
    "    return start if start in special_words else None\n",
    "\n",
    "def isUnitType(strt):\n",
    "    unit_types = ['apt', 'suite', 'unit']\n",
    "    return 'UNT_TYPE' if strt in unit_types else None\n",
    "\n",
    "def isUnitNumber(strt):\n",
    "    return 'UNT_NUM' if (re.findall(r'\\d+$', strt) or re.findall(r'^[a-z]$', strt)) else None\n",
    "\n",
    "def isPOType(strt):\n",
    "    if strt == 'po':\n",
    "        return 'PO0'\n",
    "    elif strt == 'box':\n",
    "        return 'PO1'\n",
    "    else:\n",
    "        return None\n",
    "\n",
    "\n",
    "sensors = [\n",
    "    isItAnAlpha,\n",
    "    isItADigit,\n",
    "    isSpecialWord,\n",
    "    isUnitType,\n",
    "    isUnitNumber,\n",
    "    isPOType\n",
    "]\n",
    "\n",
    "\n",
    "#sense_active = zip(activations, sensors)\n",
    "\n",
    "def encode(words):\n",
    "    \"\"\"Input: ['w1, 'w2']\"\"\"\n",
    "    return [[func(word) for func in sensors if func(word)] for word in words]\n",
    "def encode_sentence(sentence):\n",
    "    \"\"\"Input: [['w1'],['w2']], also [['w1a','w2a'],['w1b','w2b']]\"\"\"\n",
    "    return [encode(words) for words in sentence]\n",
    "\n",
    "encode_examples = [\n",
    "    ['123', 'martin']\n",
    "]\n",
    "for example in encode_examples:\n",
    "    print('Example: ', example)\n",
    "    print('Encoded: ', encode(example))\n",
    "    print('Encode Sentence: ', encode_sentence(encode(example)))\n"
   ]
  },
  {
   "cell_type": "code",
   "execution_count": 38,
   "metadata": {},
   "outputs": [
    {
     "name": "stdout",
     "output_type": "stream",
     "text": [
      "[]\n"
     ]
    },
    {
     "data": {
      "text/plain": [
       "[]"
      ]
     },
     "execution_count": 38,
     "metadata": {},
     "output_type": "execute_result"
    }
   ],
   "source": [
    "seq = hseq.Hydraseq('input')\n",
    "seq.insert([['STR_NUM'], ['STR_NAME'], ['ADDRESS']])\n",
    "seq.insert([['STR_NUM'],['martin'],['luther'],['king'],['jr'],['ADDRESS']])\n",
    "seq.insert([['UNT_TYPE'],['UNT_NUM'],['UNIT']])\n",
    "seq.look_ahead([['STR_NUM'],['STR_NAME']])\n",
    "seq.insert([['PO0'],['PO1'],['STR_NUM'],['POBOX']])\n",
    "print(seq.get_next_values())\n",
    "seq.look_ahead([['martin'],['luther'],['king'],['jr']])\n",
    "seq.get_next_values()\n"
   ]
  },
  {
   "cell_type": "code",
   "execution_count": 39,
   "metadata": {},
   "outputs": [
    {
     "data": {
      "text/plain": [
       "['_ADDRESS_']"
      ]
     },
     "execution_count": 39,
     "metadata": {},
     "output_type": "execute_result"
    }
   ],
   "source": [
    "seq2 = hseq.Hydraseq('first')\n",
    "seq2.insert([['DIGIT'],['ALPHA'],['_ADDRESS_']])\n",
    "seq2.look_ahead([['DIGIT'],['ALPHA']])\n",
    "seq2.get_next_values()"
   ]
  },
  {
   "cell_type": "code",
   "execution_count": 40,
   "metadata": {},
   "outputs": [
    {
     "name": "stdout",
     "output_type": "stream",
     "text": [
      "[['STR_NUM', 'UNT_NUM'], ['STR_NAME']]\n"
     ]
    },
    {
     "data": {
      "text/plain": [
       "['ADDRESS']"
      ]
     },
     "execution_count": 40,
     "metadata": {},
     "output_type": "execute_result"
    }
   ],
   "source": [
    "t1_encoded = encode(w(\"123 main\"))\n",
    "print(t1_encoded)\n",
    "seq.look_ahead(t1_encoded)\n",
    "seq.get_next_values()"
   ]
  },
  {
   "cell_type": "code",
   "execution_count": 41,
   "metadata": {},
   "outputs": [
    {
     "name": "stdout",
     "output_type": "stream",
     "text": [
      "encoded:  [['STR_NAME', 'PO0'], ['STR_NAME', 'PO1'], ['STR_NUM', 'UNT_NUM']]\n",
      "returning  ['POBOX']\n"
     ]
    },
    {
     "data": {
      "text/plain": [
       "['POBOX']"
      ]
     },
     "execution_count": 41,
     "metadata": {},
     "output_type": "execute_result"
    }
   ],
   "source": [
    "def get_interpretation(seq, arr_words):\n",
    "    \"\"\"INPUT: ['123', 'main']\"\"\"\n",
    "    t1_encoded = encode(arr_words)\n",
    "    print(\"encoded: \" ,t1_encoded)\n",
    "    seq.look_ahead(t1_encoded)\n",
    "    next_values = seq.get_next_values()\n",
    "    print(\"returning \", next_values)\n",
    "    return next_values\n",
    "\n",
    "#get_interpretation(seq, w(\"123 martin luther king jr\"))\n",
    "get_interpretation(seq, w(\"po box 123\"))"
   ]
  },
  {
   "cell_type": "code",
   "execution_count": 42,
   "metadata": {},
   "outputs": [
    {
     "name": "stdout",
     "output_type": "stream",
     "text": [
      "Length Domain:  8\n",
      "INPUT TO GET_INTERPRETATION:  ['po']\n",
      "encoded:  [['STR_NAME', 'PO0']]\n",
      "returning  ['PO1']\n",
      "last_length:  [0, 0, 0, 0, 0, 0, 0, 0]\n",
      "INPUT TO GET_INTERPRETATION:  ['po', 'box']\n",
      "encoded:  [['STR_NAME', 'PO0'], ['STR_NAME', 'PO1']]\n",
      "returning  ['STR_NUM']\n",
      "encoded:  [['STR_NAME', 'PO1']]\n",
      "returning  []\n",
      "SUB INPUT for INTERPRET:  []\n",
      "last_length:  [0, 0, 0, 0, 0, 0, 0, 0]\n",
      "INPUT TO GET_INTERPRETATION:  ['po', 'box', '600']\n",
      "encoded:  [['STR_NAME', 'PO0'], ['STR_NAME', 'PO1'], ['STR_NUM', 'UNT_NUM']]\n",
      "returning  ['POBOX']\n",
      "last_length:  [0, 0, 3, 0, 0, 0, 0, 0]\n",
      "INPUT TO GET_INTERPRETATION:  ['po', 'box', '600', '17']\n",
      "encoded:  [['STR_NAME', 'PO0'], ['STR_NAME', 'PO1'], ['STR_NUM', 'UNT_NUM'], ['STR_NUM', 'UNT_NUM']]\n",
      "returning  []\n",
      "encoded:  [['STR_NAME', 'PO1'], ['STR_NUM', 'UNT_NUM'], ['STR_NUM', 'UNT_NUM']]\n",
      "returning  []\n",
      "SUB INPUT for INTERPRET:  []\n",
      "encoded:  [['STR_NUM', 'UNT_NUM'], ['STR_NUM', 'UNT_NUM']]\n",
      "returning  []\n",
      "SUB INPUT for INTERPRET:  []\n",
      "encoded:  [['STR_NUM', 'UNT_NUM']]\n",
      "returning  ['STR_NAME', 'martin']\n",
      "SUB INPUT for INTERPRET:  ['STR_NAME', 'martin']\n",
      "last_length:  [0, 0, 3, 0, 0, 0, 0, 0]\n",
      "INPUT TO GET_INTERPRETATION:  ['po', 'box', '600', '17', 'mile']\n",
      "encoded:  [['STR_NAME', 'PO0'], ['STR_NAME', 'PO1'], ['STR_NUM', 'UNT_NUM'], ['STR_NUM', 'UNT_NUM'], ['STR_NAME']]\n",
      "returning  []\n",
      "encoded:  [['STR_NAME', 'PO1'], ['STR_NUM', 'UNT_NUM'], ['STR_NUM', 'UNT_NUM'], ['STR_NAME']]\n",
      "returning  []\n",
      "SUB INPUT for INTERPRET:  []\n",
      "encoded:  [['STR_NUM', 'UNT_NUM'], ['STR_NUM', 'UNT_NUM'], ['STR_NAME']]\n",
      "returning  []\n",
      "SUB INPUT for INTERPRET:  []\n",
      "encoded:  [['STR_NUM', 'UNT_NUM'], ['STR_NAME']]\n",
      "returning  ['ADDRESS']\n",
      "SUB INPUT for INTERPRET:  ['ADDRESS']\n",
      "last_length:  [0, 0, 3, 0, 2, 0, 0, 0]\n",
      "INPUT TO GET_INTERPRETATION:  ['po', 'box', '600', '17', 'mile', 'rd']\n",
      "encoded:  [['STR_NAME', 'PO0'], ['STR_NAME', 'PO1'], ['STR_NUM', 'UNT_NUM'], ['STR_NUM', 'UNT_NUM'], ['STR_NAME'], ['STR_NAME']]\n",
      "returning  []\n",
      "encoded:  [['STR_NAME', 'PO1'], ['STR_NUM', 'UNT_NUM'], ['STR_NUM', 'UNT_NUM'], ['STR_NAME'], ['STR_NAME']]\n",
      "returning  []\n",
      "SUB INPUT for INTERPRET:  []\n",
      "encoded:  [['STR_NUM', 'UNT_NUM'], ['STR_NUM', 'UNT_NUM'], ['STR_NAME'], ['STR_NAME']]\n",
      "returning  []\n",
      "SUB INPUT for INTERPRET:  []\n",
      "encoded:  [['STR_NUM', 'UNT_NUM'], ['STR_NAME'], ['STR_NAME']]\n",
      "returning  []\n",
      "SUB INPUT for INTERPRET:  []\n",
      "encoded:  [['STR_NAME'], ['STR_NAME']]\n",
      "returning  []\n",
      "SUB INPUT for INTERPRET:  []\n",
      "encoded:  [['STR_NAME']]\n",
      "returning  []\n",
      "SUB INPUT for INTERPRET:  []\n",
      "last_length:  [0, 0, 3, 0, 2, 0, 0, 0]\n",
      "INPUT TO GET_INTERPRETATION:  ['po', 'box', '600', '17', 'mile', 'rd', 'ste']\n",
      "encoded:  [['STR_NAME', 'PO0'], ['STR_NAME', 'PO1'], ['STR_NUM', 'UNT_NUM'], ['STR_NUM', 'UNT_NUM'], ['STR_NAME'], ['STR_NAME'], ['STR_NAME']]\n",
      "returning  []\n",
      "encoded:  [['STR_NAME', 'PO1'], ['STR_NUM', 'UNT_NUM'], ['STR_NUM', 'UNT_NUM'], ['STR_NAME'], ['STR_NAME'], ['STR_NAME']]\n",
      "returning  []\n",
      "SUB INPUT for INTERPRET:  []\n",
      "encoded:  [['STR_NUM', 'UNT_NUM'], ['STR_NUM', 'UNT_NUM'], ['STR_NAME'], ['STR_NAME'], ['STR_NAME']]\n",
      "returning  []\n",
      "SUB INPUT for INTERPRET:  []\n",
      "encoded:  [['STR_NUM', 'UNT_NUM'], ['STR_NAME'], ['STR_NAME'], ['STR_NAME']]\n",
      "returning  []\n",
      "SUB INPUT for INTERPRET:  []\n",
      "encoded:  [['STR_NAME'], ['STR_NAME'], ['STR_NAME']]\n",
      "returning  []\n",
      "SUB INPUT for INTERPRET:  []\n",
      "encoded:  [['STR_NAME'], ['STR_NAME']]\n",
      "returning  []\n",
      "SUB INPUT for INTERPRET:  []\n",
      "encoded:  [['STR_NAME']]\n",
      "returning  []\n",
      "SUB INPUT for INTERPRET:  []\n",
      "last_length:  [0, 0, 3, 0, 2, 0, 0, 0]\n",
      "INPUT TO GET_INTERPRETATION:  ['po', 'box', '600', '17', 'mile', 'rd', 'ste', '19']\n",
      "encoded:  [['STR_NAME', 'PO0'], ['STR_NAME', 'PO1'], ['STR_NUM', 'UNT_NUM'], ['STR_NUM', 'UNT_NUM'], ['STR_NAME'], ['STR_NAME'], ['STR_NAME'], ['STR_NUM', 'UNT_NUM']]\n",
      "returning  []\n",
      "encoded:  [['STR_NAME', 'PO1'], ['STR_NUM', 'UNT_NUM'], ['STR_NUM', 'UNT_NUM'], ['STR_NAME'], ['STR_NAME'], ['STR_NAME'], ['STR_NUM', 'UNT_NUM']]\n",
      "returning  []\n",
      "SUB INPUT for INTERPRET:  []\n",
      "encoded:  [['STR_NUM', 'UNT_NUM'], ['STR_NUM', 'UNT_NUM'], ['STR_NAME'], ['STR_NAME'], ['STR_NAME'], ['STR_NUM', 'UNT_NUM']]\n",
      "returning  []\n",
      "SUB INPUT for INTERPRET:  []\n",
      "encoded:  [['STR_NUM', 'UNT_NUM'], ['STR_NAME'], ['STR_NAME'], ['STR_NAME'], ['STR_NUM', 'UNT_NUM']]\n",
      "returning  []\n",
      "SUB INPUT for INTERPRET:  []\n",
      "encoded:  [['STR_NAME'], ['STR_NAME'], ['STR_NAME'], ['STR_NUM', 'UNT_NUM']]\n",
      "returning  []\n",
      "SUB INPUT for INTERPRET:  []\n",
      "encoded:  [['STR_NAME'], ['STR_NAME'], ['STR_NUM', 'UNT_NUM']]\n",
      "returning  []\n",
      "SUB INPUT for INTERPRET:  []\n",
      "encoded:  [['STR_NAME'], ['STR_NUM', 'UNT_NUM']]\n",
      "returning  []\n",
      "SUB INPUT for INTERPRET:  []\n",
      "encoded:  [['STR_NUM', 'UNT_NUM']]\n",
      "returning  ['STR_NAME', 'martin']\n",
      "SUB INPUT for INTERPRET:  ['STR_NAME', 'martin']\n",
      "last_length:  [0, 0, 3, 0, 2, 0, 0, 0]\n"
     ]
    },
    {
     "data": {
      "text/plain": [
       "[0, 0, 3, 0, 2, 0, 0, 0]"
      ]
     },
     "execution_count": 42,
     "metadata": {},
     "output_type": "execute_result"
    }
   ],
   "source": [
    "def decompose_into_dictionary_words(domain, _seq, types):\n",
    "    last_length = [0] * len(domain)\n",
    "    print(\"Length Domain: \", len(domain))\n",
    "    for i in range(len(domain)):\n",
    "        print(\"INPUT TO GET_INTERPRETATION: \", domain[:i + 1])\n",
    "        inter1 = get_interpretation(_seq, domain[:i + 1])\n",
    "        if any([ret_type in types for ret_type in inter1]):\n",
    "            last_length[i] = i + 1\n",
    "            \n",
    "        if last_length[i] == 0:\n",
    "            for j in range(i):\n",
    "                inter2 = get_interpretation(_seq, domain[j + 1:i + 1])\n",
    "                print(\"SUB INPUT for INTERPRET: \", inter2)\n",
    "                if last_length[j] != -1 and any([ret_type in types for ret_type in inter2]):\n",
    "                    last_length[i] = i - j\n",
    "                    break\n",
    "        print(\"last_length: \", last_length)\n",
    "    return last_length\n",
    "#     decompositions = []\n",
    "#     if last_length[-1] != 0:\n",
    "#         idx = len(domain) - 1\n",
    "#         while idx >= 0:\n",
    "#             decompositions.append(domain[idx + 1 - last_length[idx]:idx + 1])\n",
    "#             idx -= last_length[idx]\n",
    "#         decompositions = decompositions[::-1]\n",
    "\n",
    "#     return decompositions\n",
    "\n",
    "#decompose_into_dictionary_words(['apt','123','123','martin','luther','king','jr','apt','b'], seq, ['ADDRESS', 'UNIT'])\n",
    "decompose_into_dictionary_words(['po', 'box', '600', '17', 'mile', 'rd','ste','19'], seq, ['ADDRESS', 'UNIT', 'POBOX'])"
   ]
  },
  {
   "cell_type": "code",
   "execution_count": 224,
   "metadata": {},
   "outputs": [],
   "source": [
    "seq_00 = hseq.Hydraseq('00')\n",
    "seq_01 = hseq.Hydraseq('01')"
   ]
  },
  {
   "cell_type": "code",
   "execution_count": 225,
   "metadata": {},
   "outputs": [
    {
     "data": {
      "text/plain": [
       "uuid: 01\n",
       "n_init: <node: (*),(*)>:\n",
       "active values: []\n",
       "next values: []"
      ]
     },
     "execution_count": 225,
     "metadata": {},
     "output_type": "execute_result"
    }
   ],
   "source": [
    "seq_00.insert([['STR_NUM'],['STR_NAME'],['_ADR_STREET_']])\n",
    "seq_01.insert([['APT_TYPE'],['APT_NUM'],['_ADR_APT_']])"
   ]
  },
  {
   "cell_type": "code",
   "execution_count": 234,
   "metadata": {},
   "outputs": [
    {
     "name": "stdout",
     "output_type": "stream",
     "text": [
      "Length Domain:  4\n",
      "INPUT TO GET_INTERPRETATION:  ['123']\n",
      "encoded:  [['DIGIT']]\n",
      "returning  ['ALPHA', 'martin']\n",
      "INPUT TO GET_INTERPRETATION:  ['123', 'main']\n",
      "encoded:  [['DIGIT'], ['ALPHA']]\n",
      "returning  ['ADDRESS']\n",
      "INPUT TO GET_INTERPRETATION:  ['123', 'main', '123']\n",
      "encoded:  [['DIGIT'], ['ALPHA'], ['DIGIT']]\n",
      "returning  []\n",
      "encoded:  [['ALPHA'], ['DIGIT']]\n",
      "returning  []\n",
      "encoded:  [['DIGIT']]\n",
      "returning  ['ALPHA', 'martin']\n",
      "INPUT TO GET_INTERPRETATION:  ['123', 'main', '123', 'broadway']\n",
      "encoded:  [['DIGIT'], ['ALPHA'], ['DIGIT'], ['ALPHA']]\n",
      "returning  []\n",
      "encoded:  [['ALPHA'], ['DIGIT'], ['ALPHA']]\n",
      "returning  []\n",
      "encoded:  [['DIGIT'], ['ALPHA']]\n",
      "returning  ['ADDRESS']\n"
     ]
    },
    {
     "data": {
      "text/plain": [
       "[0, 2, 0, 2]"
      ]
     },
     "execution_count": 234,
     "metadata": {},
     "output_type": "execute_result"
    }
   ],
   "source": [
    "decompose_into_dictionary_words([\"123\",\"main\",\"123\",\"broadway\"], seq, 'ADDRESS')"
   ]
  },
  {
   "cell_type": "code",
   "execution_count": 228,
   "metadata": {},
   "outputs": [
    {
     "data": {
      "text/plain": [
       "['_ADR_STREET_']"
      ]
     },
     "execution_count": 228,
     "metadata": {},
     "output_type": "execute_result"
    }
   ],
   "source": [
    "seq_00.look_ahead([['STR_NUM'], ['STR_NAME']]).get_next_values()"
   ]
  },
  {
   "cell_type": "code",
   "execution_count": 230,
   "metadata": {},
   "outputs": [
    {
     "data": {
      "text/plain": [
       "defaultdict(list,\n",
       "            {'STR_NAME': [<node: STR_NAME,(*)>STR_NUM>STR_NAME>],\n",
       "             'STR_NUM': [<node: STR_NUM,(*)>STR_NUM>],\n",
       "             '_ADR_STREET_': [<node: _ADR_STREET_,(*)>STR_NUM>STR_NAME>_ADR_STREET_>]})"
      ]
     },
     "execution_count": 230,
     "metadata": {},
     "output_type": "execute_result"
    }
   ],
   "source": [
    "seq_00.columns"
   ]
  },
  {
   "cell_type": "code",
   "execution_count": null,
   "metadata": {},
   "outputs": [],
   "source": []
  },
  {
   "cell_type": "code",
   "execution_count": null,
   "metadata": {},
   "outputs": [],
   "source": []
  },
  {
   "cell_type": "code",
   "execution_count": null,
   "metadata": {},
   "outputs": [],
   "source": []
  },
  {
   "cell_type": "code",
   "execution_count": null,
   "metadata": {},
   "outputs": [],
   "source": []
  },
  {
   "cell_type": "code",
   "execution_count": null,
   "metadata": {},
   "outputs": [],
   "source": []
  },
  {
   "cell_type": "code",
   "execution_count": null,
   "metadata": {},
   "outputs": [],
   "source": []
  },
  {
   "cell_type": "code",
   "execution_count": 31,
   "metadata": {},
   "outputs": [],
   "source": [
    "def encoder(word, trim=True):\n",
    "    encodings = [\n",
    "        # LETTERS ONLY\n",
    "        ('ALPHA', [r'^[a-z]+$']),\n",
    "            ('LETTER', [r'^[a-z]$']),\n",
    "            ('WAY', [ways]),\n",
    "            ('WORDWAY', [wordways]),\n",
    "            ('APT', [ apts ]),\n",
    "            ('ARTI', [arti]),\n",
    "            ('SP_ARTI', [sp_arti]),\n",
    "            ('PRE',  [ pre ]),\n",
    "            ('DIR',  [ dirs ]),\n",
    "            ('POB2', [r'^box$']),\n",
    "            ('DELEG', [r'^attn$', r'^attn:$', r'^c\\/o$', r'^co$' ]),\n",
    "            ('POB0', [r'^po$', r'^p\\.o\\.$']),\n",
    "\n",
    "        # NUMBERS ONLY\n",
    "        ('DIGIT', [r'^\\d+$']),\n",
    "\n",
    "        # MIXED LETTERS AND NUMBERS\n",
    "        ('ALNUM', [r'^(\\d+[a-z]+|[a-z]+\\d+)[\\da-z]*$']),\n",
    "            ('NUMSTR', [r'^\\d+[a-z]+$' ]),\n",
    "                ('NTH',    [ nths ]),\n",
    "                ('NUMS_1AL', [ r'^\\d+[a-z]$' ]),\n",
    "            ('APT_NUM', [ r'apt\\d+$', r'unit\\d+$', r'bldg\\d+$', r'ste\\d+$', r'suite\\d+$']),\n",
    "\n",
    "        # SYMBOLS ONLY\n",
    "        ('COMMA', [r'^,$']),\n",
    "        ('PERIOD', [r'^\\.$']),\n",
    "        ('POUND', [r'^#$']),\n",
    "\n",
    "        # LETTERS AND SYMBOLS\n",
    "\n",
    "        # NUMBERS AND SYMBOLS\n",
    "\n",
    "        # INTERNAL MARKERS\n",
    "        ('ADDRESS', [r'^:adr$']),\n",
    "        ('ATTN', [r'^:deleg$']),\n",
    "        ('POBOX', [r'^:box$']),\n",
    "    ]\n",
    "    encoding = [key for key, rexs in encodings for rex in rexs if re.match(rex, word)]\n",
    "    if not trim:\n",
    "        return encoding\n",
    "    else:\n",
    "        if any([key in ['SP_ARTI','LETTER', 'WORDWAY', 'WAY', 'APT', 'ARTI', 'PRE', 'DIR', 'DELEG', 'POB2', 'POB0'] for key in encoding]) and 'ALPHA' in encoding:\n",
    "            encoding.remove('ALPHA')  # Redudant category level if we have probable meaning\n",
    "        if any([key in ['NUMS_1AL', 'NUMSTR', 'NTH'] for key in encoding]) and 'ALNUM' in encoding:\n",
    "            encoding.remove('ALNUM')  # Redudant category level if we have probable meaning\n",
    "        if any([key in ['NUMS_1AL', 'NTH'] for key in encoding]) and 'NUMSTR' in encoding:\n",
    "            encoding.remove('NUMSTR')\n",
    "\n",
    "        return encoding"
   ]
  },
  {
   "cell_type": "code",
   "execution_count": 7,
   "metadata": {},
   "outputs": [
    {
     "data": {
      "text/plain": [
       "uuid: <bound method Kernel.raw_input of <ipykernel.ipkernel.IPythonKernel object at 0x104b2b358>>\n",
       "n_init: <node: (*),(*)>:\n",
       "active values: []\n",
       "next values: []"
      ]
     },
     "execution_count": 7,
     "metadata": {},
     "output_type": "execute_result"
    }
   ],
   "source": [
    "seq.insert(\"martin luther king jr WAY_NAME\")\n",
    "seq.insert(\"\")"
   ]
  },
  {
   "cell_type": "code",
   "execution_count": null,
   "metadata": {},
   "outputs": [],
   "source": [
    "# use for encoding\n",
    "way_types = [\n",
    "    \"dr\",\n",
    "    \"st\",\n",
    "    \"ct\",\n",
    "    \"rd\",\n",
    "]\n",
    "\n",
    "words = [\n",
    "    \"martin\",\n",
    "    \"luther\",\n",
    "    \"king\"\n",
    "]\n",
    "\n"
   ]
  }
 ],
 "metadata": {
  "kernelspec": {
   "display_name": "Python 3",
   "language": "python",
   "name": "python3"
  },
  "language_info": {
   "codemirror_mode": {
    "name": "ipython",
    "version": 3
   },
   "file_extension": ".py",
   "mimetype": "text/x-python",
   "name": "python",
   "nbconvert_exporter": "python",
   "pygments_lexer": "ipython3",
   "version": "3.4.3"
  }
 },
 "nbformat": 4,
 "nbformat_minor": 2
}
