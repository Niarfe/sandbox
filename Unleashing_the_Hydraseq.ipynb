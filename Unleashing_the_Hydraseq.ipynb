{
 "cells": [
  {
   "cell_type": "code",
   "execution_count": 1,
   "metadata": {},
   "outputs": [],
   "source": [
    "import phrase_entity_extraction as ph"
   ]
  },
  {
   "cell_type": "code",
   "execution_count": 2,
   "metadata": {},
   "outputs": [
    {
     "data": {
      "text/plain": [
       "uuid: input\n",
       "n_init: <node: (*),(*)>:\n",
       "active values: []\n",
       "next values: []"
      ]
     },
     "execution_count": 2,
     "metadata": {},
     "output_type": "execute_result"
    }
   ],
   "source": [
    "ph.seq.look_ahead([['ADR_HEAD']])"
   ]
  },
  {
   "cell_type": "code",
   "execution_count": 3,
   "metadata": {},
   "outputs": [
    {
     "data": {
      "text/plain": [
       "'123 MAIN ST'"
      ]
     },
     "execution_count": 3,
     "metadata": {},
     "output_type": "execute_result"
    }
   ],
   "source": [
    "ph.return_max_address(ph.seq, \"123 main st\")"
   ]
  },
  {
   "cell_type": "code",
   "execution_count": 4,
   "metadata": {},
   "outputs": [
    {
     "data": {
      "text/plain": [
       "[[0, 1, 1, ['SUITE'], '123'],\n",
       " [0, 2, 2, ['ADDRESS'], '123 main'],\n",
       " [0, 3, 3, ['ADDRESS'], '123 main st'],\n",
       " [3, 6, 3, ['POBOX'], 'po box 456'],\n",
       " [4, 6, 2, ['POBOX'], 'box 456'],\n",
       " [5, 6, 1, ['SUITE'], '456'],\n",
       " [6, 8, 2, ['SUITE'], 'suite 100'],\n",
       " [7, 8, 1, ['SUITE'], '100']]"
      ]
     },
     "execution_count": 4,
     "metadata": {},
     "output_type": "execute_result"
    }
   ],
   "source": [
    "ph.get_markers(ph.seq, \"123 main st po box 456 suite 100\", ['ADDRESS', 'POBOX', 'SUITE'])\n"
   ]
  },
  {
   "cell_type": "code",
   "execution_count": 5,
   "metadata": {},
   "outputs": [
    {
     "data": {
      "text/plain": [
       "['SUITE']"
      ]
     },
     "execution_count": 5,
     "metadata": {},
     "output_type": "execute_result"
    }
   ],
   "source": [
    "def get_interpretation(seq, arr_words, arr_search_keys):\n",
    "    \"\"\"INPUT: ['123', 'main']\"\"\"\n",
    "    t1_encoded = ph.encode_from_word_list(arr_words)\n",
    "    #print(\"encoded: \" ,t1_encoded)\n",
    "    seq.look_ahead(t1_encoded)\n",
    "    next_values = seq.get_next_values()\n",
    "    #print(\"returning \", next_values)\n",
    "    return [search_key for search_key in arr_search_keys if search_key in next_values]\n",
    "\n",
    "#get_interpretation(seq, w(\"123 martin luther king jr\"))\n",
    "get_interpretation(ph.seq, ph.w(\"suite 100\"), ['ADDRESS', 'POBOX', 'SUITE'])"
   ]
  },
  {
   "cell_type": "code",
   "execution_count": 37,
   "metadata": {},
   "outputs": [
    {
     "name": "stdout",
     "output_type": "stream",
     "text": [
      "[['ADDRESS'], ['SUITE']]\n"
     ]
    },
    {
     "data": {
      "text/plain": [
       "([1, 2, 3, 4, -1, 2],\n",
       " [['SUITE'], ['SUITE'], ['ADDRESS'], ['ADDRESS'], '', ['SUITE']],\n",
       " [['ADDRESS'], ['SUITE']],\n",
       " [(['ADDRESS'], '901 s bolmar st'), (['SUITE'], '# a')])"
      ]
     },
     "execution_count": 37,
     "metadata": {},
     "output_type": "execute_result"
    }
   ],
   "source": [
    "def decompose_into_dictionary_words(domain, _seq, types):\n",
    "    last_length = [-1] * len(domain)\n",
    "    last_interp = ['']*len(domain)\n",
    "    #print(\"Length Domain: \", len(domain))\n",
    "    for i in range(len(domain)):\n",
    "        #print(\"INPUT TO GET_INTERPRETATION: \", domain[:i + 1])\n",
    "        inter1 = get_interpretation(_seq, domain[:i + 1], types)\n",
    "        if any([ret_type in types for ret_type in inter1]):\n",
    "            #print(\"HIT A\")\n",
    "            last_interp[i] = [hit for hit in inter1 if hit in types]\n",
    "            last_length[i] = i + 1\n",
    "            \n",
    "        if last_length[i] == -1:\n",
    "            for j in range(i):\n",
    "                inter2 = get_interpretation(_seq, domain[j + 1:i + 1], types)\n",
    "                #print(\"SUB INPUT for INTERPRET: \", domain[j+1:i+1], inter2, last_length[j])\n",
    "                #if last_length[j] != -1 and any([ret_type in types for ret_type in inter2]):\n",
    "                if any([ret_type in types for ret_type in inter2]):\n",
    "                    #print('HIT B')\n",
    "                    last_interp[i] = [hit for hit in inter2 if hit in types]\n",
    "                    last_length[i] = i - j\n",
    "                    break\n",
    "        #print(\"last_length: \", last_length)\n",
    "        #print(\"last_interp: \", last_interp)\n",
    "    #return last_length, last_interp\n",
    "    #print(\"last_length: \", last_length)\n",
    "    #print(\"last_interp: \", last_interp)\n",
    "    #print(\"BEGIN DECOMPOSITON PHASE\")\n",
    "    decompositions = []\n",
    "    components = []\n",
    "    #if last_length[-1] != -1:\n",
    "    idx = len(domain) - 1\n",
    "    while idx >= 0:\n",
    "        #print(\"idx: \", idx)\n",
    "        decompositions.append(last_interp[idx]) #domain[idx + 1 - last_length[idx]:idx + 1])\n",
    "        components.append((last_interp[idx], \" \".join(domain[idx + 1 - last_length[idx]:idx + 1])))\n",
    "        if last_length[idx] == -1:\n",
    "            idx -= 1\n",
    "            continue\n",
    "        idx -= last_length[idx]\n",
    "    decompositions = decompositions[::-1]\n",
    "    components = components[::-1]\n",
    "    print(decompositions)\n",
    "    return last_length, last_interp, decompositions, components\n",
    "\n",
    "decompose_into_dictionary_words(ph.w(\"901 S BOLMAR ST # A\".lower()), ph.seq, ['ADDRESS', 'POBOX', 'SUITE', 'ATTN'])"
   ]
  },
  {
   "cell_type": "code",
   "execution_count": 42,
   "metadata": {},
   "outputs": [
    {
     "name": "stdout",
     "output_type": "stream",
     "text": [
      "[['ADDRESS'], ['SUITE']]\n",
      "[(['ADDRESS'], '901 s bolmar st'), (['SUITE'], '# a')]\n"
     ]
    },
    {
     "data": {
      "text/plain": [
       "''"
      ]
     },
     "execution_count": 42,
     "metadata": {},
     "output_type": "execute_result"
    }
   ],
   "source": [
    "def return_max_address2(seq, sent):\n",
    "    kinds = ['ADDRESS', 'POBOX', 'SUITE']\n",
    "    decomposition = decompose_into_dictionary_words(ph.w(sent.lower()), seq, kinds)\n",
    "    found_tuples = decomposition[3]\n",
    "    print(found_tuples)\n",
    "    return ''\n",
    "    max_address = []\n",
    "    for kindof, value in found_tuples:\n",
    "        if kindof[0] in kinds:\n",
    "            max_address.append(value)\n",
    "    return \" \".join(max_address)\n",
    "            \n",
    "return_max_address2(ph.seq, \"901 S BOLMAR ST # A\")"
   ]
  },
  {
   "cell_type": "code",
   "execution_count": 43,
   "metadata": {},
   "outputs": [
    {
     "data": {
      "text/plain": [
       "[[0, 3, 3, ['ADDRESS'], '901 s bolmar'],\n",
       " [0, 4, 4, ['ADDRESS'], '901 s bolmar st']]"
      ]
     },
     "execution_count": 43,
     "metadata": {},
     "output_type": "execute_result"
    }
   ],
   "source": [
    "ph.get_markers(ph.seq, \"901 s bolmar st # a\", ['ADDRESS', 'ATTN'])"
   ]
  }
 ],
 "metadata": {
  "kernelspec": {
   "display_name": "Python 3",
   "language": "python",
   "name": "python3"
  },
  "language_info": {
   "codemirror_mode": {
    "name": "ipython",
    "version": 3
   },
   "file_extension": ".py",
   "mimetype": "text/x-python",
   "name": "python",
   "nbconvert_exporter": "python",
   "pygments_lexer": "ipython3",
   "version": "3.4.3"
  }
 },
 "nbformat": 4,
 "nbformat_minor": 2
}
