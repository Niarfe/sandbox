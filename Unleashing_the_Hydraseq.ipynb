{
 "cells": [
  {
   "cell_type": "code",
   "execution_count": 1,
   "metadata": {},
   "outputs": [],
   "source": [
    "import phrase_entity_extraction as ph"
   ]
  },
  {
   "cell_type": "code",
   "execution_count": 11,
   "metadata": {},
   "outputs": [
    {
     "name": "stdout",
     "output_type": "stream",
     "text": [
      "best_fit:  []\n",
      "sweets:  [] POBOX\n",
      "best_fit:  []\n",
      "sweets:  [[0, 3, 3, ['ADDRESS'], '111 center park']] ADDRESS\n",
      "we are on\n",
      "best_fit:  [[0, 3, 3, ['ADDRESS'], '111 center park']]\n",
      "sweets:  [] ATTN\n",
      "best_fit:  [[0, 3, 3, ['ADDRESS'], '111 center park']]\n",
      "sweets:  [[0, 1, 1, ['SUITE'], '111'], [5, 6, 1, ['SUITE'], '210'], [4, 6, 2, ['SUITE'], 'ste 210']] SUITE\n",
      "we are on\n",
      "best_fit:  [[0, 3, 3, ['ADDRESS'], '111 center park'], [4, 6, 2, ['SUITE'], 'ste 210']]\n",
      "sweets:  [] _DIR_\n",
      "[[0, 3, 3, ['ADDRESS'], '111 center park'], [4, 6, 2, ['SUITE'], 'ste 210']]\n",
      "best_fit:  []\n",
      "sweets:  [] POBOX\n",
      "best_fit:  []\n",
      "sweets:  [[0, 3, 3, ['ADDRESS'], '111 center park']] ADDRESS\n",
      "we are on\n",
      "best_fit:  [[0, 3, 3, ['ADDRESS'], '111 center park']]\n",
      "sweets:  [] ATTN\n",
      "best_fit:  [[0, 3, 3, ['ADDRESS'], '111 center park']]\n",
      "sweets:  [[0, 1, 1, ['SUITE'], '111'], [5, 6, 1, ['SUITE'], '210'], [4, 6, 2, ['SUITE'], 'ste 210']] SUITE\n",
      "we are on\n",
      "best_fit:  [[0, 3, 3, ['ADDRESS'], '111 center park'], [4, 6, 2, ['SUITE'], 'ste 210']]\n",
      "sweets:  [] _DIR_\n",
      "HERE:  111 center park ste 210\n"
     ]
    }
   ],
   "source": [
    "sent = \"111 CENTER PARK DRIVE STE 210\".lower()\n",
    "\n",
    "def return_best_fit(seq, sent):\n",
    "    def get_sorted_entity(_markers, entity):\n",
    "        entities = [arr for arr in _markers if arr[3][0] == entity]\n",
    "        entities.sort(key=lambda x: int(x[2]))\n",
    "        return entities\n",
    "    def entitys_overlap(ent1, ent2):\n",
    "        if ent1[1] <= ent2[0] or ent2[1] <= ent1[0]:\n",
    "            return False\n",
    "        else:\n",
    "            return True\n",
    "    def add_next(markers, best_fit, entity):\n",
    "        suites = get_sorted_entity(markers, entity)\n",
    "        print(\"sweets: \", suites, entity)\n",
    "        idx = len(suites) - 1\n",
    "#         if not best_fit and idx == 0:\n",
    "#             best_fit.append(suites[idx])\n",
    "#             return best_fit\n",
    "        while idx >= 0:\n",
    "            print(\"we are on\")\n",
    "\n",
    "            if not any([entitys_overlap(item, suites[idx]) for item in best_fit]):\n",
    "                best_fit.append(suites[idx])\n",
    "                break\n",
    "            else:\n",
    "                idx -= 1\n",
    "        return best_fit\n",
    "    markers = ph.get_markers(ph.seq, sent, ['ADDRESS', 'POBOX', 'SUITE', 'ATTN','_DIR_'])\n",
    "    best_fit = []\n",
    "    for nugget in ['POBOX', 'ADDRESS', 'ATTN', 'SUITE','_DIR_']:\n",
    "        print(\"best_fit: \", best_fit)\n",
    "        best_fit = add_next(markers, best_fit, nugget)\n",
    "\n",
    "    best_fit.sort(key=lambda x: int(x[0]))\n",
    "    return best_fit\n",
    "\n",
    "result = return_best_fit(ph.seq, sent)\n",
    "print(result)\n",
    "def return_max_address3(seq, sent):\n",
    "    results = return_best_fit(seq,sent)\n",
    "    addresses = []\n",
    "    for result in results:\n",
    "        if result[3][0] in ['ADDRESS', 'SUITE', '_DIR_']:\n",
    "            addresses.append(result[4])\n",
    "    if not addresses:\n",
    "        if result[3][0] in ['POBOX']:\n",
    "            addresses.append(result[4])\n",
    "    return \" \".join(addresses)\n",
    "print(\"HERE: \",return_max_address3(ph.seq, sent))"
   ]
  },
  {
   "cell_type": "code",
   "execution_count": 12,
   "metadata": {},
   "outputs": [
    {
     "data": {
      "text/plain": [
       "[[0, 1, 1, ['SUITE'], '111'],\n",
       " [0, 3, 3, ['ADDRESS'], '111 center park'],\n",
       " [4, 6, 2, ['SUITE'], 'ste 210'],\n",
       " [5, 6, 1, ['SUITE'], '210']]"
      ]
     },
     "execution_count": 12,
     "metadata": {},
     "output_type": "execute_result"
    }
   ],
   "source": [
    "ph.get_markers(ph.seq, sent, ['ADDRESS', 'SUITE','POBOX', 'ATTN','_DIR_'])"
   ]
  },
  {
   "cell_type": "code",
   "execution_count": 4,
   "metadata": {},
   "outputs": [
    {
     "data": {
      "text/plain": [
       "[]"
      ]
     },
     "execution_count": 4,
     "metadata": {},
     "output_type": "execute_result"
    }
   ],
   "source": [
    "def get_interpretation(seq, arr_words, arr_search_keys):\n",
    "    \"\"\"INPUT: ['123', 'main']\"\"\"\n",
    "    t1_encoded = ph.encode_from_word_list(arr_words)\n",
    "    #print(\"encoded: \" ,t1_encoded)\n",
    "    seq.look_ahead(t1_encoded)\n",
    "    next_values = seq.get_next_values()\n",
    "    #print(\"returning \", next_values)\n",
    "    return [search_key for search_key in arr_search_keys if search_key in next_values]\n",
    "\n",
    "#get_interpretation(seq, w(\"123 martin luther king jr\"))\n",
    "get_interpretation(ph.seq, ph.w(sent), ['ADDRESS', 'POBOX', 'SUITE','DIR'])"
   ]
  },
  {
   "cell_type": "code",
   "execution_count": 5,
   "metadata": {},
   "outputs": [
    {
     "name": "stdout",
     "output_type": "stream",
     "text": [
      "last_length:  [1, -1, 3, 4, -1]\n",
      "last_interp:  [['SUITE'], '', ['ADDRESS'], ['ADDRESS'], '']\n",
      "index:  3  range:  4  last  3  <?  3\n",
      "index:  2  range:  3  last  -1  <?  2\n",
      "index:  1  range:  2  last  1  <?  1\n",
      "index:  3  range:  4  last  3  <?  3\n",
      "index:  2  range:  3  last  -1  <?  2\n",
      "index:  1  range:  2  last  1  <?  1\n",
      "Decompositions:  [['ADDRESS'], '']\n"
     ]
    },
    {
     "data": {
      "text/plain": [
       "([1, -1, 3, 4, -1],\n",
       " [['SUITE'], '', ['ADDRESS'], ['ADDRESS'], ''],\n",
       " [['ADDRESS'], ''],\n",
       " [(['ADDRESS'], '1383 village park dr'), ('', '')])"
      ]
     },
     "execution_count": 5,
     "metadata": {},
     "output_type": "execute_result"
    }
   ],
   "source": [
    "def index_tail(lst):\n",
    "    \"\"\"Return the 0 based index of last element in lst\"\"\"\n",
    "    return len(lst) - 1\n",
    "def validate_back_jump(last_length, idx):\n",
    "    \"\"\"Validate jumping back to start of sequence, check if any other back sequence is in the way\"\"\"\n",
    "    current_range = last_length[idx]\n",
    "    while current_range > 1:\n",
    "        print(\"index: \", idx, \" range: \", current_range, \" last \", last_length[idx-1], \" <? \", current_range -1)\n",
    "        if last_length[idx-1] <= current_range - 1:\n",
    "            current_range -= 1\n",
    "            idx -= 1\n",
    "            continue\n",
    "        else:\n",
    "            return False\n",
    "    return True\n",
    "\n",
    "\n",
    "def decompose_into_dictionary_words(domain, _seq, types):\n",
    "    last_length = [-1] * len(domain)\n",
    "    last_interp = ['']*len(domain)\n",
    "    #print(\"Length Domain: \", len(domain))\n",
    "    for i in range(len(domain)):\n",
    "        #print(\"INPUT TO GET_INTERPRETATION: \", domain[:i + 1])\n",
    "        inter1 = get_interpretation(_seq, domain[:i + 1], types)\n",
    "        if any([ret_type in types for ret_type in inter1]):\n",
    "            #print(\"HIT A\")\n",
    "            last_interp[i] = [hit for hit in inter1 if hit in types]\n",
    "            last_length[i] = i + 1\n",
    "            \n",
    "        if last_length[i] == -1:\n",
    "            for j in range(i):\n",
    "                inter2 = get_interpretation(_seq, domain[j + 1:i + 1], types)\n",
    "                #print(\"SUB INPUT for INTERPRET: \", domain[j+1:i+1], inter2, last_length[j])\n",
    "                #if last_length[j] != -1 and any([ret_type in types for ret_type in inter2]):\n",
    "                if any([ret_type in types for ret_type in inter2]):\n",
    "                    #print('HIT B')\n",
    "                    last_interp[i] = [hit for hit in inter2 if hit in types]\n",
    "                    last_length[i] = i - j\n",
    "                    break\n",
    "        #print(\"last_length: \", last_length)\n",
    "        #print(\"last_interp: \", last_interp)\n",
    "    #return last_length, last_interp\n",
    "    print(\"last_length: \", last_length)\n",
    "    print(\"last_interp: \", last_interp)\n",
    "    #print(\"BEGIN DECOMPOSITON PHASE\")\n",
    "    decompositions = []\n",
    "    components = []\n",
    "\n",
    "    idx = index_tail(domain)\n",
    "    while idx >= 0:\n",
    "        #print(\"idx: \", idx)\n",
    "        if validate_back_jump(last_length, idx):\n",
    "            decompositions.append(last_interp[idx])\n",
    "            components.append((last_interp[idx], \" \".join(domain[idx + 1 - last_length[idx]:idx + 1])))\n",
    "        if last_length[idx] == -1:\n",
    "            idx -= 1\n",
    "            continue\n",
    "        if validate_back_jump(last_length, idx):\n",
    "            idx -= last_length[idx]\n",
    "        else:\n",
    "            idx -= 1\n",
    "    decompositions = decompositions[::-1]\n",
    "    components = components[::-1]\n",
    "    print(\"Decompositions: \", decompositions)\n",
    "    return last_length, last_interp, decompositions, components\n",
    "\n",
    "decompose_into_dictionary_words(ph.w(sent.lower()), ph.seq, ['ADDRESS', 'POBOX', 'SUITE', 'ATTN'])"
   ]
  },
  {
   "cell_type": "code",
   "execution_count": 6,
   "metadata": {},
   "outputs": [
    {
     "name": "stdout",
     "output_type": "stream",
     "text": [
      "last_length:  [1, -1, 3, 4, -1]\n",
      "last_interp:  [['SUITE'], '', ['ADDRESS'], ['ADDRESS'], '']\n",
      "index:  3  range:  4  last  3  <?  3\n",
      "index:  2  range:  3  last  -1  <?  2\n",
      "index:  1  range:  2  last  1  <?  1\n",
      "index:  3  range:  4  last  3  <?  3\n",
      "index:  2  range:  3  last  -1  <?  2\n",
      "index:  1  range:  2  last  1  <?  1\n",
      "Decompositions:  [['ADDRESS'], '']\n"
     ]
    },
    {
     "data": {
      "text/plain": [
       "'1383 VILLAGE PARK DR'"
      ]
     },
     "execution_count": 6,
     "metadata": {},
     "output_type": "execute_result"
    }
   ],
   "source": [
    "def return_max_address2(seq, sent):\n",
    "    kinds = ['ADDRESS', 'POBOX', 'SUITE']\n",
    "    decomposition = decompose_into_dictionary_words(ph.w(sent.lower()), seq, kinds)\n",
    "    found_tuples = decomposition[3]\n",
    "    max_address = []\n",
    "    for kindof, value in found_tuples:\n",
    "        if kindof and kindof[0] in kinds:\n",
    "            max_address.append(value)\n",
    "    return \" \".join(max_address).upper()\n",
    "            \n",
    "return_max_address2(ph.seq, sent)"
   ]
  },
  {
   "cell_type": "code",
   "execution_count": 7,
   "metadata": {},
   "outputs": [
    {
     "data": {
      "text/plain": [
       "[[['ALNUM']],\n",
       " [['DIGIT']],\n",
       " [['DIGIT'], ['DIR']],\n",
       " [['APT'], ['DIGIT'], ['DIR']],\n",
       " [['NUMS_1AL']],\n",
       " [['DIGDASH']],\n",
       " [['LETTER']],\n",
       " [['APT_NUM']],\n",
       " [['POUNDDIG']],\n",
       " [['NTH'], ['APT']],\n",
       " [['APT'], ['ALPHA']],\n",
       " [['APT'], ['ALNUM']],\n",
       " [['APT'], ['DIGIT']],\n",
       " [['APT'], ['DIGIT'], ['APT'], ['ALNUM']],\n",
       " [['APT'], ['DIGIT'], ['DIGIT']],\n",
       " [['APT'], ['LETTER'], ['DIGIT']],\n",
       " [['APT'], ['LETTER'], ['APT'], ['DIGIT']],\n",
       " [['APT'], ['POUND'], ['DIGIT']],\n",
       " [['APT'], ['DIGIT'], ['APT'], ['DIGIT']],\n",
       " [['APT'], ['DIGDASH']],\n",
       " [['APT'], ['DIGDASHAL']],\n",
       " [['APT'], ['LETTER']],\n",
       " [['APT'], ['NUMS_1AL']],\n",
       " [['POUND'], ['ALPHA']],\n",
       " [['POUND'], ['ALNUM']],\n",
       " [['POUND'], ['DIGIT']],\n",
       " [['DIGIT'], ['DIR'], ['POUND'], ['DIGIT']],\n",
       " [['POUND'], ['DIGDASH']],\n",
       " [['POUND'], ['DIGDASHAL']],\n",
       " [['POUND'], ['LETTER']],\n",
       " [['POUND'], ['NUMS_1AL']]]"
      ]
     },
     "execution_count": 7,
     "metadata": {},
     "output_type": "execute_result"
    }
   ],
   "source": [
    "ph.suite_sequences"
   ]
  }
 ],
 "metadata": {
  "kernelspec": {
   "display_name": "Python 3",
   "language": "python",
   "name": "python3"
  },
  "language_info": {
   "codemirror_mode": {
    "name": "ipython",
    "version": 3
   },
   "file_extension": ".py",
   "mimetype": "text/x-python",
   "name": "python",
   "nbconvert_exporter": "python",
   "pygments_lexer": "ipython3",
   "version": "3.6.4"
  }
 },
 "nbformat": 4,
 "nbformat_minor": 2
}
