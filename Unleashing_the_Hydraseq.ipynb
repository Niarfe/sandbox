{
 "cells": [
  {
   "cell_type": "code",
   "execution_count": 1,
   "metadata": {},
   "outputs": [],
   "source": [
    "import phrase_entity_extraction as ph"
   ]
  },
  {
   "cell_type": "code",
   "execution_count": 2,
   "metadata": {},
   "outputs": [
    {
     "data": {
      "text/plain": [
       "uuid: input\n",
       "n_init: <node: (*),(*)>:\n",
       "active values: []\n",
       "next values: []"
      ]
     },
     "execution_count": 2,
     "metadata": {},
     "output_type": "execute_result"
    }
   ],
   "source": [
    "ph.seq.look_ahead([['ADR_HEAD']])"
   ]
  },
  {
   "cell_type": "code",
   "execution_count": 3,
   "metadata": {},
   "outputs": [
    {
     "data": {
      "text/plain": [
       "'123 MAIN ST'"
      ]
     },
     "execution_count": 3,
     "metadata": {},
     "output_type": "execute_result"
    }
   ],
   "source": [
    "ph.return_max_address(ph.seq, \"123 main st\")"
   ]
  },
  {
   "cell_type": "code",
   "execution_count": 24,
   "metadata": {},
   "outputs": [
    {
     "data": {
      "text/plain": [
       "[[0, 1, 1, ['SUITE'], '10000'],\n",
       " [0, 2, 2, ['ADDRESS'], '10000 coors'],\n",
       " [0, 3, 3, ['ADDRESS'], '10000 coors bypass']]"
      ]
     },
     "execution_count": 24,
     "metadata": {},
     "output_type": "execute_result"
    }
   ],
   "source": [
    "ph.get_markers(ph.seq, \"10000 COORS BYPASS NW\", ['ADDRESS', 'POBOX', 'SUITE'])"
   ]
  },
  {
   "cell_type": "code",
   "execution_count": 25,
   "metadata": {},
   "outputs": [
    {
     "data": {
      "text/plain": [
       "['SUITE', 'DIR']"
      ]
     },
     "execution_count": 25,
     "metadata": {},
     "output_type": "execute_result"
    }
   ],
   "source": [
    "def get_interpretation(seq, arr_words, arr_search_keys):\n",
    "    \"\"\"INPUT: ['123', 'main']\"\"\"\n",
    "    t1_encoded = ph.encode_from_word_list(arr_words)\n",
    "    #print(\"encoded: \" ,t1_encoded)\n",
    "    seq.look_ahead(t1_encoded)\n",
    "    next_values = seq.get_next_values()\n",
    "    #print(\"returning \", next_values)\n",
    "    return [search_key for search_key in arr_search_keys if search_key in next_values]\n",
    "\n",
    "#get_interpretation(seq, w(\"123 martin luther king jr\"))\n",
    "get_interpretation(ph.seq, ph.w(\"suite 100\"), ['ADDRESS', 'POBOX', 'SUITE','DIR'])"
   ]
  },
  {
   "cell_type": "code",
   "execution_count": 28,
   "metadata": {},
   "outputs": [
    {
     "name": "stdout",
     "output_type": "stream",
     "text": [
      "[['SUITE'], '', ['SUITE']]\n"
     ]
    },
    {
     "data": {
      "text/plain": [
       "([1, -1, 3, 2],\n",
       " [['SUITE'], '', ['ADDRESS'], ['SUITE']],\n",
       " [['SUITE'], '', ['SUITE']],\n",
       " [(['SUITE'], '1209'), ('', ''), (['SUITE'], '144 n')])"
      ]
     },
     "execution_count": 28,
     "metadata": {},
     "output_type": "execute_result"
    }
   ],
   "source": [
    "def decompose_into_dictionary_words(domain, _seq, types):\n",
    "    last_length = [-1] * len(domain)\n",
    "    last_interp = ['']*len(domain)\n",
    "    #print(\"Length Domain: \", len(domain))\n",
    "    for i in range(len(domain)):\n",
    "        #print(\"INPUT TO GET_INTERPRETATION: \", domain[:i + 1])\n",
    "        inter1 = get_interpretation(_seq, domain[:i + 1], types)\n",
    "        if any([ret_type in types for ret_type in inter1]):\n",
    "            #print(\"HIT A\")\n",
    "            last_interp[i] = [hit for hit in inter1 if hit in types]\n",
    "            last_length[i] = i + 1\n",
    "            \n",
    "        if last_length[i] == -1:\n",
    "            for j in range(i):\n",
    "                inter2 = get_interpretation(_seq, domain[j + 1:i + 1], types)\n",
    "                #print(\"SUB INPUT for INTERPRET: \", domain[j+1:i+1], inter2, last_length[j])\n",
    "                #if last_length[j] != -1 and any([ret_type in types for ret_type in inter2]):\n",
    "                if any([ret_type in types for ret_type in inter2]):\n",
    "                    #print('HIT B')\n",
    "                    last_interp[i] = [hit for hit in inter2 if hit in types]\n",
    "                    last_length[i] = i - j\n",
    "                    break\n",
    "        #print(\"last_length: \", last_length)\n",
    "        #print(\"last_interp: \", last_interp)\n",
    "    #return last_length, last_interp\n",
    "    #print(\"last_length: \", last_length)\n",
    "    #print(\"last_interp: \", last_interp)\n",
    "    #print(\"BEGIN DECOMPOSITON PHASE\")\n",
    "    decompositions = []\n",
    "    components = []\n",
    "    #if last_length[-1] != -1:\n",
    "    idx = len(domain) - 1\n",
    "    while idx >= 0:\n",
    "        #print(\"idx: \", idx)\n",
    "        decompositions.append(last_interp[idx]) #domain[idx + 1 - last_length[idx]:idx + 1])\n",
    "        components.append((last_interp[idx], \" \".join(domain[idx + 1 - last_length[idx]:idx + 1])))\n",
    "        if last_length[idx] == -1:\n",
    "            idx -= 1\n",
    "            continue\n",
    "        idx -= last_length[idx]\n",
    "    decompositions = decompositions[::-1]\n",
    "    components = components[::-1]\n",
    "    print(decompositions)\n",
    "    return last_length, last_interp, decompositions, components\n",
    "\n",
    "decompose_into_dictionary_words(ph.w(\"1209 HWY 144 N\".lower()), ph.seq, ['ADDRESS', 'POBOX', 'SUITE', 'ATTN'])"
   ]
  },
  {
   "cell_type": "code",
   "execution_count": 27,
   "metadata": {},
   "outputs": [
    {
     "name": "stdout",
     "output_type": "stream",
     "text": [
      "[['SUITE'], '', ['SUITE']]\n"
     ]
    },
    {
     "data": {
      "text/plain": [
       "'1209 144 N'"
      ]
     },
     "execution_count": 27,
     "metadata": {},
     "output_type": "execute_result"
    }
   ],
   "source": [
    "def return_max_address2(seq, sent):\n",
    "    kinds = ['ADDRESS', 'POBOX', 'SUITE']\n",
    "    decomposition = decompose_into_dictionary_words(ph.w(sent.lower()), seq, kinds)\n",
    "    found_tuples = decomposition[3]\n",
    "    max_address = []\n",
    "    for kindof, value in found_tuples:\n",
    "        if kindof and kindof[0] in kinds:\n",
    "            max_address.append(value)\n",
    "    return \" \".join(max_address).upper()\n",
    "            \n",
    "return_max_address2(ph.seq, \"1209 HWY 144 N\")"
   ]
  },
  {
   "cell_type": "code",
   "execution_count": 20,
   "metadata": {},
   "outputs": [
    {
     "data": {
      "text/plain": [
       "[[0, 2, 2, ['ADDRESS'], '10000 coors'],\n",
       " [0, 3, 3, ['ADDRESS'], '10000 coors bypass']]"
      ]
     },
     "execution_count": 20,
     "metadata": {},
     "output_type": "execute_result"
    }
   ],
   "source": [
    "ph.get_markers(ph.seq, \"10000 COORS BYPASS NW\", ['ADDRESS', 'ATTN'])"
   ]
  }
 ],
 "metadata": {
  "kernelspec": {
   "display_name": "Python 3",
   "language": "python",
   "name": "python3"
  },
  "language_info": {
   "codemirror_mode": {
    "name": "ipython",
    "version": 3
   },
   "file_extension": ".py",
   "mimetype": "text/x-python",
   "name": "python",
   "nbconvert_exporter": "python",
   "pygments_lexer": "ipython3",
   "version": "3.4.3"
  }
 },
 "nbformat": 4,
 "nbformat_minor": 2
}
